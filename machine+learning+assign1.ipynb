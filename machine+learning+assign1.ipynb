{
 "cells": [
  {
   "cell_type": "code",
   "execution_count": 1,
   "metadata": {},
   "outputs": [],
   "source": [
    "import pandas as pd"
   ]
  },
  {
   "cell_type": "code",
   "execution_count": 2,
   "metadata": {},
   "outputs": [],
   "source": [
    "import os"
   ]
  },
  {
   "cell_type": "code",
   "execution_count": 3,
   "metadata": {},
   "outputs": [],
   "source": [
    "os.chdir(r'C:\\Users\\Convergytics\\Desktop\\casestudy')"
   ]
  },
  {
   "cell_type": "code",
   "execution_count": 69,
   "metadata": {
    "collapsed": true
   },
   "outputs": [],
   "source": [
    "data=pd.read_csv(\"C:\\\\Users\\\\CA\\\\Downloads\\\\DATA_train.csv\")"
   ]
  },
  {
   "cell_type": "code",
   "execution_count": null,
   "metadata": {},
   "outputs": [],
   "source": [
    "train = pd.read_csv('Train.csv')\n",
    "test = pd.read_csv('test.csv')"
   ]
  },
  {
   "cell_type": "code",
   "execution_count": null,
   "metadata": {},
   "outputs": [],
   "source": [
    "x_train, x_cv, y_train, y_cv = train_test_split(X,train.Item_Outlet_Sales)"
   ]
  },
  {
   "cell_type": "code",
   "execution_count": 70,
   "metadata": {},
   "outputs": [
    {
     "data": {
      "text/plain": [
       "Item_Weight             float64\n",
       "Item_Fat_Content         object\n",
       "Item_Visibility         float64\n",
       "Item_Type                object\n",
       "Item_MRP                float64\n",
       "Outlet_Identifier        object\n",
       "Outlet_Size              object\n",
       "Outlet_Location_Type     object\n",
       "Outlet_Type              object\n",
       "Item_Outlet_Sales       float64\n",
       "year                      int64\n",
       "dtype: object"
      ]
     },
     "execution_count": 70,
     "metadata": {},
     "output_type": "execute_result"
    }
   ],
   "source": [
    "data.dtypes"
   ]
  },
  {
   "cell_type": "code",
   "execution_count": 71,
   "metadata": {
    "scrolled": true
   },
   "outputs": [
    {
     "name": "stdout",
     "output_type": "stream",
     "text": [
      "<class 'pandas.core.frame.DataFrame'>\n",
      "RangeIndex: 6818 entries, 0 to 6817\n",
      "Data columns (total 11 columns):\n",
      "Item_Weight             6818 non-null float64\n",
      "Item_Fat_Content        6818 non-null object\n",
      "Item_Visibility         6818 non-null float64\n",
      "Item_Type               6818 non-null object\n",
      "Item_MRP                6818 non-null float64\n",
      "Outlet_Identifier       6818 non-null object\n",
      "Outlet_Size             6818 non-null object\n",
      "Outlet_Location_Type    6818 non-null object\n",
      "Outlet_Type             6818 non-null object\n",
      "Item_Outlet_Sales       6818 non-null float64\n",
      "year                    6818 non-null int64\n",
      "dtypes: float64(4), int64(1), object(6)\n",
      "memory usage: 586.0+ KB\n"
     ]
    }
   ],
   "source": [
    "data.info()"
   ]
  },
  {
   "cell_type": "code",
   "execution_count": 6,
   "metadata": {},
   "outputs": [
    {
     "data": {
      "text/html": [
       "<div>\n",
       "<table border=\"1\" class=\"dataframe\">\n",
       "  <thead>\n",
       "    <tr style=\"text-align: right;\">\n",
       "      <th></th>\n",
       "      <th>Item_Weight</th>\n",
       "      <th>Item_Visibility</th>\n",
       "      <th>Item_MRP</th>\n",
       "      <th>Item_Outlet_Sales</th>\n",
       "      <th>year</th>\n",
       "    </tr>\n",
       "  </thead>\n",
       "  <tbody>\n",
       "    <tr>\n",
       "      <th>count</th>\n",
       "      <td>6818.000000</td>\n",
       "      <td>6818.000000</td>\n",
       "      <td>6818.000000</td>\n",
       "      <td>6818.000000</td>\n",
       "      <td>6818.000000</td>\n",
       "    </tr>\n",
       "    <tr>\n",
       "      <th>mean</th>\n",
       "      <td>12.901431</td>\n",
       "      <td>0.070175</td>\n",
       "      <td>140.961302</td>\n",
       "      <td>2177.565011</td>\n",
       "      <td>15.173951</td>\n",
       "    </tr>\n",
       "    <tr>\n",
       "      <th>std</th>\n",
       "      <td>4.239785</td>\n",
       "      <td>0.048938</td>\n",
       "      <td>62.516177</td>\n",
       "      <td>1705.407060</td>\n",
       "      <td>8.387296</td>\n",
       "    </tr>\n",
       "    <tr>\n",
       "      <th>min</th>\n",
       "      <td>4.555000</td>\n",
       "      <td>0.003589</td>\n",
       "      <td>31.290000</td>\n",
       "      <td>33.290000</td>\n",
       "      <td>4.000000</td>\n",
       "    </tr>\n",
       "    <tr>\n",
       "      <th>25%</th>\n",
       "      <td>9.395000</td>\n",
       "      <td>0.033020</td>\n",
       "      <td>93.344250</td>\n",
       "      <td>825.425550</td>\n",
       "      <td>9.000000</td>\n",
       "    </tr>\n",
       "    <tr>\n",
       "      <th>50%</th>\n",
       "      <td>12.913153</td>\n",
       "      <td>0.062109</td>\n",
       "      <td>142.798300</td>\n",
       "      <td>1794.331000</td>\n",
       "      <td>14.000000</td>\n",
       "    </tr>\n",
       "    <tr>\n",
       "      <th>75%</th>\n",
       "      <td>16.100000</td>\n",
       "      <td>0.094488</td>\n",
       "      <td>186.050300</td>\n",
       "      <td>3095.637100</td>\n",
       "      <td>26.000000</td>\n",
       "    </tr>\n",
       "    <tr>\n",
       "      <th>max</th>\n",
       "      <td>21.350000</td>\n",
       "      <td>0.325781</td>\n",
       "      <td>266.888400</td>\n",
       "      <td>12117.560000</td>\n",
       "      <td>28.000000</td>\n",
       "    </tr>\n",
       "  </tbody>\n",
       "</table>\n",
       "</div>"
      ],
      "text/plain": [
       "       Item_Weight  Item_Visibility     Item_MRP  Item_Outlet_Sales  \\\n",
       "count  6818.000000      6818.000000  6818.000000        6818.000000   \n",
       "mean     12.901431         0.070175   140.961302        2177.565011   \n",
       "std       4.239785         0.048938    62.516177        1705.407060   \n",
       "min       4.555000         0.003589    31.290000          33.290000   \n",
       "25%       9.395000         0.033020    93.344250         825.425550   \n",
       "50%      12.913153         0.062109   142.798300        1794.331000   \n",
       "75%      16.100000         0.094488   186.050300        3095.637100   \n",
       "max      21.350000         0.325781   266.888400       12117.560000   \n",
       "\n",
       "              year  \n",
       "count  6818.000000  \n",
       "mean     15.173951  \n",
       "std       8.387296  \n",
       "min       4.000000  \n",
       "25%       9.000000  \n",
       "50%      14.000000  \n",
       "75%      26.000000  \n",
       "max      28.000000  "
      ]
     },
     "execution_count": 6,
     "metadata": {},
     "output_type": "execute_result"
    }
   ],
   "source": [
    "data.describe()"
   ]
  },
  {
   "cell_type": "markdown",
   "metadata": {},
   "source": [
    "###### importing basic libraries"
   ]
  },
  {
   "cell_type": "code",
   "execution_count": 72,
   "metadata": {},
   "outputs": [],
   "source": [
    "import numpy as np\n",
    "import pandas as pd"
   ]
  },
  {
   "cell_type": "code",
   "execution_count": 73,
   "metadata": {
    "collapsed": true
   },
   "outputs": [],
   "source": [
    "from pandas import Series, DataFrame"
   ]
  },
  {
   "cell_type": "code",
   "execution_count": 74,
   "metadata": {},
   "outputs": [],
   "source": [
    "from sklearn.cross_validation import train_test_split"
   ]
  },
  {
   "cell_type": "code",
   "execution_count": 75,
   "metadata": {},
   "outputs": [],
   "source": [
    "Data pre-processing steps for regression model\n",
    "# imputing missing values\n",
    "\n",
    "train['Item_Visibility'] = train['Item_Visibility'].replace(0,np.mean(train['Item_Visibility']))\n",
    "\n",
    "train['Outlet_Establishment_Year'] = 2013 - train['Outlet_Establishment_Year']\n",
    "\n",
    "train['Outlet_Size'].fillna('Small',inplace=True)\n",
    "\n",
    "# creating dummy variables to convert categorical into numeric values\n",
    "\n",
    "mylist = list(train.select_dtypes(include=['object']).columns)\n",
    "\n",
    "dummies = pd.get_dummies(train[mylist], prefix= mylist)\n",
    "\n",
    "train.drop(mylist, axis=1, inplace = True)\n",
    "\n",
    "X = pd.concat([train,dummies], axis =1 )"
   ]
  },
  {
   "cell_type": "markdown",
   "metadata": {},
   "source": [
    "#### splitting into training and cv for cross validation"
   ]
  },
  {
   "cell_type": "code",
   "execution_count": 77,
   "metadata": {
    "collapsed": true
   },
   "outputs": [],
   "source": [
    "x_train, x_cv, y_train, y_cv = train_test_split(X,data.Item_Outlet_Sales)"
   ]
  },
  {
   "cell_type": "markdown",
   "metadata": {},
   "source": [
    "###### importing linear regressionfrom sklearn"
   ]
  },
  {
   "cell_type": "code",
   "execution_count": 78,
   "metadata": {
    "collapsed": true
   },
   "outputs": [],
   "source": [
    "from sklearn.linear_model import LinearRegression"
   ]
  },
  {
   "cell_type": "code",
   "execution_count": 79,
   "metadata": {
    "collapsed": true
   },
   "outputs": [],
   "source": [
    "lreg = LinearRegression()"
   ]
  },
  {
   "cell_type": "markdown",
   "metadata": {},
   "source": [
    "###### training the model"
   ]
  },
  {
   "cell_type": "code",
   "execution_count": 80,
   "metadata": {},
   "outputs": [
    {
     "data": {
      "text/plain": [
       "LinearRegression(copy_X=True, fit_intercept=True, n_jobs=1, normalize=False)"
      ]
     },
     "execution_count": 80,
     "metadata": {},
     "output_type": "execute_result"
    }
   ],
   "source": [
    "lreg.fit(x_train,y_train)"
   ]
  },
  {
   "cell_type": "markdown",
   "metadata": {},
   "source": [
    "###### # predicting on cv, calculating mse, evaluation using r-square"
   ]
  },
  {
   "cell_type": "code",
   "execution_count": 82,
   "metadata": {},
   "outputs": [
    {
     "name": "stdout",
     "output_type": "stream",
     "text": [
      "1406.54550261\n",
      "0.326466784779\n"
     ]
    }
   ],
   "source": [
    "pred_cv = lreg.predict(x_train)\n",
    "mse = np.mean((pred_cv - y_train)**2)\n",
    "rmse=np.sqrt(mse)\n",
    "print(rmse)\n",
    "print(lreg.score(x_train,y_train))"
   ]
  },
  {
   "cell_type": "code",
   "execution_count": 83,
   "metadata": {},
   "outputs": [
    {
     "name": "stdout",
     "output_type": "stream",
     "text": [
      "1354.27240683\n",
      "0.349593471425\n"
     ]
    }
   ],
   "source": [
    "####### test(CV) data\n",
    "pred_cv = lreg.predict(x_cv)\n",
    "mse = np.mean((pred_cv - y_cv)**2)\n",
    "rmse=np.sqrt(mse)\n",
    "print(rmse)\n",
    "print(lreg.score(x_cv,y_cv))"
   ]
  },
  {
   "cell_type": "code",
   "execution_count": 84,
   "metadata": {},
   "outputs": [
    {
     "data": {
      "text/html": [
       "<div>\n",
       "<table border=\"1\" class=\"dataframe\">\n",
       "  <thead>\n",
       "    <tr style=\"text-align: right;\">\n",
       "      <th></th>\n",
       "      <th>0</th>\n",
       "      <th>Coefficient Estimate</th>\n",
       "    </tr>\n",
       "  </thead>\n",
       "  <tbody>\n",
       "    <tr>\n",
       "      <th>0</th>\n",
       "      <td>year</td>\n",
       "      <td>11.419010</td>\n",
       "    </tr>\n",
       "    <tr>\n",
       "      <th>1</th>\n",
       "      <td>Item_MRP</td>\n",
       "      <td>15.605085</td>\n",
       "    </tr>\n",
       "  </tbody>\n",
       "</table>\n",
       "</div>"
      ],
      "text/plain": [
       "          0  Coefficient Estimate\n",
       "0      year             11.419010\n",
       "1  Item_MRP             15.605085"
      ]
     },
     "execution_count": 84,
     "metadata": {},
     "output_type": "execute_result"
    }
   ],
   "source": [
    "# calculating coefficients\n",
    "\n",
    "coeff = DataFrame(x_train.columns)\n",
    "\n",
    "coeff['Coefficient Estimate'] = Series(lreg.coef_)\n",
    "\n",
    "coeff"
   ]
  },
  {
   "cell_type": "code",
   "execution_count": 85,
   "metadata": {},
   "outputs": [
    {
     "data": {
      "text/plain": [
       "LinearRegression(copy_X=True, fit_intercept=True, n_jobs=1, normalize=False)"
      ]
     },
     "execution_count": 85,
     "metadata": {},
     "output_type": "execute_result"
    }
   ],
   "source": [
    "X = data.loc[:,['year','Item_MRP','Item_Weight']]\n",
    "\n",
    "#splitting into training and cv for cross validation\n",
    "\n",
    "x_train, x_cv, y_train, y_cv = train_test_split(X,data.Item_Outlet_Sales)\n",
    "\n",
    "## training the model\n",
    "\n",
    "lreg.fit(x_train,y_train)"
   ]
  },
  {
   "cell_type": "code",
   "execution_count": 86,
   "metadata": {},
   "outputs": [
    {
     "name": "stdout",
     "output_type": "stream",
     "text": [
      "1378.53954907\n",
      "0.330282061796\n",
      "             0  Coefficient Estimate\n",
      "0         year              9.329330\n",
      "1     Item_MRP             15.510458\n",
      "2  Item_Weight              0.888263\n"
     ]
    }
   ],
   "source": [
    "pred_cv = lreg.predict(x_train)\n",
    "mse = np.mean((pred_cv - y_train)**2)\n",
    "rmse=np.sqrt(mse)\n",
    "print(rmse)\n",
    "print(lreg.score(x_train,y_train))\n",
    "\n",
    "coeff = DataFrame(x_train.columns)\n",
    "\n",
    "coeff['Coefficient Estimate'] = Series(lreg.coef_)\n",
    "\n",
    "print(coeff)"
   ]
  },
  {
   "cell_type": "code",
   "execution_count": 88,
   "metadata": {},
   "outputs": [
    {
     "name": "stdout",
     "output_type": "stream",
     "text": [
      "1437.8934878\n",
      "0.337134392433\n"
     ]
    }
   ],
   "source": [
    "#####test\n",
    "pred_cv = lreg.predict(x_cv)\n",
    "mse = np.mean((pred_cv - y_cv)**2)\n",
    "rmse=np.sqrt(mse)\n",
    "print(rmse)\n",
    "print(lreg.score(x_cv,y_cv))"
   ]
  },
  {
   "cell_type": "markdown",
   "metadata": {},
   "source": [
    "###### creating dummy variables to convert categorical into numeric values"
   ]
  },
  {
   "cell_type": "code",
   "execution_count": 89,
   "metadata": {},
   "outputs": [
    {
     "data": {
      "text/plain": [
       "['Item_Fat_Content',\n",
       " 'Item_Type',\n",
       " 'Outlet_Identifier',\n",
       " 'Outlet_Size',\n",
       " 'Outlet_Location_Type',\n",
       " 'Outlet_Type']"
      ]
     },
     "execution_count": 89,
     "metadata": {},
     "output_type": "execute_result"
    }
   ],
   "source": [
    "mylist = list(data.select_dtypes(include=['object']).columns)\n",
    "mylist"
   ]
  },
  {
   "cell_type": "code",
   "execution_count": 90,
   "metadata": {},
   "outputs": [],
   "source": [
    "dummies = pd.get_dummies(data[mylist], prefix= mylist)\n",
    "\n",
    "data.drop(mylist, axis=1, inplace = True)\n",
    "\n",
    "X = pd.concat([data,dummies], axis =1 )"
   ]
  },
  {
   "cell_type": "code",
   "execution_count": 91,
   "metadata": {
    "collapsed": true
   },
   "outputs": [],
   "source": [
    "import matplotlib.pyplot as plt"
   ]
  },
  {
   "cell_type": "code",
   "execution_count": 93,
   "metadata": {
    "collapsed": true
   },
   "outputs": [],
   "source": [
    "X1 = X.drop('Item_Outlet_Sales',1)\n",
    "\n",
    "x_train, x_cv, y_train, y_cv = train_test_split(X1,data.Item_Outlet_Sales, test_size =0.3)"
   ]
  },
  {
   "cell_type": "code",
   "execution_count": 94,
   "metadata": {},
   "outputs": [
    {
     "data": {
      "text/plain": [
       "LinearRegression(copy_X=True, fit_intercept=True, n_jobs=1, normalize=False)"
      ]
     },
     "execution_count": 94,
     "metadata": {},
     "output_type": "execute_result"
    }
   ],
   "source": [
    "lreg.fit(x_train,y_train)"
   ]
  },
  {
   "cell_type": "code",
   "execution_count": 95,
   "metadata": {},
   "outputs": [
    {
     "name": "stdout",
     "output_type": "stream",
     "text": [
      "1115.02113931\n",
      "0.569952066032\n"
     ]
    }
   ],
   "source": [
    "pred_cv = lreg.predict(x_train)\n",
    "mse = np.mean((pred_cv - y_train)**2)\n",
    "print(np.sqrt(mse))\n",
    "print(lreg.score(x_train,y_train))"
   ]
  },
  {
   "cell_type": "code",
   "execution_count": 96,
   "metadata": {},
   "outputs": [
    {
     "name": "stdout",
     "output_type": "stream",
     "text": [
      "1146.88607567\n",
      "0.55351586716\n"
     ]
    }
   ],
   "source": [
    "pred_cv = lreg.predict(x_cv)\n",
    "mse = np.mean((pred_cv - y_cv)**2)\n",
    "print(np.sqrt(mse))\n",
    "print(lreg.score(x_cv,y_cv))"
   ]
  },
  {
   "cell_type": "code",
   "execution_count": 97,
   "metadata": {},
   "outputs": [],
   "source": [
    "import statsmodels.api as sm\n",
    "from scipy import stats"
   ]
  },
  {
   "cell_type": "code",
   "execution_count": 98,
   "metadata": {},
   "outputs": [
    {
     "data": {
      "text/html": [
       "<table class=\"simpletable\">\n",
       "<caption>OLS Regression Results</caption>\n",
       "<tr>\n",
       "  <th>Dep. Variable:</th>    <td>Item_Outlet_Sales</td> <th>  R-squared:         </th> <td>   0.570</td> \n",
       "</tr>\n",
       "<tr>\n",
       "  <th>Model:</th>                   <td>OLS</td>        <th>  Adj. R-squared:    </th> <td>   0.568</td> \n",
       "</tr>\n",
       "<tr>\n",
       "  <th>Method:</th>             <td>Least Squares</td>   <th>  F-statistic:       </th> <td>   232.9</td> \n",
       "</tr>\n",
       "<tr>\n",
       "  <th>Date:</th>             <td>Sun, 21 Apr 2019</td>  <th>  Prob (F-statistic):</th>  <td>  0.00</td>  \n",
       "</tr>\n",
       "<tr>\n",
       "  <th>Time:</th>                 <td>12:54:58</td>      <th>  Log-Likelihood:    </th> <td> -40255.</td> \n",
       "</tr>\n",
       "<tr>\n",
       "  <th>No. Observations:</th>      <td>  4772</td>       <th>  AIC:               </th> <td>8.057e+04</td>\n",
       "</tr>\n",
       "<tr>\n",
       "  <th>Df Residuals:</th>          <td>  4744</td>       <th>  BIC:               </th> <td>8.075e+04</td>\n",
       "</tr>\n",
       "<tr>\n",
       "  <th>Df Model:</th>              <td>    27</td>       <th>                     </th>     <td> </td>    \n",
       "</tr>\n",
       "<tr>\n",
       "  <th>Covariance Type:</th>      <td>nonrobust</td>     <th>                     </th>     <td> </td>    \n",
       "</tr>\n",
       "</table>\n",
       "<table class=\"simpletable\">\n",
       "<tr>\n",
       "                 <td></td>                    <th>coef</th>     <th>std err</th>      <th>t</th>      <th>P>|t|</th> <th>[95.0% Conf. Int.]</th> \n",
       "</tr>\n",
       "<tr>\n",
       "  <th>Item_Weight</th>                     <td>    0.3285</td> <td>    3.872</td> <td>    0.085</td> <td> 0.932</td> <td>   -7.263     7.920</td>\n",
       "</tr>\n",
       "<tr>\n",
       "  <th>Item_Visibility</th>                 <td> -595.3928</td> <td>  352.432</td> <td>   -1.689</td> <td> 0.091</td> <td>-1286.323    95.537</td>\n",
       "</tr>\n",
       "<tr>\n",
       "  <th>Item_MRP</th>                        <td>   15.7394</td> <td>    0.261</td> <td>   60.295</td> <td> 0.000</td> <td>   15.228    16.251</td>\n",
       "</tr>\n",
       "<tr>\n",
       "  <th>year</th>                            <td>    3.9926</td> <td>    2.277</td> <td>    1.753</td> <td> 0.080</td> <td>   -0.472     8.457</td>\n",
       "</tr>\n",
       "<tr>\n",
       "  <th>Item_Fat_Content_LF</th>             <td> -126.1456</td> <td>   62.610</td> <td>   -2.015</td> <td> 0.044</td> <td> -248.891    -3.400</td>\n",
       "</tr>\n",
       "<tr>\n",
       "  <th>Item_Fat_Content_Low Fat</th>        <td>  -41.3682</td> <td>   32.062</td> <td>   -1.290</td> <td> 0.197</td> <td> -104.224    21.488</td>\n",
       "</tr>\n",
       "<tr>\n",
       "  <th>Item_Fat_Content_reg</th>            <td>   -4.2860</td> <td>   35.330</td> <td>   -0.121</td> <td> 0.903</td> <td>  -73.549    64.977</td>\n",
       "</tr>\n",
       "<tr>\n",
       "  <th>Item_Type_Baking Goods</th>          <td>   61.7402</td> <td>   60.138</td> <td>    1.027</td> <td> 0.305</td> <td>  -56.159   179.639</td>\n",
       "</tr>\n",
       "<tr>\n",
       "  <th>Item_Type_Breakfast</th>             <td>   42.7919</td> <td>   76.145</td> <td>    0.562</td> <td> 0.574</td> <td> -106.487   192.071</td>\n",
       "</tr>\n",
       "<tr>\n",
       "  <th>Item_Type_Canned</th>                <td>  -41.6123</td> <td>   56.742</td> <td>   -0.733</td> <td> 0.463</td> <td> -152.852    69.628</td>\n",
       "</tr>\n",
       "<tr>\n",
       "  <th>Item_Type_Dairy</th>                 <td>  -16.7535</td> <td>   55.995</td> <td>   -0.299</td> <td> 0.765</td> <td> -126.530    93.023</td>\n",
       "</tr>\n",
       "<tr>\n",
       "  <th>Item_Type_Drinks</th>                <td>  -48.6103</td> <td>   67.773</td> <td>   -0.717</td> <td> 0.473</td> <td> -181.476    84.255</td>\n",
       "</tr>\n",
       "<tr>\n",
       "  <th>Item_Type_Frozen Foods</th>          <td>  -44.6793</td> <td>   51.748</td> <td>   -0.863</td> <td> 0.388</td> <td> -146.129    56.771</td>\n",
       "</tr>\n",
       "<tr>\n",
       "  <th>Item_Type_Fruits and Vegetables</th> <td>   50.8611</td> <td>   44.414</td> <td>    1.145</td> <td> 0.252</td> <td>  -36.212   137.934</td>\n",
       "</tr>\n",
       "<tr>\n",
       "  <th>Item_Type_Hard Drinks</th>           <td>  -35.5325</td> <td>   97.674</td> <td>   -0.364</td> <td> 0.716</td> <td> -227.020   155.955</td>\n",
       "</tr>\n",
       "<tr>\n",
       "  <th>Item_Type_Health and Hygiene</th>    <td>    7.1766</td> <td>   65.322</td> <td>    0.110</td> <td> 0.913</td> <td> -120.884   135.237</td>\n",
       "</tr>\n",
       "<tr>\n",
       "  <th>Item_Type_Household</th>             <td>  -91.0124</td> <td>   51.121</td> <td>   -1.780</td> <td> 0.075</td> <td> -191.234     9.209</td>\n",
       "</tr>\n",
       "<tr>\n",
       "  <th>Item_Type_Meat</th>                  <td>   65.0662</td> <td>   70.235</td> <td>    0.926</td> <td> 0.354</td> <td>  -72.626   202.759</td>\n",
       "</tr>\n",
       "<tr>\n",
       "  <th>Item_Type_Others</th>                <td>  -43.3359</td> <td>   96.101</td> <td>   -0.451</td> <td> 0.652</td> <td> -231.738   145.067</td>\n",
       "</tr>\n",
       "<tr>\n",
       "  <th>Item_Type_Snack Foods</th>           <td>   23.6737</td> <td>   45.212</td> <td>    0.524</td> <td> 0.601</td> <td>  -64.962   112.310</td>\n",
       "</tr>\n",
       "<tr>\n",
       "  <th>Item_Type_Starchy Foods</th>         <td> -101.5733</td> <td>  120.971</td> <td>   -0.840</td> <td> 0.401</td> <td> -338.732   135.585</td>\n",
       "</tr>\n",
       "<tr>\n",
       "  <th>Outlet_Identifier_OUT010</th>        <td> -459.7772</td> <td>   32.275</td> <td>  -14.245</td> <td> 0.000</td> <td> -523.052  -396.502</td>\n",
       "</tr>\n",
       "<tr>\n",
       "  <th>Outlet_Identifier_OUT013</th>        <td>  -68.7639</td> <td>   15.099</td> <td>   -4.554</td> <td> 0.000</td> <td>  -98.365   -39.163</td>\n",
       "</tr>\n",
       "<tr>\n",
       "  <th>Outlet_Identifier_OUT017</th>        <td>  105.4028</td> <td>   40.596</td> <td>    2.596</td> <td> 0.009</td> <td>   25.816   184.990</td>\n",
       "</tr>\n",
       "<tr>\n",
       "  <th>Outlet_Identifier_OUT018</th>        <td> -182.6156</td> <td>   24.416</td> <td>   -7.479</td> <td> 0.000</td> <td> -230.482  -134.750</td>\n",
       "</tr>\n",
       "<tr>\n",
       "  <th>Outlet_Identifier_OUT019</th>        <td> -430.5744</td> <td>   26.662</td> <td>  -16.149</td> <td> 0.000</td> <td> -482.844  -378.305</td>\n",
       "</tr>\n",
       "<tr>\n",
       "  <th>Outlet_Identifier_OUT027</th>        <td>  610.0054</td> <td>   17.600</td> <td>   34.660</td> <td> 0.000</td> <td>  575.502   644.509</td>\n",
       "</tr>\n",
       "<tr>\n",
       "  <th>Outlet_Identifier_OUT035</th>        <td>  195.5079</td> <td>   41.047</td> <td>    4.763</td> <td> 0.000</td> <td>  115.036   275.980</td>\n",
       "</tr>\n",
       "<tr>\n",
       "  <th>Outlet_Identifier_OUT045</th>        <td> -146.7441</td> <td>   40.249</td> <td>   -3.646</td> <td> 0.000</td> <td> -225.651   -67.837</td>\n",
       "</tr>\n",
       "<tr>\n",
       "  <th>Outlet_Identifier_OUT046</th>        <td>  368.2364</td> <td>   31.025</td> <td>   11.869</td> <td> 0.000</td> <td>  307.414   429.059</td>\n",
       "</tr>\n",
       "<tr>\n",
       "  <th>Outlet_Identifier_OUT049</th>        <td> -162.4772</td> <td>   25.850</td> <td>   -6.285</td> <td> 0.000</td> <td> -213.155  -111.800</td>\n",
       "</tr>\n",
       "<tr>\n",
       "  <th>Outlet_Size_High</th>                <td>  -68.7639</td> <td>   15.099</td> <td>   -4.554</td> <td> 0.000</td> <td>  -98.365   -39.163</td>\n",
       "</tr>\n",
       "<tr>\n",
       "  <th>Outlet_Size_Medium</th>              <td>  264.9126</td> <td>   22.910</td> <td>   11.563</td> <td> 0.000</td> <td>  219.999   309.826</td>\n",
       "</tr>\n",
       "<tr>\n",
       "  <th>Outlet_Size_Small</th>               <td> -367.9485</td> <td>   24.025</td> <td>  -15.315</td> <td> 0.000</td> <td> -415.048  -320.849</td>\n",
       "</tr>\n",
       "<tr>\n",
       "  <th>Outlet_Location_Type_Tier 1</th>     <td> -224.8152</td> <td>   17.817</td> <td>  -12.618</td> <td> 0.000</td> <td> -259.744  -189.886</td>\n",
       "</tr>\n",
       "<tr>\n",
       "  <th>Outlet_Location_Type_Tier 2</th>     <td>  154.1667</td> <td>   20.875</td> <td>    7.385</td> <td> 0.000</td> <td>  113.242   195.092</td>\n",
       "</tr>\n",
       "<tr>\n",
       "  <th>Outlet_Location_Type_Tier 3</th>     <td> -101.1513</td> <td>   25.189</td> <td>   -4.016</td> <td> 0.000</td> <td> -150.533   -51.770</td>\n",
       "</tr>\n",
       "<tr>\n",
       "  <th>Outlet_Type_Grocery Store</th>       <td> -890.3515</td> <td>   22.713</td> <td>  -39.201</td> <td> 0.000</td> <td> -934.879  -845.824</td>\n",
       "</tr>\n",
       "<tr>\n",
       "  <th>Outlet_Type_Supermarket Type1</th>   <td>  291.1619</td> <td>   23.915</td> <td>   12.175</td> <td> 0.000</td> <td>  244.277   338.047</td>\n",
       "</tr>\n",
       "<tr>\n",
       "  <th>Outlet_Type_Supermarket Type2</th>   <td> -182.6156</td> <td>   24.416</td> <td>   -7.479</td> <td> 0.000</td> <td> -230.482  -134.750</td>\n",
       "</tr>\n",
       "<tr>\n",
       "  <th>Outlet_Type_Supermarket Type3</th>   <td>  610.0054</td> <td>   17.600</td> <td>   34.660</td> <td> 0.000</td> <td>  575.502   644.509</td>\n",
       "</tr>\n",
       "</table>\n",
       "<table class=\"simpletable\">\n",
       "<tr>\n",
       "  <th>Omnibus:</th>       <td>434.616</td> <th>  Durbin-Watson:     </th> <td>   1.962</td> \n",
       "</tr>\n",
       "<tr>\n",
       "  <th>Prob(Omnibus):</th> <td> 0.000</td>  <th>  Jarque-Bera (JB):  </th> <td> 919.337</td> \n",
       "</tr>\n",
       "<tr>\n",
       "  <th>Skew:</th>          <td> 0.584</td>  <th>  Prob(JB):          </th> <td>2.34e-200</td>\n",
       "</tr>\n",
       "<tr>\n",
       "  <th>Kurtosis:</th>      <td> 4.806</td>  <th>  Cond. No.          </th> <td>1.15e+16</td> \n",
       "</tr>\n",
       "</table>"
      ],
      "text/plain": [
       "<class 'statsmodels.iolib.summary.Summary'>\n",
       "\"\"\"\n",
       "                            OLS Regression Results                            \n",
       "==============================================================================\n",
       "Dep. Variable:      Item_Outlet_Sales   R-squared:                       0.570\n",
       "Model:                            OLS   Adj. R-squared:                  0.568\n",
       "Method:                 Least Squares   F-statistic:                     232.9\n",
       "Date:                Sun, 21 Apr 2019   Prob (F-statistic):               0.00\n",
       "Time:                        12:54:58   Log-Likelihood:                -40255.\n",
       "No. Observations:                4772   AIC:                         8.057e+04\n",
       "Df Residuals:                    4744   BIC:                         8.075e+04\n",
       "Df Model:                          27                                         \n",
       "Covariance Type:            nonrobust                                         \n",
       "===================================================================================================\n",
       "                                      coef    std err          t      P>|t|      [95.0% Conf. Int.]\n",
       "---------------------------------------------------------------------------------------------------\n",
       "Item_Weight                         0.3285      3.872      0.085      0.932        -7.263     7.920\n",
       "Item_Visibility                  -595.3928    352.432     -1.689      0.091     -1286.323    95.537\n",
       "Item_MRP                           15.7394      0.261     60.295      0.000        15.228    16.251\n",
       "year                                3.9926      2.277      1.753      0.080        -0.472     8.457\n",
       "Item_Fat_Content_LF              -126.1456     62.610     -2.015      0.044      -248.891    -3.400\n",
       "Item_Fat_Content_Low Fat          -41.3682     32.062     -1.290      0.197      -104.224    21.488\n",
       "Item_Fat_Content_reg               -4.2860     35.330     -0.121      0.903       -73.549    64.977\n",
       "Item_Type_Baking Goods             61.7402     60.138      1.027      0.305       -56.159   179.639\n",
       "Item_Type_Breakfast                42.7919     76.145      0.562      0.574      -106.487   192.071\n",
       "Item_Type_Canned                  -41.6123     56.742     -0.733      0.463      -152.852    69.628\n",
       "Item_Type_Dairy                   -16.7535     55.995     -0.299      0.765      -126.530    93.023\n",
       "Item_Type_Drinks                  -48.6103     67.773     -0.717      0.473      -181.476    84.255\n",
       "Item_Type_Frozen Foods            -44.6793     51.748     -0.863      0.388      -146.129    56.771\n",
       "Item_Type_Fruits and Vegetables    50.8611     44.414      1.145      0.252       -36.212   137.934\n",
       "Item_Type_Hard Drinks             -35.5325     97.674     -0.364      0.716      -227.020   155.955\n",
       "Item_Type_Health and Hygiene        7.1766     65.322      0.110      0.913      -120.884   135.237\n",
       "Item_Type_Household               -91.0124     51.121     -1.780      0.075      -191.234     9.209\n",
       "Item_Type_Meat                     65.0662     70.235      0.926      0.354       -72.626   202.759\n",
       "Item_Type_Others                  -43.3359     96.101     -0.451      0.652      -231.738   145.067\n",
       "Item_Type_Snack Foods              23.6737     45.212      0.524      0.601       -64.962   112.310\n",
       "Item_Type_Starchy Foods          -101.5733    120.971     -0.840      0.401      -338.732   135.585\n",
       "Outlet_Identifier_OUT010         -459.7772     32.275    -14.245      0.000      -523.052  -396.502\n",
       "Outlet_Identifier_OUT013          -68.7639     15.099     -4.554      0.000       -98.365   -39.163\n",
       "Outlet_Identifier_OUT017          105.4028     40.596      2.596      0.009        25.816   184.990\n",
       "Outlet_Identifier_OUT018         -182.6156     24.416     -7.479      0.000      -230.482  -134.750\n",
       "Outlet_Identifier_OUT019         -430.5744     26.662    -16.149      0.000      -482.844  -378.305\n",
       "Outlet_Identifier_OUT027          610.0054     17.600     34.660      0.000       575.502   644.509\n",
       "Outlet_Identifier_OUT035          195.5079     41.047      4.763      0.000       115.036   275.980\n",
       "Outlet_Identifier_OUT045         -146.7441     40.249     -3.646      0.000      -225.651   -67.837\n",
       "Outlet_Identifier_OUT046          368.2364     31.025     11.869      0.000       307.414   429.059\n",
       "Outlet_Identifier_OUT049         -162.4772     25.850     -6.285      0.000      -213.155  -111.800\n",
       "Outlet_Size_High                  -68.7639     15.099     -4.554      0.000       -98.365   -39.163\n",
       "Outlet_Size_Medium                264.9126     22.910     11.563      0.000       219.999   309.826\n",
       "Outlet_Size_Small                -367.9485     24.025    -15.315      0.000      -415.048  -320.849\n",
       "Outlet_Location_Type_Tier 1      -224.8152     17.817    -12.618      0.000      -259.744  -189.886\n",
       "Outlet_Location_Type_Tier 2       154.1667     20.875      7.385      0.000       113.242   195.092\n",
       "Outlet_Location_Type_Tier 3      -101.1513     25.189     -4.016      0.000      -150.533   -51.770\n",
       "Outlet_Type_Grocery Store        -890.3515     22.713    -39.201      0.000      -934.879  -845.824\n",
       "Outlet_Type_Supermarket Type1     291.1619     23.915     12.175      0.000       244.277   338.047\n",
       "Outlet_Type_Supermarket Type2    -182.6156     24.416     -7.479      0.000      -230.482  -134.750\n",
       "Outlet_Type_Supermarket Type3     610.0054     17.600     34.660      0.000       575.502   644.509\n",
       "==============================================================================\n",
       "Omnibus:                      434.616   Durbin-Watson:                   1.962\n",
       "Prob(Omnibus):                  0.000   Jarque-Bera (JB):              919.337\n",
       "Skew:                           0.584   Prob(JB):                    2.34e-200\n",
       "Kurtosis:                       4.806   Cond. No.                     1.15e+16\n",
       "==============================================================================\n",
       "\n",
       "Warnings:\n",
       "[1] Standard Errors assume that the covariance matrix of the errors is correctly specified.\n",
       "[2] The smallest eigenvalue is 8.82e-25. This might indicate that there are\n",
       "strong multicollinearity problems or that the design matrix is singular.\n",
       "\"\"\""
      ]
     },
     "execution_count": 98,
     "metadata": {},
     "output_type": "execute_result"
    }
   ],
   "source": [
    "lm=sm.OLS(y_train,x_train)\n",
    "model=lm.fit()\n",
    "model.summary()"
   ]
  },
  {
   "cell_type": "markdown",
   "metadata": {},
   "source": [
    "######  Remove Non signi"
   ]
  },
  {
   "cell_type": "code",
   "execution_count": 99,
   "metadata": {},
   "outputs": [
    {
     "data": {
      "text/plain": [
       "(4772, 41)"
      ]
     },
     "execution_count": 99,
     "metadata": {},
     "output_type": "execute_result"
    }
   ],
   "source": [
    "x_train.shape"
   ]
  },
  {
   "cell_type": "code",
   "execution_count": 100,
   "metadata": {
    "scrolled": true
   },
   "outputs": [],
   "source": [
    "x_train1=x_train.ix[:,[1,2,3,4,21,22,23,24,25,26,27,28,28,29,30,31,32,33,34,35,36,37,38,39,40]]"
   ]
  },
  {
   "cell_type": "code",
   "execution_count": 101,
   "metadata": {},
   "outputs": [
    {
     "data": {
      "text/plain": [
       "Index([u'Item_Visibility', u'Item_MRP', u'year', u'Item_Fat_Content_LF',\n",
       "       u'Outlet_Identifier_OUT010', u'Outlet_Identifier_OUT013',\n",
       "       u'Outlet_Identifier_OUT017', u'Outlet_Identifier_OUT018',\n",
       "       u'Outlet_Identifier_OUT019', u'Outlet_Identifier_OUT027',\n",
       "       u'Outlet_Identifier_OUT035', u'Outlet_Identifier_OUT045',\n",
       "       u'Outlet_Identifier_OUT045', u'Outlet_Identifier_OUT046',\n",
       "       u'Outlet_Identifier_OUT049', u'Outlet_Size_High', u'Outlet_Size_Medium',\n",
       "       u'Outlet_Size_Small', u'Outlet_Location_Type_Tier 1',\n",
       "       u'Outlet_Location_Type_Tier 2', u'Outlet_Location_Type_Tier 3',\n",
       "       u'Outlet_Type_Grocery Store', u'Outlet_Type_Supermarket Type1',\n",
       "       u'Outlet_Type_Supermarket Type2', u'Outlet_Type_Supermarket Type3'],\n",
       "      dtype='object')"
      ]
     },
     "execution_count": 101,
     "metadata": {},
     "output_type": "execute_result"
    }
   ],
   "source": [
    "x_train1.columns"
   ]
  },
  {
   "cell_type": "code",
   "execution_count": 102,
   "metadata": {
    "collapsed": true
   },
   "outputs": [],
   "source": [
    "x_cv1=x_cv.ix[:,[1,2,3,4,21,22,23,24,25,26,27,28,28,29,30,31,32,33,34,35,36,37,38,39,40]]"
   ]
  },
  {
   "cell_type": "code",
   "execution_count": 103,
   "metadata": {},
   "outputs": [],
   "source": [
    "est = sm.OLS(y_train, x_train1)"
   ]
  },
  {
   "cell_type": "code",
   "execution_count": 104,
   "metadata": {
    "collapsed": true
   },
   "outputs": [],
   "source": [
    "est2 = est.fit()"
   ]
  },
  {
   "cell_type": "code",
   "execution_count": 105,
   "metadata": {},
   "outputs": [
    {
     "data": {
      "text/html": [
       "<table class=\"simpletable\">\n",
       "<caption>OLS Regression Results</caption>\n",
       "<tr>\n",
       "  <th>Dep. Variable:</th>    <td>Item_Outlet_Sales</td> <th>  R-squared:         </th> <td>   0.569</td> \n",
       "</tr>\n",
       "<tr>\n",
       "  <th>Model:</th>                   <td>OLS</td>        <th>  Adj. R-squared:    </th> <td>   0.568</td> \n",
       "</tr>\n",
       "<tr>\n",
       "  <th>Method:</th>             <td>Least Squares</td>   <th>  F-statistic:       </th> <td>   523.1</td> \n",
       "</tr>\n",
       "<tr>\n",
       "  <th>Date:</th>             <td>Sun, 21 Apr 2019</td>  <th>  Prob (F-statistic):</th>  <td>  0.00</td>  \n",
       "</tr>\n",
       "<tr>\n",
       "  <th>Time:</th>                 <td>13:02:29</td>      <th>  Log-Likelihood:    </th> <td> -40261.</td> \n",
       "</tr>\n",
       "<tr>\n",
       "  <th>No. Observations:</th>      <td>  4772</td>       <th>  AIC:               </th> <td>8.055e+04</td>\n",
       "</tr>\n",
       "<tr>\n",
       "  <th>Df Residuals:</th>          <td>  4759</td>       <th>  BIC:               </th> <td>8.063e+04</td>\n",
       "</tr>\n",
       "<tr>\n",
       "  <th>Df Model:</th>              <td>    12</td>       <th>                     </th>     <td> </td>    \n",
       "</tr>\n",
       "<tr>\n",
       "  <th>Covariance Type:</th>      <td>nonrobust</td>     <th>                     </th>     <td> </td>    \n",
       "</tr>\n",
       "</table>\n",
       "<table class=\"simpletable\">\n",
       "<tr>\n",
       "                <td></td>                   <th>coef</th>     <th>std err</th>      <th>t</th>      <th>P>|t|</th> <th>[95.0% Conf. Int.]</th> \n",
       "</tr>\n",
       "<tr>\n",
       "  <th>Item_Visibility</th>               <td> -571.8032</td> <td>  350.603</td> <td>   -1.631</td> <td> 0.103</td> <td>-1259.147   115.540</td>\n",
       "</tr>\n",
       "<tr>\n",
       "  <th>Item_MRP</th>                      <td>   15.7236</td> <td>    0.259</td> <td>   60.607</td> <td> 0.000</td> <td>   15.215    16.232</td>\n",
       "</tr>\n",
       "<tr>\n",
       "  <th>year</th>                          <td>    3.7264</td> <td>    1.933</td> <td>    1.927</td> <td> 0.054</td> <td>   -0.064     7.517</td>\n",
       "</tr>\n",
       "<tr>\n",
       "  <th>Item_Fat_Content_LF</th>           <td> -111.2418</td> <td>   87.449</td> <td>   -1.272</td> <td> 0.203</td> <td> -282.683    60.199</td>\n",
       "</tr>\n",
       "<tr>\n",
       "  <th>Outlet_Identifier_OUT010</th>      <td> -467.1663</td> <td>   32.217</td> <td>  -14.501</td> <td> 0.000</td> <td> -530.327  -404.006</td>\n",
       "</tr>\n",
       "<tr>\n",
       "  <th>Outlet_Identifier_OUT013</th>      <td>  -70.1431</td> <td>   14.861</td> <td>   -4.720</td> <td> 0.000</td> <td>  -99.277   -41.009</td>\n",
       "</tr>\n",
       "<tr>\n",
       "  <th>Outlet_Identifier_OUT017</th>      <td>   79.9785</td> <td>   37.908</td> <td>    2.110</td> <td> 0.035</td> <td>    5.662   154.295</td>\n",
       "</tr>\n",
       "<tr>\n",
       "  <th>Outlet_Identifier_OUT018</th>      <td> -186.1950</td> <td>   22.695</td> <td>   -8.204</td> <td> 0.000</td> <td> -230.688  -141.702</td>\n",
       "</tr>\n",
       "<tr>\n",
       "  <th>Outlet_Identifier_OUT019</th>      <td> -429.6916</td> <td>   26.530</td> <td>  -16.197</td> <td> 0.000</td> <td> -481.702  -377.681</td>\n",
       "</tr>\n",
       "<tr>\n",
       "  <th>Outlet_Identifier_OUT027</th>      <td>  610.5469</td> <td>   17.296</td> <td>   35.300</td> <td> 0.000</td> <td>  576.638   644.455</td>\n",
       "</tr>\n",
       "<tr>\n",
       "  <th>Outlet_Identifier_OUT035</th>      <td>  168.6771</td> <td>   38.107</td> <td>    4.426</td> <td> 0.000</td> <td>   93.970   243.385</td>\n",
       "</tr>\n",
       "<tr>\n",
       "  <th>Outlet_Identifier_OUT045</th>      <td>  -86.6667</td> <td>   23.511</td> <td>   -3.686</td> <td> 0.000</td> <td> -132.759   -40.574</td>\n",
       "</tr>\n",
       "<tr>\n",
       "  <th>Outlet_Identifier_OUT045</th>      <td>  -86.6667</td> <td>   23.511</td> <td>   -3.686</td> <td> 0.000</td> <td> -132.759   -40.574</td>\n",
       "</tr>\n",
       "<tr>\n",
       "  <th>Outlet_Identifier_OUT046</th>      <td>  363.1313</td> <td>   30.909</td> <td>   11.748</td> <td> 0.000</td> <td>  302.536   423.727</td>\n",
       "</tr>\n",
       "<tr>\n",
       "  <th>Outlet_Identifier_OUT049</th>      <td> -167.0685</td> <td>   25.665</td> <td>   -6.510</td> <td> 0.000</td> <td> -217.383  -116.754</td>\n",
       "</tr>\n",
       "<tr>\n",
       "  <th>Outlet_Size_High</th>              <td>  -70.1431</td> <td>   14.861</td> <td>   -4.720</td> <td> 0.000</td> <td>  -99.277   -41.009</td>\n",
       "</tr>\n",
       "<tr>\n",
       "  <th>Outlet_Size_Medium</th>            <td>  257.2834</td> <td>   21.122</td> <td>   12.181</td> <td> 0.000</td> <td>  215.874   298.693</td>\n",
       "</tr>\n",
       "<tr>\n",
       "  <th>Outlet_Size_Small</th>             <td> -371.7377</td> <td>   22.165</td> <td>  -16.772</td> <td> 0.000</td> <td> -415.191  -328.284</td>\n",
       "</tr>\n",
       "<tr>\n",
       "  <th>Outlet_Location_Type_Tier 1</th>   <td> -233.6288</td> <td>   17.435</td> <td>  -13.400</td> <td> 0.000</td> <td> -267.810  -199.448</td>\n",
       "</tr>\n",
       "<tr>\n",
       "  <th>Outlet_Location_Type_Tier 2</th>   <td>  161.9889</td> <td>   19.227</td> <td>    8.425</td> <td> 0.000</td> <td>  124.295   199.682</td>\n",
       "</tr>\n",
       "<tr>\n",
       "  <th>Outlet_Location_Type_Tier 3</th>   <td> -112.9575</td> <td>   24.350</td> <td>   -4.639</td> <td> 0.000</td> <td> -160.696   -65.219</td>\n",
       "</tr>\n",
       "<tr>\n",
       "  <th>Outlet_Type_Grocery Store</th>     <td> -896.8579</td> <td>   22.689</td> <td>  -39.529</td> <td> 0.000</td> <td> -941.339  -852.377</td>\n",
       "</tr>\n",
       "<tr>\n",
       "  <th>Outlet_Type_Supermarket Type1</th> <td>  287.9087</td> <td>   21.732</td> <td>   13.248</td> <td> 0.000</td> <td>  245.304   330.513</td>\n",
       "</tr>\n",
       "<tr>\n",
       "  <th>Outlet_Type_Supermarket Type2</th> <td> -186.1950</td> <td>   22.695</td> <td>   -8.204</td> <td> 0.000</td> <td> -230.688  -141.702</td>\n",
       "</tr>\n",
       "<tr>\n",
       "  <th>Outlet_Type_Supermarket Type3</th> <td>  610.5469</td> <td>   17.296</td> <td>   35.300</td> <td> 0.000</td> <td>  576.638   644.455</td>\n",
       "</tr>\n",
       "</table>\n",
       "<table class=\"simpletable\">\n",
       "<tr>\n",
       "  <th>Omnibus:</th>       <td>438.182</td> <th>  Durbin-Watson:     </th> <td>   1.961</td> \n",
       "</tr>\n",
       "<tr>\n",
       "  <th>Prob(Omnibus):</th> <td> 0.000</td>  <th>  Jarque-Bera (JB):  </th> <td> 927.309</td> \n",
       "</tr>\n",
       "<tr>\n",
       "  <th>Skew:</th>          <td> 0.588</td>  <th>  Prob(JB):          </th> <td>4.34e-202</td>\n",
       "</tr>\n",
       "<tr>\n",
       "  <th>Kurtosis:</th>      <td> 4.812</td>  <th>  Cond. No.          </th> <td>1.20e+19</td> \n",
       "</tr>\n",
       "</table>"
      ],
      "text/plain": [
       "<class 'statsmodels.iolib.summary.Summary'>\n",
       "\"\"\"\n",
       "                            OLS Regression Results                            \n",
       "==============================================================================\n",
       "Dep. Variable:      Item_Outlet_Sales   R-squared:                       0.569\n",
       "Model:                            OLS   Adj. R-squared:                  0.568\n",
       "Method:                 Least Squares   F-statistic:                     523.1\n",
       "Date:                Sun, 21 Apr 2019   Prob (F-statistic):               0.00\n",
       "Time:                        13:02:29   Log-Likelihood:                -40261.\n",
       "No. Observations:                4772   AIC:                         8.055e+04\n",
       "Df Residuals:                    4759   BIC:                         8.063e+04\n",
       "Df Model:                          12                                         \n",
       "Covariance Type:            nonrobust                                         \n",
       "=================================================================================================\n",
       "                                    coef    std err          t      P>|t|      [95.0% Conf. Int.]\n",
       "-------------------------------------------------------------------------------------------------\n",
       "Item_Visibility                -571.8032    350.603     -1.631      0.103     -1259.147   115.540\n",
       "Item_MRP                         15.7236      0.259     60.607      0.000        15.215    16.232\n",
       "year                              3.7264      1.933      1.927      0.054        -0.064     7.517\n",
       "Item_Fat_Content_LF            -111.2418     87.449     -1.272      0.203      -282.683    60.199\n",
       "Outlet_Identifier_OUT010       -467.1663     32.217    -14.501      0.000      -530.327  -404.006\n",
       "Outlet_Identifier_OUT013        -70.1431     14.861     -4.720      0.000       -99.277   -41.009\n",
       "Outlet_Identifier_OUT017         79.9785     37.908      2.110      0.035         5.662   154.295\n",
       "Outlet_Identifier_OUT018       -186.1950     22.695     -8.204      0.000      -230.688  -141.702\n",
       "Outlet_Identifier_OUT019       -429.6916     26.530    -16.197      0.000      -481.702  -377.681\n",
       "Outlet_Identifier_OUT027        610.5469     17.296     35.300      0.000       576.638   644.455\n",
       "Outlet_Identifier_OUT035        168.6771     38.107      4.426      0.000        93.970   243.385\n",
       "Outlet_Identifier_OUT045        -86.6667     23.511     -3.686      0.000      -132.759   -40.574\n",
       "Outlet_Identifier_OUT045        -86.6667     23.511     -3.686      0.000      -132.759   -40.574\n",
       "Outlet_Identifier_OUT046        363.1313     30.909     11.748      0.000       302.536   423.727\n",
       "Outlet_Identifier_OUT049       -167.0685     25.665     -6.510      0.000      -217.383  -116.754\n",
       "Outlet_Size_High                -70.1431     14.861     -4.720      0.000       -99.277   -41.009\n",
       "Outlet_Size_Medium              257.2834     21.122     12.181      0.000       215.874   298.693\n",
       "Outlet_Size_Small              -371.7377     22.165    -16.772      0.000      -415.191  -328.284\n",
       "Outlet_Location_Type_Tier 1    -233.6288     17.435    -13.400      0.000      -267.810  -199.448\n",
       "Outlet_Location_Type_Tier 2     161.9889     19.227      8.425      0.000       124.295   199.682\n",
       "Outlet_Location_Type_Tier 3    -112.9575     24.350     -4.639      0.000      -160.696   -65.219\n",
       "Outlet_Type_Grocery Store      -896.8579     22.689    -39.529      0.000      -941.339  -852.377\n",
       "Outlet_Type_Supermarket Type1   287.9087     21.732     13.248      0.000       245.304   330.513\n",
       "Outlet_Type_Supermarket Type2  -186.1950     22.695     -8.204      0.000      -230.688  -141.702\n",
       "Outlet_Type_Supermarket Type3   610.5469     17.296     35.300      0.000       576.638   644.455\n",
       "==============================================================================\n",
       "Omnibus:                      438.182   Durbin-Watson:                   1.961\n",
       "Prob(Omnibus):                  0.000   Jarque-Bera (JB):              927.309\n",
       "Skew:                           0.588   Prob(JB):                    4.34e-202\n",
       "Kurtosis:                       4.812   Cond. No.                     1.20e+19\n",
       "==============================================================================\n",
       "\n",
       "Warnings:\n",
       "[1] Standard Errors assume that the covariance matrix of the errors is correctly specified.\n",
       "[2] The smallest eigenvalue is 8.09e-31. This might indicate that there are\n",
       "strong multicollinearity problems or that the design matrix is singular.\n",
       "\"\"\""
      ]
     },
     "execution_count": 105,
     "metadata": {},
     "output_type": "execute_result"
    }
   ],
   "source": [
    "lm=sm.OLS(y_train,x_train1)\n",
    "\n",
    "model=lm.fit()\n",
    "\n",
    "model.summary()"
   ]
  },
  {
   "cell_type": "code",
   "execution_count": 110,
   "metadata": {},
   "outputs": [
    {
     "data": {
      "text/plain": [
       "(4772, 25)"
      ]
     },
     "execution_count": 110,
     "metadata": {},
     "output_type": "execute_result"
    }
   ],
   "source": [
    "x_train1.shape\n"
   ]
  },
  {
   "cell_type": "code",
   "execution_count": 118,
   "metadata": {},
   "outputs": [
    {
     "data": {
      "text/html": [
       "<table class=\"simpletable\">\n",
       "<caption>OLS Regression Results</caption>\n",
       "<tr>\n",
       "  <th>Dep. Variable:</th>    <td>Item_Outlet_Sales</td> <th>  R-squared:         </th> <td>   0.568</td> \n",
       "</tr>\n",
       "<tr>\n",
       "  <th>Model:</th>                   <td>OLS</td>        <th>  Adj. R-squared:    </th> <td>   0.567</td> \n",
       "</tr>\n",
       "<tr>\n",
       "  <th>Method:</th>             <td>Least Squares</td>   <th>  F-statistic:       </th> <td>   627.0</td> \n",
       "</tr>\n",
       "<tr>\n",
       "  <th>Date:</th>             <td>Sun, 21 Apr 2019</td>  <th>  Prob (F-statistic):</th>  <td>  0.00</td>  \n",
       "</tr>\n",
       "<tr>\n",
       "  <th>Time:</th>                 <td>13:11:26</td>      <th>  Log-Likelihood:    </th> <td> -40263.</td> \n",
       "</tr>\n",
       "<tr>\n",
       "  <th>No. Observations:</th>      <td>  4772</td>       <th>  AIC:               </th> <td>8.055e+04</td>\n",
       "</tr>\n",
       "<tr>\n",
       "  <th>Df Residuals:</th>          <td>  4761</td>       <th>  BIC:               </th> <td>8.062e+04</td>\n",
       "</tr>\n",
       "<tr>\n",
       "  <th>Df Model:</th>              <td>    10</td>       <th>                     </th>     <td> </td>    \n",
       "</tr>\n",
       "<tr>\n",
       "  <th>Covariance Type:</th>      <td>nonrobust</td>     <th>                     </th>     <td> </td>    \n",
       "</tr>\n",
       "</table>\n",
       "<table class=\"simpletable\">\n",
       "<tr>\n",
       "                <td></td>                   <th>coef</th>     <th>std err</th>      <th>t</th>      <th>P>|t|</th> <th>[95.0% Conf. Int.]</th> \n",
       "</tr>\n",
       "<tr>\n",
       "  <th>Item_MRP</th>                      <td>   15.7288</td> <td>    0.259</td> <td>   60.630</td> <td> 0.000</td> <td>   15.220    16.237</td>\n",
       "</tr>\n",
       "<tr>\n",
       "  <th>Outlet_Identifier_OUT010</th>      <td> -485.8936</td> <td>   34.764</td> <td>  -13.977</td> <td> 0.000</td> <td> -554.047  -417.740</td>\n",
       "</tr>\n",
       "<tr>\n",
       "  <th>Outlet_Identifier_OUT013</th>      <td>  -49.9979</td> <td>   19.472</td> <td>   -2.568</td> <td> 0.010</td> <td>  -88.172   -11.824</td>\n",
       "</tr>\n",
       "<tr>\n",
       "  <th>Outlet_Identifier_OUT017</th>      <td>   67.4317</td> <td>   37.784</td> <td>    1.785</td> <td> 0.074</td> <td>   -6.643   141.506</td>\n",
       "</tr>\n",
       "<tr>\n",
       "  <th>Outlet_Identifier_OUT018</th>      <td> -205.0966</td> <td>   21.105</td> <td>   -9.718</td> <td> 0.000</td> <td> -246.472  -163.721</td>\n",
       "</tr>\n",
       "<tr>\n",
       "  <th>Outlet_Identifier_OUT019</th>      <td> -408.1740</td> <td>   37.332</td> <td>  -10.934</td> <td> 0.000</td> <td> -481.362  -334.986</td>\n",
       "</tr>\n",
       "<tr>\n",
       "  <th>Outlet_Identifier_OUT027</th>      <td>  637.2818</td> <td>   21.005</td> <td>   30.340</td> <td> 0.000</td> <td>  596.103   678.461</td>\n",
       "</tr>\n",
       "<tr>\n",
       "  <th>Outlet_Identifier_OUT035</th>      <td>  168.9857</td> <td>   38.223</td> <td>    4.421</td> <td> 0.000</td> <td>   94.050   243.921</td>\n",
       "</tr>\n",
       "<tr>\n",
       "  <th>Outlet_Identifier_OUT045</th>      <td>  -82.9126</td> <td>   23.679</td> <td>   -3.501</td> <td> 0.000</td> <td> -129.335   -36.490</td>\n",
       "</tr>\n",
       "<tr>\n",
       "  <th>Outlet_Identifier_OUT045</th>      <td>  -82.9126</td> <td>   23.679</td> <td>   -3.501</td> <td> 0.000</td> <td> -129.335   -36.490</td>\n",
       "</tr>\n",
       "<tr>\n",
       "  <th>Outlet_Identifier_OUT046</th>      <td>  364.8024</td> <td>   31.100</td> <td>   11.730</td> <td> 0.000</td> <td>  303.832   425.773</td>\n",
       "</tr>\n",
       "<tr>\n",
       "  <th>Outlet_Identifier_OUT049</th>      <td> -175.1861</td> <td>   26.022</td> <td>   -6.732</td> <td> 0.000</td> <td> -226.202  -124.170</td>\n",
       "</tr>\n",
       "<tr>\n",
       "  <th>Outlet_Size_High</th>              <td>  -49.9979</td> <td>   19.472</td> <td>   -2.568</td> <td> 0.010</td> <td>  -88.172   -11.824</td>\n",
       "</tr>\n",
       "<tr>\n",
       "  <th>Outlet_Size_Medium</th>            <td>  256.9991</td> <td>   21.371</td> <td>   12.026</td> <td> 0.000</td> <td>  215.102   298.896</td>\n",
       "</tr>\n",
       "<tr>\n",
       "  <th>Outlet_Size_Small</th>             <td> -375.7604</td> <td>   21.774</td> <td>  -17.257</td> <td> 0.000</td> <td> -418.448  -333.073</td>\n",
       "</tr>\n",
       "<tr>\n",
       "  <th>Outlet_Location_Type_Tier 1</th>   <td> -218.5577</td> <td>   22.444</td> <td>   -9.738</td> <td> 0.000</td> <td> -262.558  -174.558</td>\n",
       "</tr>\n",
       "<tr>\n",
       "  <th>Outlet_Location_Type_Tier 2</th>   <td>  153.5048</td> <td>   18.499</td> <td>    8.298</td> <td> 0.000</td> <td>  117.238   189.772</td>\n",
       "</tr>\n",
       "<tr>\n",
       "  <th>Outlet_Location_Type_Tier 3</th>   <td> -103.7062</td> <td>   23.498</td> <td>   -4.413</td> <td> 0.000</td> <td> -149.774   -57.639</td>\n",
       "</tr>\n",
       "<tr>\n",
       "  <th>Outlet_Type_Grocery Store</th>     <td> -894.0675</td> <td>   23.787</td> <td>  -37.587</td> <td> 0.000</td> <td> -940.701  -847.434</td>\n",
       "</tr>\n",
       "<tr>\n",
       "  <th>Outlet_Type_Supermarket Type1</th> <td>  293.1232</td> <td>   21.446</td> <td>   13.668</td> <td> 0.000</td> <td>  251.079   335.167</td>\n",
       "</tr>\n",
       "<tr>\n",
       "  <th>Outlet_Type_Supermarket Type2</th> <td> -205.0966</td> <td>   21.105</td> <td>   -9.718</td> <td> 0.000</td> <td> -246.472  -163.721</td>\n",
       "</tr>\n",
       "<tr>\n",
       "  <th>Outlet_Type_Supermarket Type3</th> <td>  637.2818</td> <td>   21.005</td> <td>   30.340</td> <td> 0.000</td> <td>  596.103   678.461</td>\n",
       "</tr>\n",
       "</table>\n",
       "<table class=\"simpletable\">\n",
       "<tr>\n",
       "  <th>Omnibus:</th>       <td>441.133</td> <th>  Durbin-Watson:     </th> <td>   1.960</td> \n",
       "</tr>\n",
       "<tr>\n",
       "  <th>Prob(Omnibus):</th> <td> 0.000</td>  <th>  Jarque-Bera (JB):  </th> <td> 936.950</td> \n",
       "</tr>\n",
       "<tr>\n",
       "  <th>Skew:</th>          <td> 0.590</td>  <th>  Prob(JB):          </th> <td>3.50e-204</td>\n",
       "</tr>\n",
       "<tr>\n",
       "  <th>Kurtosis:</th>      <td> 4.822</td>  <th>  Cond. No.          </th> <td>5.97e+18</td> \n",
       "</tr>\n",
       "</table>"
      ],
      "text/plain": [
       "<class 'statsmodels.iolib.summary.Summary'>\n",
       "\"\"\"\n",
       "                            OLS Regression Results                            \n",
       "==============================================================================\n",
       "Dep. Variable:      Item_Outlet_Sales   R-squared:                       0.568\n",
       "Model:                            OLS   Adj. R-squared:                  0.567\n",
       "Method:                 Least Squares   F-statistic:                     627.0\n",
       "Date:                Sun, 21 Apr 2019   Prob (F-statistic):               0.00\n",
       "Time:                        13:11:26   Log-Likelihood:                -40263.\n",
       "No. Observations:                4772   AIC:                         8.055e+04\n",
       "Df Residuals:                    4761   BIC:                         8.062e+04\n",
       "Df Model:                          10                                         \n",
       "Covariance Type:            nonrobust                                         \n",
       "=================================================================================================\n",
       "                                    coef    std err          t      P>|t|      [95.0% Conf. Int.]\n",
       "-------------------------------------------------------------------------------------------------\n",
       "Item_MRP                         15.7288      0.259     60.630      0.000        15.220    16.237\n",
       "Outlet_Identifier_OUT010       -485.8936     34.764    -13.977      0.000      -554.047  -417.740\n",
       "Outlet_Identifier_OUT013        -49.9979     19.472     -2.568      0.010       -88.172   -11.824\n",
       "Outlet_Identifier_OUT017         67.4317     37.784      1.785      0.074        -6.643   141.506\n",
       "Outlet_Identifier_OUT018       -205.0966     21.105     -9.718      0.000      -246.472  -163.721\n",
       "Outlet_Identifier_OUT019       -408.1740     37.332    -10.934      0.000      -481.362  -334.986\n",
       "Outlet_Identifier_OUT027        637.2818     21.005     30.340      0.000       596.103   678.461\n",
       "Outlet_Identifier_OUT035        168.9857     38.223      4.421      0.000        94.050   243.921\n",
       "Outlet_Identifier_OUT045        -82.9126     23.679     -3.501      0.000      -129.335   -36.490\n",
       "Outlet_Identifier_OUT045        -82.9126     23.679     -3.501      0.000      -129.335   -36.490\n",
       "Outlet_Identifier_OUT046        364.8024     31.100     11.730      0.000       303.832   425.773\n",
       "Outlet_Identifier_OUT049       -175.1861     26.022     -6.732      0.000      -226.202  -124.170\n",
       "Outlet_Size_High                -49.9979     19.472     -2.568      0.010       -88.172   -11.824\n",
       "Outlet_Size_Medium              256.9991     21.371     12.026      0.000       215.102   298.896\n",
       "Outlet_Size_Small              -375.7604     21.774    -17.257      0.000      -418.448  -333.073\n",
       "Outlet_Location_Type_Tier 1    -218.5577     22.444     -9.738      0.000      -262.558  -174.558\n",
       "Outlet_Location_Type_Tier 2     153.5048     18.499      8.298      0.000       117.238   189.772\n",
       "Outlet_Location_Type_Tier 3    -103.7062     23.498     -4.413      0.000      -149.774   -57.639\n",
       "Outlet_Type_Grocery Store      -894.0675     23.787    -37.587      0.000      -940.701  -847.434\n",
       "Outlet_Type_Supermarket Type1   293.1232     21.446     13.668      0.000       251.079   335.167\n",
       "Outlet_Type_Supermarket Type2  -205.0966     21.105     -9.718      0.000      -246.472  -163.721\n",
       "Outlet_Type_Supermarket Type3   637.2818     21.005     30.340      0.000       596.103   678.461\n",
       "==============================================================================\n",
       "Omnibus:                      441.133   Durbin-Watson:                   1.960\n",
       "Prob(Omnibus):                  0.000   Jarque-Bera (JB):              936.950\n",
       "Skew:                           0.590   Prob(JB):                    3.50e-204\n",
       "Kurtosis:                       4.822   Cond. No.                     5.97e+18\n",
       "==============================================================================\n",
       "\n",
       "Warnings:\n",
       "[1] Standard Errors assume that the covariance matrix of the errors is correctly specified.\n",
       "[2] The smallest eigenvalue is 3.22e-30. This might indicate that there are\n",
       "strong multicollinearity problems or that the design matrix is singular.\n",
       "\"\"\""
      ]
     },
     "execution_count": 118,
     "metadata": {},
     "output_type": "execute_result"
    }
   ],
   "source": [
    "x_train2=x_train1.ix[:,[ 1, 4,  5,  6,  7,  8,  9, 10, 11, 12, 13, 14, 15, 16, 17,\n",
    "       18, 19, 20, 21, 22, 23, 24]]\n",
    "\n",
    "x_cv2=x_cv1.ix[:,[ 1, 4,  5,  6,  7,  8,  9, 10, 11, 12, 13, 14, 15, 16, 17,\n",
    "       18, 19, 20, 21, 22, 23, 24]]\n",
    "\n",
    "lm=sm.OLS(y_train,x_train2)\n",
    "model=lm.fit()\n",
    "model.summary()"
   ]
  },
  {
   "cell_type": "code",
   "execution_count": 119,
   "metadata": {},
   "outputs": [
    {
     "data": {
      "text/html": [
       "<table class=\"simpletable\">\n",
       "<caption>OLS Regression Results</caption>\n",
       "<tr>\n",
       "  <th>Dep. Variable:</th>    <td>Item_Outlet_Sales</td> <th>  R-squared:         </th> <td>   0.568</td> \n",
       "</tr>\n",
       "<tr>\n",
       "  <th>Model:</th>                   <td>OLS</td>        <th>  Adj. R-squared:    </th> <td>   0.567</td> \n",
       "</tr>\n",
       "<tr>\n",
       "  <th>Method:</th>             <td>Least Squares</td>   <th>  F-statistic:       </th> <td>   696.2</td> \n",
       "</tr>\n",
       "<tr>\n",
       "  <th>Date:</th>             <td>Sun, 21 Apr 2019</td>  <th>  Prob (F-statistic):</th>  <td>  0.00</td>  \n",
       "</tr>\n",
       "<tr>\n",
       "  <th>Time:</th>                 <td>13:12:28</td>      <th>  Log-Likelihood:    </th> <td> -40264.</td> \n",
       "</tr>\n",
       "<tr>\n",
       "  <th>No. Observations:</th>      <td>  4772</td>       <th>  AIC:               </th> <td>8.055e+04</td>\n",
       "</tr>\n",
       "<tr>\n",
       "  <th>Df Residuals:</th>          <td>  4762</td>       <th>  BIC:               </th> <td>8.061e+04</td>\n",
       "</tr>\n",
       "<tr>\n",
       "  <th>Df Model:</th>              <td>     9</td>       <th>                     </th>     <td> </td>    \n",
       "</tr>\n",
       "<tr>\n",
       "  <th>Covariance Type:</th>      <td>nonrobust</td>     <th>                     </th>     <td> </td>    \n",
       "</tr>\n",
       "</table>\n",
       "<table class=\"simpletable\">\n",
       "<tr>\n",
       "                <td></td>                   <th>coef</th>     <th>std err</th>      <th>t</th>      <th>P>|t|</th> <th>[95.0% Conf. Int.]</th> \n",
       "</tr>\n",
       "<tr>\n",
       "  <th>Item_MRP</th>                      <td>   15.7348</td> <td>    0.259</td> <td>   60.654</td> <td> 0.000</td> <td>   15.226    16.243</td>\n",
       "</tr>\n",
       "<tr>\n",
       "  <th>Outlet_Identifier_OUT010</th>      <td> -496.9006</td> <td>   35.037</td> <td>  -14.182</td> <td> 0.000</td> <td> -565.590  -428.211</td>\n",
       "</tr>\n",
       "<tr>\n",
       "  <th>Outlet_Identifier_OUT013</th>      <td>  -57.2280</td> <td>   19.464</td> <td>   -2.940</td> <td> 0.003</td> <td>  -95.387   -19.069</td>\n",
       "</tr>\n",
       "<tr>\n",
       "  <th>Outlet_Identifier_OUT018</th>      <td> -201.7002</td> <td>   21.162</td> <td>   -9.531</td> <td> 0.000</td> <td> -243.187  -160.213</td>\n",
       "</tr>\n",
       "<tr>\n",
       "  <th>Outlet_Identifier_OUT019</th>      <td> -404.0207</td> <td>   37.451</td> <td>  -10.788</td> <td> 0.000</td> <td> -477.442  -330.599</td>\n",
       "</tr>\n",
       "<tr>\n",
       "  <th>Outlet_Identifier_OUT027</th>      <td>  640.6927</td> <td>   21.059</td> <td>   30.423</td> <td> 0.000</td> <td>  599.406   681.979</td>\n",
       "</tr>\n",
       "<tr>\n",
       "  <th>Outlet_Identifier_OUT045</th>      <td> -141.5899</td> <td>   30.160</td> <td>   -4.695</td> <td> 0.000</td> <td> -200.717   -82.463</td>\n",
       "</tr>\n",
       "<tr>\n",
       "  <th>Outlet_Identifier_OUT045</th>      <td> -141.5899</td> <td>   30.160</td> <td>   -4.695</td> <td> 0.000</td> <td> -200.717   -82.463</td>\n",
       "</tr>\n",
       "<tr>\n",
       "  <th>Outlet_Identifier_OUT046</th>      <td>  337.0739</td> <td>   32.411</td> <td>   10.400</td> <td> 0.000</td> <td>  273.533   400.614</td>\n",
       "</tr>\n",
       "<tr>\n",
       "  <th>Outlet_Identifier_OUT049</th>      <td> -178.2267</td> <td>   26.026</td> <td>   -6.848</td> <td> 0.000</td> <td> -229.251  -127.203</td>\n",
       "</tr>\n",
       "<tr>\n",
       "  <th>Outlet_Size_High</th>              <td>  -57.2280</td> <td>   19.464</td> <td>   -2.940</td> <td> 0.003</td> <td>  -95.387   -19.069</td>\n",
       "</tr>\n",
       "<tr>\n",
       "  <th>Outlet_Size_Medium</th>            <td>  260.7658</td> <td>   21.492</td> <td>   12.133</td> <td> 0.000</td> <td>  218.632   302.900</td>\n",
       "</tr>\n",
       "<tr>\n",
       "  <th>Outlet_Size_Small</th>             <td> -347.3094</td> <td>   22.713</td> <td>  -15.291</td> <td> 0.000</td> <td> -391.838  -302.781</td>\n",
       "</tr>\n",
       "<tr>\n",
       "  <th>Outlet_Location_Type_Tier 1</th>   <td> -245.1735</td> <td>   23.037</td> <td>  -10.643</td> <td> 0.000</td> <td> -290.336  -200.011</td>\n",
       "</tr>\n",
       "<tr>\n",
       "  <th>Outlet_Location_Type_Tier 2</th>   <td>  216.5379</td> <td>   24.599</td> <td>    8.803</td> <td> 0.000</td> <td>  168.312   264.764</td>\n",
       "</tr>\n",
       "<tr>\n",
       "  <th>Outlet_Location_Type_Tier 3</th>   <td> -115.1361</td> <td>   23.589</td> <td>   -4.881</td> <td> 0.000</td> <td> -161.381   -68.891</td>\n",
       "</tr>\n",
       "<tr>\n",
       "  <th>Outlet_Type_Grocery Store</th>     <td> -900.9213</td> <td>   23.749</td> <td>  -37.935</td> <td> 0.000</td> <td> -947.481  -854.362</td>\n",
       "</tr>\n",
       "<tr>\n",
       "  <th>Outlet_Type_Supermarket Type1</th> <td>  318.1571</td> <td>   22.145</td> <td>   14.367</td> <td> 0.000</td> <td>  274.743   361.572</td>\n",
       "</tr>\n",
       "<tr>\n",
       "  <th>Outlet_Type_Supermarket Type2</th> <td> -201.7002</td> <td>   21.162</td> <td>   -9.531</td> <td> 0.000</td> <td> -243.187  -160.213</td>\n",
       "</tr>\n",
       "<tr>\n",
       "  <th>Outlet_Type_Supermarket Type3</th> <td>  640.6927</td> <td>   21.059</td> <td>   30.423</td> <td> 0.000</td> <td>  599.406   681.979</td>\n",
       "</tr>\n",
       "</table>\n",
       "<table class=\"simpletable\">\n",
       "<tr>\n",
       "  <th>Omnibus:</th>       <td>439.877</td> <th>  Durbin-Watson:     </th> <td>   1.961</td> \n",
       "</tr>\n",
       "<tr>\n",
       "  <th>Prob(Omnibus):</th> <td> 0.000</td>  <th>  Jarque-Bera (JB):  </th> <td> 932.953</td> \n",
       "</tr>\n",
       "<tr>\n",
       "  <th>Skew:</th>          <td> 0.589</td>  <th>  Prob(JB):          </th> <td>2.58e-203</td>\n",
       "</tr>\n",
       "<tr>\n",
       "  <th>Kurtosis:</th>      <td> 4.818</td>  <th>  Cond. No.          </th> <td>5.03e+18</td> \n",
       "</tr>\n",
       "</table>"
      ],
      "text/plain": [
       "<class 'statsmodels.iolib.summary.Summary'>\n",
       "\"\"\"\n",
       "                            OLS Regression Results                            \n",
       "==============================================================================\n",
       "Dep. Variable:      Item_Outlet_Sales   R-squared:                       0.568\n",
       "Model:                            OLS   Adj. R-squared:                  0.567\n",
       "Method:                 Least Squares   F-statistic:                     696.2\n",
       "Date:                Sun, 21 Apr 2019   Prob (F-statistic):               0.00\n",
       "Time:                        13:12:28   Log-Likelihood:                -40264.\n",
       "No. Observations:                4772   AIC:                         8.055e+04\n",
       "Df Residuals:                    4762   BIC:                         8.061e+04\n",
       "Df Model:                           9                                         \n",
       "Covariance Type:            nonrobust                                         \n",
       "=================================================================================================\n",
       "                                    coef    std err          t      P>|t|      [95.0% Conf. Int.]\n",
       "-------------------------------------------------------------------------------------------------\n",
       "Item_MRP                         15.7348      0.259     60.654      0.000        15.226    16.243\n",
       "Outlet_Identifier_OUT010       -496.9006     35.037    -14.182      0.000      -565.590  -428.211\n",
       "Outlet_Identifier_OUT013        -57.2280     19.464     -2.940      0.003       -95.387   -19.069\n",
       "Outlet_Identifier_OUT018       -201.7002     21.162     -9.531      0.000      -243.187  -160.213\n",
       "Outlet_Identifier_OUT019       -404.0207     37.451    -10.788      0.000      -477.442  -330.599\n",
       "Outlet_Identifier_OUT027        640.6927     21.059     30.423      0.000       599.406   681.979\n",
       "Outlet_Identifier_OUT045       -141.5899     30.160     -4.695      0.000      -200.717   -82.463\n",
       "Outlet_Identifier_OUT045       -141.5899     30.160     -4.695      0.000      -200.717   -82.463\n",
       "Outlet_Identifier_OUT046        337.0739     32.411     10.400      0.000       273.533   400.614\n",
       "Outlet_Identifier_OUT049       -178.2267     26.026     -6.848      0.000      -229.251  -127.203\n",
       "Outlet_Size_High                -57.2280     19.464     -2.940      0.003       -95.387   -19.069\n",
       "Outlet_Size_Medium              260.7658     21.492     12.133      0.000       218.632   302.900\n",
       "Outlet_Size_Small              -347.3094     22.713    -15.291      0.000      -391.838  -302.781\n",
       "Outlet_Location_Type_Tier 1    -245.1735     23.037    -10.643      0.000      -290.336  -200.011\n",
       "Outlet_Location_Type_Tier 2     216.5379     24.599      8.803      0.000       168.312   264.764\n",
       "Outlet_Location_Type_Tier 3    -115.1361     23.589     -4.881      0.000      -161.381   -68.891\n",
       "Outlet_Type_Grocery Store      -900.9213     23.749    -37.935      0.000      -947.481  -854.362\n",
       "Outlet_Type_Supermarket Type1   318.1571     22.145     14.367      0.000       274.743   361.572\n",
       "Outlet_Type_Supermarket Type2  -201.7002     21.162     -9.531      0.000      -243.187  -160.213\n",
       "Outlet_Type_Supermarket Type3   640.6927     21.059     30.423      0.000       599.406   681.979\n",
       "==============================================================================\n",
       "Omnibus:                      439.877   Durbin-Watson:                   1.961\n",
       "Prob(Omnibus):                  0.000   Jarque-Bera (JB):              932.953\n",
       "Skew:                           0.589   Prob(JB):                    2.58e-203\n",
       "Kurtosis:                       4.818   Cond. No.                     5.03e+18\n",
       "==============================================================================\n",
       "\n",
       "Warnings:\n",
       "[1] Standard Errors assume that the covariance matrix of the errors is correctly specified.\n",
       "[2] The smallest eigenvalue is 4.53e-30. This might indicate that there are\n",
       "strong multicollinearity problems or that the design matrix is singular.\n",
       "\"\"\""
      ]
     },
     "execution_count": 119,
     "metadata": {},
     "output_type": "execute_result"
    }
   ],
   "source": [
    "x_train2=x_train1.ix[:,[ 1, 4,  5, 7,  8,  9, 11, 12, 13, 14, 15, 16, 17,\n",
    "       18, 19, 20, 21, 22, 23, 24]]\n",
    "\n",
    "x_cv2=x_cv1.ix[:,[ 1, 4,  5, 7,  8,  9, 11, 12, 13, 14, 15, 16, 17,\n",
    "       18, 19, 20, 21, 22, 23, 24]]\n",
    "\n",
    "lm=sm.OLS(y_train,x_train2)\n",
    "model=lm.fit()\n",
    "model.summary()"
   ]
  },
  {
   "cell_type": "code",
   "execution_count": 120,
   "metadata": {
    "collapsed": true
   },
   "outputs": [],
   "source": [
    "pred_cv = model.predict(x_train2)"
   ]
  },
  {
   "cell_type": "code",
   "execution_count": 55,
   "metadata": {
    "collapsed": true
   },
   "outputs": [],
   "source": [
    "import matplotlib.pyplot as plt\n",
    "%matplotlib inline"
   ]
  },
  {
   "cell_type": "code",
   "execution_count": 121,
   "metadata": {},
   "outputs": [
    {
     "data": {
      "text/plain": [
       "<matplotlib.text.Text at 0x188ad400>"
      ]
     },
     "execution_count": 121,
     "metadata": {},
     "output_type": "execute_result"
    },
    {
     "data": {
      "image/png": "[encoded data removed]",
      "text/plain": [
       "<matplotlib.figure.Figure at 0x1919bdd8>"
      ]
     },
     "metadata": {},
     "output_type": "display_data"
    }
   ],
   "source": [
    "x_plot = plt.scatter(pred_cv, (pred_cv - y_train), c='b')\n",
    "\n",
    "plt.hlines(y=0, xmin= -1000, xmax=5000)\n",
    "\n",
    "plt.title('Residual plot')"
   ]
  },
  {
   "cell_type": "markdown",
   "metadata": {},
   "source": [
    "######  heteroscedocity is present"
   ]
  },
  {
   "cell_type": "code",
   "execution_count": 122,
   "metadata": {
    "collapsed": true
   },
   "outputs": [],
   "source": [
    "pred_cv = model.predict(x_cv2)"
   ]
  },
  {
   "cell_type": "code",
   "execution_count": 123,
   "metadata": {
    "collapsed": true
   },
   "outputs": [],
   "source": [
    "from statsmodels.stats.outliers_influence import variance_inflation_factor"
   ]
  },
  {
   "cell_type": "code",
   "execution_count": 124,
   "metadata": {},
   "outputs": [
    {
     "ename": "TypeError",
     "evalue": "unhashable type",
     "output_type": "error",
     "traceback": [
      "\u001b[0;31m---------------------------------------------------------------------------\u001b[0m",
      "\u001b[0;31mTypeError\u001b[0m                                 Traceback (most recent call last)",
      "\u001b[0;32m<ipython-input-124-fe28f51fb4e7>\u001b[0m in \u001b[0;36m<module>\u001b[0;34m()\u001b[0m\n\u001b[0;32m----> 1\u001b[0;31m \u001b[0mvif\u001b[0m\u001b[1;33m=\u001b[0m\u001b[1;33m[\u001b[0m\u001b[0mvariance_inflation_factor\u001b[0m\u001b[1;33m(\u001b[0m\u001b[0mx_train2\u001b[0m\u001b[1;33m,\u001b[0m\u001b[0mi\u001b[0m\u001b[1;33m)\u001b[0m \u001b[1;32mfor\u001b[0m \u001b[0mi\u001b[0m \u001b[1;32min\u001b[0m \u001b[0mrange\u001b[0m\u001b[1;33m(\u001b[0m\u001b[0mx_train2\u001b[0m\u001b[1;33m.\u001b[0m\u001b[0mshape\u001b[0m\u001b[1;33m[\u001b[0m\u001b[1;36m1\u001b[0m\u001b[1;33m]\u001b[0m\u001b[1;33m)\u001b[0m\u001b[1;33m]\u001b[0m\u001b[1;33m\u001b[0m\u001b[0m\n\u001b[0m",
      "\u001b[0;32mC:\\Program Files\\Anaconda2\\lib\\site-packages\\statsmodels\\stats\\outliers_influence.py\u001b[0m in \u001b[0;36mvariance_inflation_factor\u001b[0;34m(exog, exog_idx)\u001b[0m\n\u001b[1;32m    161\u001b[0m     '''\n\u001b[1;32m    162\u001b[0m     \u001b[0mk_vars\u001b[0m \u001b[1;33m=\u001b[0m \u001b[0mexog\u001b[0m\u001b[1;33m.\u001b[0m\u001b[0mshape\u001b[0m\u001b[1;33m[\u001b[0m\u001b[1;36m1\u001b[0m\u001b[1;33m]\u001b[0m\u001b[1;33m\u001b[0m\u001b[0m\n\u001b[0;32m--> 163\u001b[0;31m     \u001b[0mx_i\u001b[0m \u001b[1;33m=\u001b[0m \u001b[0mexog\u001b[0m\u001b[1;33m[\u001b[0m\u001b[1;33m:\u001b[0m\u001b[1;33m,\u001b[0m \u001b[0mexog_idx\u001b[0m\u001b[1;33m]\u001b[0m\u001b[1;33m\u001b[0m\u001b[0m\n\u001b[0m\u001b[1;32m    164\u001b[0m     \u001b[0mmask\u001b[0m \u001b[1;33m=\u001b[0m \u001b[0mnp\u001b[0m\u001b[1;33m.\u001b[0m\u001b[0marange\u001b[0m\u001b[1;33m(\u001b[0m\u001b[0mk_vars\u001b[0m\u001b[1;33m)\u001b[0m \u001b[1;33m!=\u001b[0m \u001b[0mexog_idx\u001b[0m\u001b[1;33m\u001b[0m\u001b[0m\n\u001b[1;32m    165\u001b[0m     \u001b[0mx_noti\u001b[0m \u001b[1;33m=\u001b[0m \u001b[0mexog\u001b[0m\u001b[1;33m[\u001b[0m\u001b[1;33m:\u001b[0m\u001b[1;33m,\u001b[0m \u001b[0mmask\u001b[0m\u001b[1;33m]\u001b[0m\u001b[1;33m\u001b[0m\u001b[0m\n",
      "\u001b[0;32mC:\\Program Files\\Anaconda2\\lib\\site-packages\\pandas\\core\\frame.py\u001b[0m in \u001b[0;36m__getitem__\u001b[0;34m(self, key)\u001b[0m\n\u001b[1;32m   1995\u001b[0m             \u001b[1;32mreturn\u001b[0m \u001b[0mself\u001b[0m\u001b[1;33m.\u001b[0m\u001b[0m_getitem_multilevel\u001b[0m\u001b[1;33m(\u001b[0m\u001b[0mkey\u001b[0m\u001b[1;33m)\u001b[0m\u001b[1;33m\u001b[0m\u001b[0m\n\u001b[1;32m   1996\u001b[0m         \u001b[1;32melse\u001b[0m\u001b[1;33m:\u001b[0m\u001b[1;33m\u001b[0m\u001b[0m\n\u001b[0;32m-> 1997\u001b[0;31m             \u001b[1;32mreturn\u001b[0m \u001b[0mself\u001b[0m\u001b[1;33m.\u001b[0m\u001b[0m_getitem_column\u001b[0m\u001b[1;33m(\u001b[0m\u001b[0mkey\u001b[0m\u001b[1;33m)\u001b[0m\u001b[1;33m\u001b[0m\u001b[0m\n\u001b[0m\u001b[1;32m   1998\u001b[0m \u001b[1;33m\u001b[0m\u001b[0m\n\u001b[1;32m   1999\u001b[0m     \u001b[1;32mdef\u001b[0m \u001b[0m_getitem_column\u001b[0m\u001b[1;33m(\u001b[0m\u001b[0mself\u001b[0m\u001b[1;33m,\u001b[0m \u001b[0mkey\u001b[0m\u001b[1;33m)\u001b[0m\u001b[1;33m:\u001b[0m\u001b[1;33m\u001b[0m\u001b[0m\n",
      "\u001b[0;32mC:\\Program Files\\Anaconda2\\lib\\site-packages\\pandas\\core\\frame.py\u001b[0m in \u001b[0;36m_getitem_column\u001b[0;34m(self, key)\u001b[0m\n\u001b[1;32m   2005\u001b[0m \u001b[1;33m\u001b[0m\u001b[0m\n\u001b[1;32m   2006\u001b[0m         \u001b[1;31m# duplicate columns & possible reduce dimensionality\u001b[0m\u001b[1;33m\u001b[0m\u001b[1;33m\u001b[0m\u001b[0m\n\u001b[0;32m-> 2007\u001b[0;31m         \u001b[0mresult\u001b[0m \u001b[1;33m=\u001b[0m \u001b[0mself\u001b[0m\u001b[1;33m.\u001b[0m\u001b[0m_constructor\u001b[0m\u001b[1;33m(\u001b[0m\u001b[0mself\u001b[0m\u001b[1;33m.\u001b[0m\u001b[0m_data\u001b[0m\u001b[1;33m.\u001b[0m\u001b[0mget\u001b[0m\u001b[1;33m(\u001b[0m\u001b[0mkey\u001b[0m\u001b[1;33m)\u001b[0m\u001b[1;33m)\u001b[0m\u001b[1;33m\u001b[0m\u001b[0m\n\u001b[0m\u001b[1;32m   2008\u001b[0m         \u001b[1;32mif\u001b[0m \u001b[0mresult\u001b[0m\u001b[1;33m.\u001b[0m\u001b[0mcolumns\u001b[0m\u001b[1;33m.\u001b[0m\u001b[0mis_unique\u001b[0m\u001b[1;33m:\u001b[0m\u001b[1;33m\u001b[0m\u001b[0m\n\u001b[1;32m   2009\u001b[0m             \u001b[0mresult\u001b[0m \u001b[1;33m=\u001b[0m \u001b[0mresult\u001b[0m\u001b[1;33m[\u001b[0m\u001b[0mkey\u001b[0m\u001b[1;33m]\u001b[0m\u001b[1;33m\u001b[0m\u001b[0m\n",
      "\u001b[0;32mC:\\Program Files\\Anaconda2\\lib\\site-packages\\pandas\\core\\internals.py\u001b[0m in \u001b[0;36mget\u001b[0;34m(self, item, fastpath)\u001b[0m\n\u001b[1;32m   3305\u001b[0m                 \u001b[1;32mraise\u001b[0m \u001b[0mTypeError\u001b[0m\u001b[1;33m(\u001b[0m\u001b[1;34m\"cannot label index with a null key\"\u001b[0m\u001b[1;33m)\u001b[0m\u001b[1;33m\u001b[0m\u001b[0m\n\u001b[1;32m   3306\u001b[0m \u001b[1;33m\u001b[0m\u001b[0m\n\u001b[0;32m-> 3307\u001b[0;31m             \u001b[0mindexer\u001b[0m \u001b[1;33m=\u001b[0m \u001b[0mself\u001b[0m\u001b[1;33m.\u001b[0m\u001b[0mitems\u001b[0m\u001b[1;33m.\u001b[0m\u001b[0mget_indexer_for\u001b[0m\u001b[1;33m(\u001b[0m\u001b[1;33m[\u001b[0m\u001b[0mitem\u001b[0m\u001b[1;33m]\u001b[0m\u001b[1;33m)\u001b[0m\u001b[1;33m\u001b[0m\u001b[0m\n\u001b[0m\u001b[1;32m   3308\u001b[0m             return self.reindex_indexer(new_axis=self.items[indexer],\n\u001b[1;32m   3309\u001b[0m                                         \u001b[0mindexer\u001b[0m\u001b[1;33m=\u001b[0m\u001b[0mindexer\u001b[0m\u001b[1;33m,\u001b[0m \u001b[0maxis\u001b[0m\u001b[1;33m=\u001b[0m\u001b[1;36m0\u001b[0m\u001b[1;33m,\u001b[0m\u001b[1;33m\u001b[0m\u001b[0m\n",
      "\u001b[0;32mC:\\Program Files\\Anaconda2\\lib\\site-packages\\pandas\\indexes\\base.py\u001b[0m in \u001b[0;36mget_indexer_for\u001b[0;34m(self, target, **kwargs)\u001b[0m\n\u001b[1;32m   2196\u001b[0m         \u001b[1;32mif\u001b[0m \u001b[0mself\u001b[0m\u001b[1;33m.\u001b[0m\u001b[0mis_unique\u001b[0m\u001b[1;33m:\u001b[0m\u001b[1;33m\u001b[0m\u001b[0m\n\u001b[1;32m   2197\u001b[0m             \u001b[1;32mreturn\u001b[0m \u001b[0mself\u001b[0m\u001b[1;33m.\u001b[0m\u001b[0mget_indexer\u001b[0m\u001b[1;33m(\u001b[0m\u001b[0mtarget\u001b[0m\u001b[1;33m,\u001b[0m \u001b[1;33m**\u001b[0m\u001b[0mkwargs\u001b[0m\u001b[1;33m)\u001b[0m\u001b[1;33m\u001b[0m\u001b[0m\n\u001b[0;32m-> 2198\u001b[0;31m         \u001b[0mindexer\u001b[0m\u001b[1;33m,\u001b[0m \u001b[0m_\u001b[0m \u001b[1;33m=\u001b[0m \u001b[0mself\u001b[0m\u001b[1;33m.\u001b[0m\u001b[0mget_indexer_non_unique\u001b[0m\u001b[1;33m(\u001b[0m\u001b[0mtarget\u001b[0m\u001b[1;33m,\u001b[0m \u001b[1;33m**\u001b[0m\u001b[0mkwargs\u001b[0m\u001b[1;33m)\u001b[0m\u001b[1;33m\u001b[0m\u001b[0m\n\u001b[0m\u001b[1;32m   2199\u001b[0m         \u001b[1;32mreturn\u001b[0m \u001b[0mindexer\u001b[0m\u001b[1;33m\u001b[0m\u001b[0m\n\u001b[1;32m   2200\u001b[0m \u001b[1;33m\u001b[0m\u001b[0m\n",
      "\u001b[0;32mC:\\Program Files\\Anaconda2\\lib\\site-packages\\pandas\\indexes\\base.py\u001b[0m in \u001b[0;36mget_indexer_non_unique\u001b[0;34m(self, target)\u001b[0m\n\u001b[1;32m   2189\u001b[0m             \u001b[0mtgt_values\u001b[0m \u001b[1;33m=\u001b[0m \u001b[0mtarget\u001b[0m\u001b[1;33m.\u001b[0m\u001b[0m_values\u001b[0m\u001b[1;33m\u001b[0m\u001b[0m\n\u001b[1;32m   2190\u001b[0m \u001b[1;33m\u001b[0m\u001b[0m\n\u001b[0;32m-> 2191\u001b[0;31m         \u001b[0mindexer\u001b[0m\u001b[1;33m,\u001b[0m \u001b[0mmissing\u001b[0m \u001b[1;33m=\u001b[0m \u001b[0mself\u001b[0m\u001b[1;33m.\u001b[0m\u001b[0m_engine\u001b[0m\u001b[1;33m.\u001b[0m\u001b[0mget_indexer_non_unique\u001b[0m\u001b[1;33m(\u001b[0m\u001b[0mtgt_values\u001b[0m\u001b[1;33m)\u001b[0m\u001b[1;33m\u001b[0m\u001b[0m\n\u001b[0m\u001b[1;32m   2192\u001b[0m         \u001b[1;32mreturn\u001b[0m \u001b[0mIndex\u001b[0m\u001b[1;33m(\u001b[0m\u001b[0mindexer\u001b[0m\u001b[1;33m)\u001b[0m\u001b[1;33m,\u001b[0m \u001b[0mmissing\u001b[0m\u001b[1;33m\u001b[0m\u001b[0m\n\u001b[1;32m   2193\u001b[0m \u001b[1;33m\u001b[0m\u001b[0m\n",
      "\u001b[0;32mpandas\\index.pyx\u001b[0m in \u001b[0;36mpandas.index.IndexEngine.get_indexer_non_unique (pandas\\index.c:6148)\u001b[0;34m()\u001b[0m\n",
      "\u001b[0;31mTypeError\u001b[0m: unhashable type"
     ]
    }
   ],
   "source": [
    "vif=[variance_inflation_factor(x_train2,i) for i in range(x_train2.shape[1])]"
   ]
  },
  {
   "cell_type": "code",
   "execution_count": 127,
   "metadata": {},
   "outputs": [
    {
     "data": {
      "text/plain": [
       "<matplotlib.axes._subplots.AxesSubplot at 0x124749e8>"
      ]
     },
     "execution_count": 127,
     "metadata": {},
     "output_type": "execute_result"
    },
    {
     "data": {
      "image/png": "[encoded data removed]",
      "text/plain": [
       "<matplotlib.figure.Figure at 0x149bee10>"
      ]
     },
     "metadata": {},
     "output_type": "display_data"
    }
   ],
   "source": [
    "from sklearn.linear_model import LinearRegression\n",
    "\n",
    "lreg = LinearRegression()\n",
    "lreg.fit(x_train2,y_train)\n",
    "\n",
    "predictors = x_train2.columns\n",
    "\n",
    "coef = Series(lreg.coef_,predictors).sort_values()\n",
    "\n",
    "coef.plot(kind='bar', title='Modal Coefficients')"
   ]
  },
  {
   "cell_type": "code",
   "execution_count": 129,
   "metadata": {
    "collapsed": true
   },
   "outputs": [],
   "source": [
    "from sklearn.linear_model import Ridge"
   ]
  },
  {
   "cell_type": "code",
   "execution_count": 130,
   "metadata": {
    "scrolled": true
   },
   "outputs": [
    {
     "name": "stdout",
     "output_type": "stream",
     "text": [
      "1118.40893869\n",
      "0.567334843154\n"
     ]
    },
    {
     "data": {
      "text/plain": [
       "<matplotlib.axes._subplots.AxesSubplot at 0x123ad4a8>"
      ]
     },
     "execution_count": 130,
     "metadata": {},
     "output_type": "execute_result"
    },
    {
     "data": {
      "image/png": "[encoded data removed]",
      "text/plain": [
       "<matplotlib.figure.Figure at 0x1888ad30>"
      ]
     },
     "metadata": {},
     "output_type": "display_data"
    }
   ],
   "source": [
    "al=0.05\n",
    "\n",
    "ridgeReg = Ridge(alpha=al, normalize=True)\n",
    "\n",
    "## training the model\n",
    "\n",
    "ridgeReg.fit(x_train2,y_train)\n",
    "\n",
    "pred_cv = ridgeReg.predict(x_train2)\n",
    "\n",
    "#calculating mse\n",
    "\n",
    "mse = np.mean((pred_cv - y_train)**2)\n",
    "\n",
    "print(np.sqrt(mse))\n",
    "print(ridgeReg.score(x_train2,y_train))\n",
    "\n",
    "redictors = x_train2.columns\n",
    "\n",
    "coef = Series(ridgeReg.coef_,predictors).sort_values()\n",
    "\n",
    "coef.plot(kind='bar', title='Modal Coefficients')"
   ]
  },
  {
   "cell_type": "code",
   "execution_count": 131,
   "metadata": {},
   "outputs": [
    {
     "name": "stdout",
     "output_type": "stream",
     "text": [
      "1141.67981165\n",
      "0.557560276258\n"
     ]
    }
   ],
   "source": [
    "## test the model\n",
    "pred_cv = ridgeReg.predict(x_cv2)\n",
    "#calculating mse\n",
    "mse = np.mean((pred_cv - y_cv)**2)\n",
    "print(np.sqrt(mse))\n",
    "print(ridgeReg.score(x_cv2,y_cv))"
   ]
  },
  {
   "cell_type": "code",
   "execution_count": 134,
   "metadata": {},
   "outputs": [
    {
     "data": {
      "text/plain": [
       "[0, 2, 4, 6, 8, 10, 12, 14, 16, 18, 20, 22, 24]"
      ]
     },
     "execution_count": 134,
     "metadata": {},
     "output_type": "execute_result"
    }
   ],
   "source": [
    "list(range(0,25,2))"
   ]
  },
  {
   "cell_type": "code",
   "execution_count": 135,
   "metadata": {},
   "outputs": [
    {
     "data": {
      "text/plain": [
       "[1, 2, 3, 4, 5, 6, 7, 8, 9]"
      ]
     },
     "execution_count": 135,
     "metadata": {},
     "output_type": "execute_result"
    }
   ],
   "source": [
    "range(1,10)"
   ]
  },
  {
   "cell_type": "code",
   "execution_count": 136,
   "metadata": {},
   "outputs": [],
   "source": [
    "import numpy as np"
   ]
  },
  {
   "cell_type": "code",
   "execution_count": 137,
   "metadata": {},
   "outputs": [],
   "source": [
    "alp=np.arange(0,25,0.1)"
   ]
  },
  {
   "cell_type": "code",
   "execution_count": 138,
   "metadata": {},
   "outputs": [
    {
     "data": {
      "text/plain": [
       "array([  0.00000000e+00,   1.00000000e-03,   2.00000000e-03, ...,\n",
       "         4.99700000e+00,   4.99800000e+00,   4.99900000e+00])"
      ]
     },
     "execution_count": 138,
     "metadata": {},
     "output_type": "execute_result"
    }
   ],
   "source": [
    "alp=np.arange(0,5,0.001)\n",
    "alp"
   ]
  },
  {
   "cell_type": "code",
   "execution_count": 140,
   "metadata": {},
   "outputs": [
    {
     "data": {
      "text/html": [
       "<div>\n",
       "<table border=\"1\" class=\"dataframe\">\n",
       "  <thead>\n",
       "    <tr style=\"text-align: right;\">\n",
       "      <th></th>\n",
       "      <th>Alpha</th>\n",
       "      <th>RMSE</th>\n",
       "      <th>r2</th>\n",
       "    </tr>\n",
       "  </thead>\n",
       "  <tbody>\n",
       "    <tr>\n",
       "      <th>0</th>\n",
       "      <td>0.0</td>\n",
       "      <td>1.249266e+06</td>\n",
       "      <td>0.567879</td>\n",
       "    </tr>\n",
       "    <tr>\n",
       "      <th>1</th>\n",
       "      <td>1.0</td>\n",
       "      <td>1.547569e+06</td>\n",
       "      <td>0.464696</td>\n",
       "    </tr>\n",
       "    <tr>\n",
       "      <th>2</th>\n",
       "      <td>2.0</td>\n",
       "      <td>1.812961e+06</td>\n",
       "      <td>0.372897</td>\n",
       "    </tr>\n",
       "    <tr>\n",
       "      <th>3</th>\n",
       "      <td>3.0</td>\n",
       "      <td>1.992866e+06</td>\n",
       "      <td>0.310667</td>\n",
       "    </tr>\n",
       "    <tr>\n",
       "      <th>4</th>\n",
       "      <td>4.0</td>\n",
       "      <td>2.121082e+06</td>\n",
       "      <td>0.266318</td>\n",
       "    </tr>\n",
       "  </tbody>\n",
       "</table>\n",
       "</div>"
      ],
      "text/plain": [
       "   Alpha          RMSE        r2\n",
       "0    0.0  1.249266e+06  0.567879\n",
       "1    1.0  1.547569e+06  0.464696\n",
       "2    2.0  1.812961e+06  0.372897\n",
       "3    3.0  1.992866e+06  0.310667\n",
       "4    4.0  2.121082e+06  0.266318"
      ]
     },
     "execution_count": 140,
     "metadata": {},
     "output_type": "execute_result"
    }
   ],
   "source": [
    "df=[]\n",
    "alp=np.arange(0,5)\n",
    "for i in alp:\n",
    "    ridgeReg = Ridge(alpha=i, normalize=True)\n",
    "    ## training the model\n",
    "    ridgeReg.fit(x_train2,y_train)\n",
    "    pred_cv = ridgeReg.predict(x_train2)\n",
    "    ##calculating mse\n",
    "    mse = np.mean((pred_cv - y_train)**2)\n",
    "    r_square=ridgeReg.score(x_train2,y_train)\n",
    "    al=round(i,3)\n",
    "    df.append([al,mse,r_square])\n",
    "\n",
    "cols = ['Alpha','RMSE', 'r2']\n",
    "df1 = pd.DataFrame(df, columns=cols)    \n",
    "df1.head()"
   ]
  },
  {
   "cell_type": "code",
   "execution_count": 141,
   "metadata": {},
   "outputs": [
    {
     "data": {
      "text/html": [
       "<div>\n",
       "<table border=\"1\" class=\"dataframe\">\n",
       "  <thead>\n",
       "    <tr style=\"text-align: right;\">\n",
       "      <th></th>\n",
       "      <th>Alpha</th>\n",
       "      <th>RMSE</th>\n",
       "      <th>r2</th>\n",
       "    </tr>\n",
       "  </thead>\n",
       "  <tbody>\n",
       "    <tr>\n",
       "      <th>0</th>\n",
       "      <td>0.00</td>\n",
       "      <td>1.249266e+06</td>\n",
       "      <td>0.567879</td>\n",
       "    </tr>\n",
       "    <tr>\n",
       "      <th>1</th>\n",
       "      <td>0.01</td>\n",
       "      <td>1.248456e+06</td>\n",
       "      <td>0.568159</td>\n",
       "    </tr>\n",
       "    <tr>\n",
       "      <th>2</th>\n",
       "      <td>0.02</td>\n",
       "      <td>1.248769e+06</td>\n",
       "      <td>0.568051</td>\n",
       "    </tr>\n",
       "    <tr>\n",
       "      <th>3</th>\n",
       "      <td>0.03</td>\n",
       "      <td>1.249278e+06</td>\n",
       "      <td>0.567875</td>\n",
       "    </tr>\n",
       "    <tr>\n",
       "      <th>4</th>\n",
       "      <td>0.04</td>\n",
       "      <td>1.249971e+06</td>\n",
       "      <td>0.567635</td>\n",
       "    </tr>\n",
       "  </tbody>\n",
       "</table>\n",
       "</div>"
      ],
      "text/plain": [
       "   Alpha          RMSE        r2\n",
       "0   0.00  1.249266e+06  0.567879\n",
       "1   0.01  1.248456e+06  0.568159\n",
       "2   0.02  1.248769e+06  0.568051\n",
       "3   0.03  1.249278e+06  0.567875\n",
       "4   0.04  1.249971e+06  0.567635"
      ]
     },
     "execution_count": 141,
     "metadata": {},
     "output_type": "execute_result"
    }
   ],
   "source": [
    "df=[]\n",
    "alp=np.arange(0,1,0.01)\n",
    "for i in alp:\n",
    "    ridgeReg = Ridge(alpha=i, normalize=True)\n",
    "    ## training the model\n",
    "    ridgeReg.fit(x_train2,y_train)\n",
    "    pred_cv = ridgeReg.predict(x_train2)\n",
    "    ##calculating mse\n",
    "    mse = np.mean((pred_cv - y_train)**2)\n",
    "    r_square=ridgeReg.score(x_train2,y_train)\n",
    "    al=round(i,3)\n",
    "    df.append([al,mse,r_square])\n",
    "\n",
    "cols = ['Alpha','RMSE', 'r2']\n",
    "df1 = pd.DataFrame(df, columns=cols)    \n",
    "df1.head()"
   ]
  },
  {
   "cell_type": "code",
   "execution_count": 142,
   "metadata": {},
   "outputs": [
    {
     "data": {
      "text/html": [
       "<div>\n",
       "<table border=\"1\" class=\"dataframe\">\n",
       "  <thead>\n",
       "    <tr style=\"text-align: right;\">\n",
       "      <th></th>\n",
       "      <th>Alpha</th>\n",
       "      <th>RMSE</th>\n",
       "      <th>r2</th>\n",
       "    </tr>\n",
       "  </thead>\n",
       "  <tbody>\n",
       "    <tr>\n",
       "      <th>0</th>\n",
       "      <td>0.000</td>\n",
       "      <td>1.249266e+06</td>\n",
       "      <td>0.567879</td>\n",
       "    </tr>\n",
       "    <tr>\n",
       "      <th>1</th>\n",
       "      <td>0.001</td>\n",
       "      <td>1.248349e+06</td>\n",
       "      <td>0.568196</td>\n",
       "    </tr>\n",
       "    <tr>\n",
       "      <th>2</th>\n",
       "      <td>0.002</td>\n",
       "      <td>1.248353e+06</td>\n",
       "      <td>0.568195</td>\n",
       "    </tr>\n",
       "    <tr>\n",
       "      <th>3</th>\n",
       "      <td>0.003</td>\n",
       "      <td>1.248358e+06</td>\n",
       "      <td>0.568193</td>\n",
       "    </tr>\n",
       "    <tr>\n",
       "      <th>4</th>\n",
       "      <td>0.004</td>\n",
       "      <td>1.248366e+06</td>\n",
       "      <td>0.568190</td>\n",
       "    </tr>\n",
       "  </tbody>\n",
       "</table>\n",
       "</div>"
      ],
      "text/plain": [
       "   Alpha          RMSE        r2\n",
       "0  0.000  1.249266e+06  0.567879\n",
       "1  0.001  1.248349e+06  0.568196\n",
       "2  0.002  1.248353e+06  0.568195\n",
       "3  0.003  1.248358e+06  0.568193\n",
       "4  0.004  1.248366e+06  0.568190"
      ]
     },
     "execution_count": 142,
     "metadata": {},
     "output_type": "execute_result"
    }
   ],
   "source": [
    "df=[]\n",
    "alp=np.arange(0,1,0.001)\n",
    "for i in alp:\n",
    "    ridgeReg = Ridge(alpha=i, normalize=True)\n",
    "    ## training the model\n",
    "    ridgeReg.fit(x_train2,y_train)\n",
    "    pred_cv = ridgeReg.predict(x_train2)\n",
    "    ##calculating mse\n",
    "    mse = np.mean((pred_cv - y_train)**2)\n",
    "    r_square=ridgeReg.score(x_train2,y_train)\n",
    "    al=round(i,3)\n",
    "    df.append([al,mse,r_square])\n",
    "\n",
    "cols = ['Alpha','RMSE', 'r2']\n",
    "df1 = pd.DataFrame(df, columns=cols)    \n",
    "df1.head()"
   ]
  },
  {
   "cell_type": "code",
   "execution_count": 143,
   "metadata": {},
   "outputs": [
    {
     "name": "stdout",
     "output_type": "stream",
     "text": [
      "1117.34306362\n",
      "0.568159134228\n"
     ]
    }
   ],
   "source": [
    "a=.01\n",
    "ridgeReg = Ridge(alpha=a, normalize=True)\n",
    "## training the model\n",
    "ridgeReg.fit(x_train2,y_train)\n",
    "pred_cv = ridgeReg.predict(x_train2)\n",
    "#calculating mse\n",
    "mse = np.mean((pred_cv - y_train)**2)\n",
    "print(np.sqrt(mse))\n",
    "## calculating score\n",
    "print(ridgeReg.score(x_train2,y_train))"
   ]
  },
  {
   "cell_type": "code",
   "execution_count": 144,
   "metadata": {},
   "outputs": [
    {
     "name": "stdout",
     "output_type": "stream",
     "text": [
      "1141.60220256\n",
      "0.557620426529\n"
     ]
    }
   ],
   "source": [
    "pred_cv = ridgeReg.predict(x_cv2)\n",
    "#calculating mse\n",
    "mse = np.mean((pred_cv - y_cv)**2)\n",
    "print(np.sqrt(mse))\n",
    "## calculating score\n",
    "print(ridgeReg.score(x_cv2,y_cv))"
   ]
  },
  {
   "cell_type": "code",
   "execution_count": 145,
   "metadata": {},
   "outputs": [
    {
     "data": {
      "text/plain": [
       "<matplotlib.axes._subplots.AxesSubplot at 0x185767f0>"
      ]
     },
     "execution_count": 145,
     "metadata": {},
     "output_type": "execute_result"
    },
    {
     "data": {
      "image/png": "[encoded data removed]",
      "text/plain": [
       "<matplotlib.figure.Figure at 0x12074198>"
      ]
     },
     "metadata": {},
     "output_type": "display_data"
    }
   ],
   "source": [
    "predictors = x_train2.columns\n",
    "\n",
    "coef = Series(ridgeReg.coef_,predictors).sort_values()\n",
    "\n",
    "coef.plot(kind='bar', title='Modal Coefficients')"
   ]
  },
  {
   "cell_type": "markdown",
   "metadata": {},
   "source": [
    "###### Lasso regression"
   ]
  },
  {
   "cell_type": "code",
   "execution_count": 146,
   "metadata": {
    "collapsed": true
   },
   "outputs": [],
   "source": [
    "from sklearn.linear_model import Lasso"
   ]
  },
  {
   "cell_type": "code",
   "execution_count": 147,
   "metadata": {},
   "outputs": [
    {
     "name": "stdout",
     "output_type": "stream",
     "text": [
      "1118.95977207\n"
     ]
    },
    {
     "data": {
      "text/plain": [
       "0.56690854988671258"
      ]
     },
     "execution_count": 147,
     "metadata": {},
     "output_type": "execute_result"
    }
   ],
   "source": [
    "lassoReg = Lasso(alpha=0.3, normalize=True)\n",
    "lassoReg.fit(x_train2,y_train)\n",
    "pred_cv = lassoReg.predict(x_train2)\n",
    "# calculating mse\n",
    "mse = np.mean((pred_cv - y_train)**2)\n",
    "print(np.sqrt(mse))\n",
    "lassoReg.score(x_train2,y_train)"
   ]
  },
  {
   "cell_type": "code",
   "execution_count": 148,
   "metadata": {},
   "outputs": [
    {
     "name": "stdout",
     "output_type": "stream",
     "text": [
      "1140.94731373\n",
      "0.558127829801\n"
     ]
    }
   ],
   "source": [
    "pred_cv = lassoReg.predict(x_cv2)\n",
    "# calculating mse\n",
    "mse = np.mean((pred_cv - y_cv)**2)\n",
    "print(np.sqrt(mse))\n",
    "print(lassoReg.score(x_cv2,y_cv))"
   ]
  },
  {
   "cell_type": "code",
   "execution_count": 149,
   "metadata": {},
   "outputs": [
    {
     "name": "stderr",
     "output_type": "stream",
     "text": [
      "C:\\Program Files\\Anaconda2\\lib\\site-packages\\ipykernel\\__main__.py:5: UserWarning: With alpha=0, this algorithm does not converge well. You are advised to use the LinearRegression estimator\n",
      "C:\\Program Files\\Anaconda2\\lib\\site-packages\\sklearn\\linear_model\\coordinate_descent.py:454: UserWarning: Coordinate descent with alpha=0 may lead to unexpected results and is discouraged.\n",
      "  positive)\n",
      "C:\\Program Files\\Anaconda2\\lib\\site-packages\\sklearn\\linear_model\\coordinate_descent.py:466: ConvergenceWarning: Objective did not converge. You might want to increase the number of iterations\n",
      "  ConvergenceWarning)\n"
     ]
    },
    {
     "data": {
      "text/html": [
       "<div>\n",
       "<table border=\"1\" class=\"dataframe\">\n",
       "  <thead>\n",
       "    <tr style=\"text-align: right;\">\n",
       "      <th></th>\n",
       "      <th>Alpha</th>\n",
       "      <th>RMSE</th>\n",
       "      <th>r2</th>\n",
       "    </tr>\n",
       "  </thead>\n",
       "  <tbody>\n",
       "    <tr>\n",
       "      <th>0</th>\n",
       "      <td>0.0</td>\n",
       "      <td>1117.295104</td>\n",
       "      <td>0.568196</td>\n",
       "    </tr>\n",
       "    <tr>\n",
       "      <th>1</th>\n",
       "      <td>1.0</td>\n",
       "      <td>1128.331891</td>\n",
       "      <td>0.559623</td>\n",
       "    </tr>\n",
       "    <tr>\n",
       "      <th>2</th>\n",
       "      <td>2.0</td>\n",
       "      <td>1148.876420</td>\n",
       "      <td>0.543441</td>\n",
       "    </tr>\n",
       "    <tr>\n",
       "      <th>3</th>\n",
       "      <td>3.0</td>\n",
       "      <td>1177.399786</td>\n",
       "      <td>0.520489</td>\n",
       "    </tr>\n",
       "    <tr>\n",
       "      <th>4</th>\n",
       "      <td>4.0</td>\n",
       "      <td>1216.209416</td>\n",
       "      <td>0.488357</td>\n",
       "    </tr>\n",
       "  </tbody>\n",
       "</table>\n",
       "</div>"
      ],
      "text/plain": [
       "   Alpha         RMSE        r2\n",
       "0    0.0  1117.295104  0.568196\n",
       "1    1.0  1128.331891  0.559623\n",
       "2    2.0  1148.876420  0.543441\n",
       "3    3.0  1177.399786  0.520489\n",
       "4    4.0  1216.209416  0.488357"
      ]
     },
     "execution_count": 149,
     "metadata": {},
     "output_type": "execute_result"
    }
   ],
   "source": [
    "df=[]\n",
    "alp=np.arange(0,5,1)\n",
    "for i in alp:\n",
    "    lassoReg = Lasso(alpha=i, normalize=True)\n",
    "    lassoReg.fit(x_train2,y_train)\n",
    "    pred_cv = lassoReg.predict(x_train2)\n",
    "    mse = np.mean((pred_cv - y_train)**2)\n",
    "    mse=np.sqrt(mse)\n",
    "    r_square=lassoReg.score(x_train2,y_train)\n",
    "    al=round(i,3)\n",
    "    df.append([al,mse,r_square])\n",
    "\n",
    "cols = ['Alpha','RMSE', 'r2']\n",
    "df1 = pd.DataFrame(df, columns=cols)    \n",
    "df1.head()"
   ]
  },
  {
   "cell_type": "code",
   "execution_count": 150,
   "metadata": {},
   "outputs": [
    {
     "name": "stderr",
     "output_type": "stream",
     "text": [
      "C:\\Program Files\\Anaconda2\\lib\\site-packages\\ipykernel\\__main__.py:5: UserWarning: With alpha=0, this algorithm does not converge well. You are advised to use the LinearRegression estimator\n"
     ]
    },
    {
     "data": {
      "text/html": [
       "<div>\n",
       "<table border=\"1\" class=\"dataframe\">\n",
       "  <thead>\n",
       "    <tr style=\"text-align: right;\">\n",
       "      <th></th>\n",
       "      <th>Alpha</th>\n",
       "      <th>RMSE</th>\n",
       "      <th>r2</th>\n",
       "    </tr>\n",
       "  </thead>\n",
       "  <tbody>\n",
       "    <tr>\n",
       "      <th>0</th>\n",
       "      <td>0.00</td>\n",
       "      <td>1117.295104</td>\n",
       "      <td>0.568196</td>\n",
       "    </tr>\n",
       "    <tr>\n",
       "      <th>1</th>\n",
       "      <td>0.01</td>\n",
       "      <td>1117.297001</td>\n",
       "      <td>0.568195</td>\n",
       "    </tr>\n",
       "    <tr>\n",
       "      <th>2</th>\n",
       "      <td>0.02</td>\n",
       "      <td>1117.302692</td>\n",
       "      <td>0.568190</td>\n",
       "    </tr>\n",
       "    <tr>\n",
       "      <th>3</th>\n",
       "      <td>0.03</td>\n",
       "      <td>1117.313134</td>\n",
       "      <td>0.568182</td>\n",
       "    </tr>\n",
       "    <tr>\n",
       "      <th>4</th>\n",
       "      <td>0.04</td>\n",
       "      <td>1117.327220</td>\n",
       "      <td>0.568171</td>\n",
       "    </tr>\n",
       "  </tbody>\n",
       "</table>\n",
       "</div>"
      ],
      "text/plain": [
       "   Alpha         RMSE        r2\n",
       "0   0.00  1117.295104  0.568196\n",
       "1   0.01  1117.297001  0.568195\n",
       "2   0.02  1117.302692  0.568190\n",
       "3   0.03  1117.313134  0.568182\n",
       "4   0.04  1117.327220  0.568171"
      ]
     },
     "execution_count": 150,
     "metadata": {},
     "output_type": "execute_result"
    }
   ],
   "source": [
    "df=[]\n",
    "alp=np.arange(0,1,0.01)\n",
    "for i in alp:\n",
    "    lassoReg = Lasso(alpha=i, normalize=True)\n",
    "    lassoReg.fit(x_train2,y_train)\n",
    "    pred_cv = lassoReg.predict(x_train2)\n",
    "    mse = np.mean((pred_cv - y_train)**2)\n",
    "    mse=np.sqrt(mse)\n",
    "    r_square=lassoReg.score(x_train2,y_train)\n",
    "    al=round(i,3)\n",
    "    df.append([al,mse,r_square])\n",
    "\n",
    "cols = ['Alpha','RMSE', 'r2']\n",
    "df1 = pd.DataFrame(df, columns=cols)    \n",
    "df1.head()"
   ]
  },
  {
   "cell_type": "code",
   "execution_count": 151,
   "metadata": {},
   "outputs": [
    {
     "name": "stdout",
     "output_type": "stream",
     "text": [
      "1117.2970013\n"
     ]
    },
    {
     "data": {
      "text/plain": [
       "0.56819473865808479"
      ]
     },
     "execution_count": 151,
     "metadata": {},
     "output_type": "execute_result"
    }
   ],
   "source": [
    "b=0.01\n",
    "lassoReg = Lasso(alpha=b, normalize=True)\n",
    "lassoReg.fit(x_train2,y_train)\n",
    "pred_cv = lassoReg.predict(x_train2)\n",
    "# calculating mse\n",
    "mse = np.mean((pred_cv - y_train)**2)\n",
    "print(np.sqrt(mse))\n",
    "lassoReg.score(x_train2,y_train)"
   ]
  },
  {
   "cell_type": "code",
   "execution_count": 152,
   "metadata": {},
   "outputs": [
    {
     "name": "stdout",
     "output_type": "stream",
     "text": [
      "1141.73288024\n"
     ]
    },
    {
     "data": {
      "text/plain": [
       "0.55751914353085419"
      ]
     },
     "execution_count": 152,
     "metadata": {},
     "output_type": "execute_result"
    }
   ],
   "source": [
    "pred_cv = lassoReg.predict(x_cv2)\n",
    "# calculating mse test (cv data)\n",
    "mse = np.mean((pred_cv - y_cv)**2)\n",
    "print(np.sqrt(mse))\n",
    "lassoReg.score(x_cv2,y_cv)"
   ]
  },
  {
   "cell_type": "code",
   "execution_count": 153,
   "metadata": {},
   "outputs": [
    {
     "data": {
      "text/plain": [
       "<matplotlib.axes._subplots.AxesSubplot at 0x129d1e10>"
      ]
     },
     "execution_count": 153,
     "metadata": {},
     "output_type": "execute_result"
    },
    {
     "data": {
      "image/png": "[encoded data removed]",
      "text/plain": [
       "<matplotlib.figure.Figure at 0x149b18d0>"
      ]
     },
     "metadata": {},
     "output_type": "display_data"
    }
   ],
   "source": [
    "predictors = x_train2.columns\n",
    "\n",
    "coef = Series(lassoReg.coef_,predictors).sort_values()\n",
    "\n",
    "coef.plot(kind='bar', title='Modal Coefficients')"
   ]
  },
  {
   "cell_type": "markdown",
   "metadata": {},
   "source": [
    "######  Elastic Net Regression"
   ]
  },
  {
   "cell_type": "markdown",
   "metadata": {},
   "source": [
    "###### Alpha = a + b           and     l1_ratio =  a / (a+b)\n",
    "\n",
    "where, a and b weights assigned to L1 and L2 term respectively. So when we change the values of alpha and l1_ratio, a and b are set aaccordingly such that they control trade off between L1 and L2 as:\n",
    "\n",
    "a * (L1 term) + b* (L2 term)\n",
    "\n",
    "Let alpha (or a+b) = 1, and now consider the following cases:\n",
    "\n",
    "If l1_ratio =1, therefore if we look at the formula of l1_ratio, we can see that l1_ratio can only be equal to 1 if a=1, which implies b=0. Therefore, it will be a lasso penalty.\n",
    "Similarly if l1_ratio = 0, implies a=0. Then the penalty will be a ridge penalty.\n",
    "For l1_ratio between 0 and 1, the penalty is the combination of ridge and lasso."
   ]
  },
  {
   "cell_type": "code",
   "execution_count": 154,
   "metadata": {},
   "outputs": [
    {
     "name": "stdout",
     "output_type": "stream",
     "text": [
      "1117.80198652\n",
      "0.567804324016\n"
     ]
    }
   ],
   "source": [
    "from sklearn.linear_model import ElasticNet\n",
    "alp=b+a ##########train model\n",
    "l1_r=b/(alp)\n",
    "ENreg = ElasticNet(alpha=alp, l1_ratio=l1_r, normalize=False)\n",
    "ENreg.fit(x_train2,y_train)\n",
    "pred_cv = ENreg.predict(x_train2)\n",
    "#calculating mse\n",
    "mse = np.mean((pred_cv - y_train)**2)\n",
    "r_square=ENreg.score(x_train2,y_train)\n",
    "print(np.sqrt(mse))\n",
    "print(r_square)"
   ]
  },
  {
   "cell_type": "code",
   "execution_count": 155,
   "metadata": {},
   "outputs": [
    {
     "name": "stdout",
     "output_type": "stream",
     "text": [
      "1141.82010181\n",
      "0.557451535168\n"
     ]
    }
   ],
   "source": [
    "pred_cv = ENreg.predict(x_cv2)\n",
    "#calculating mse\n",
    "mse = np.mean((pred_cv - y_cv)**2)\n",
    "r_square=ENreg.score(x_cv2,y_cv)\n",
    "print(np.sqrt(mse))\n",
    "print(r_square)"
   ]
  },
  {
   "cell_type": "code",
   "execution_count": 156,
   "metadata": {},
   "outputs": [
    {
     "data": {
      "text/plain": [
       "<matplotlib.axes._subplots.AxesSubplot at 0x15f41860>"
      ]
     },
     "execution_count": 156,
     "metadata": {},
     "output_type": "execute_result"
    },
    {
     "data": {
      "image/png": "[encoded data removed]",
      "text/plain": [
       "<matplotlib.figure.Figure at 0x161627f0>"
      ]
     },
     "metadata": {},
     "output_type": "display_data"
    }
   ],
   "source": [
    "predictors = x_train2.columns\n",
    "\n",
    "coef = Series(ENreg.coef_,predictors).sort_values()\n",
    "\n",
    "coef.plot(kind='bar', title='Modal Coefficients')"
   ]
  },
  {
   "cell_type": "markdown",
   "metadata": {
    "collapsed": true
   },
   "source": [
    "###### Random forest "
   ]
  },
  {
   "cell_type": "code",
   "execution_count": 157,
   "metadata": {
    "collapsed": true
   },
   "outputs": [],
   "source": [
    "# Import the model we are using\n",
    "from sklearn.ensemble import RandomForestRegressor"
   ]
  },
  {
   "cell_type": "code",
   "execution_count": 235,
   "metadata": {},
   "outputs": [
    {
     "data": {
      "text/plain": [
       "RandomForestRegressor(bootstrap=True, criterion='mse', max_depth=None,\n",
       "           max_features='auto', max_leaf_nodes=None, min_samples_leaf=1,\n",
       "           min_samples_split=2, min_weight_fraction_leaf=0.0,\n",
       "           n_estimators=100, n_jobs=1, oob_score=False, random_state=None,\n",
       "           verbose=0, warm_start=False)"
      ]
     },
     "execution_count": 235,
     "metadata": {},
     "output_type": "execute_result"
    }
   ],
   "source": [
    "# Instantiate model with 1000 decision trees\n",
    "rf = RandomForestRegressor(n_estimators = 100) ##42/3\n",
    "# Train the model on training data\n",
    "rf.fit(x_train, y_train)"
   ]
  },
  {
   "cell_type": "markdown",
   "metadata": {},
   "source": [
    "###### No.  trees r  n_estimators  for classification sqrt(p) \n",
    "##### for regression p/3    p is no. variables  (normaly 30,50,100)"
   ]
  },
  {
   "cell_type": "code",
   "execution_count": 236,
   "metadata": {},
   "outputs": [
    {
     "name": "stdout",
     "output_type": "stream",
     "text": [
      "423.339848361\n",
      "0.938008954181\n"
     ]
    }
   ],
   "source": [
    "pred_cv=rf.predict(x_train)\n",
    "mse = np.mean((pred_cv - y_train)**2)\n",
    "r_square=rf.score(x_train,y_train)\n",
    "print(np.sqrt(mse))\n",
    "print(r_square)"
   ]
  },
  {
   "cell_type": "markdown",
   "metadata": {},
   "source": [
    "######  overfitting problem occurce"
   ]
  },
  {
   "cell_type": "code",
   "execution_count": 173,
   "metadata": {},
   "outputs": [
    {
     "name": "stdout",
     "output_type": "stream",
     "text": [
      "1180.07615056\n",
      "0.527300071987\n"
     ]
    }
   ],
   "source": [
    "pred_cv=rf.predict(x_cv)\n",
    "mse = np.mean((pred_cv - y_cv)**2)\n",
    "r_square=rf.score(x_cv,y_cv)\n",
    "print(np.sqrt(mse))\n",
    "print(r_square)"
   ]
  },
  {
   "cell_type": "markdown",
   "metadata": {},
   "source": [
    "###### select below parameters\n",
    "n_estimators: in general the more trees the less likely the algorithm is to overfit. So try increasing this. The lower this number, the closer the model is to a decision tree, with a restricted feature set.\n",
    "\n",
    "max_features: try reducing this number (try 30-50% of the number of features). This determines how many features each tree is randomly assigned. The smaller, the less likely to overfit, but too small will start to introduce under fitting.\n",
    "\n",
    "max_depth: Experiment with this. This will reduce the complexity of the learned models, lowering over fitting risk. Try starting small, say 5-10, and increasing you get the best result.\n",
    "\n",
    "min_samples_leaf: Try setting this to values greater than one. This has a similar effect to the max_depth parameter, it means the branch will stop splitting once the leaves have that number of samples each.or(5% total variables)"
   ]
  },
  {
   "cell_type": "code",
   "execution_count": 261,
   "metadata": {
    "collapsed": true
   },
   "outputs": [],
   "source": [
    "rf = RandomForestRegressor(n_estimators = 100,min_samples_leaf=5,max_depth=5,random_state=123)"
   ]
  },
  {
   "cell_type": "code",
   "execution_count": 242,
   "metadata": {},
   "outputs": [
    {
     "name": "stdout",
     "output_type": "stream",
     "text": [
      "1058.00756623\n",
      "0.612806364114\n"
     ]
    }
   ],
   "source": [
    "# Train the model on training data\n",
    "rf.fit(x_train, y_train)\n",
    "pred_cv=rf.predict(x_train)\n",
    "mse = np.mean((pred_cv - y_train)**2)\n",
    "r_square=rf.score(x_train,y_train)\n",
    "print(np.sqrt(mse))\n",
    "print(r_square)"
   ]
  },
  {
   "cell_type": "code",
   "execution_count": 243,
   "metadata": {},
   "outputs": [
    {
     "name": "stdout",
     "output_type": "stream",
     "text": [
      "1086.18344594\n",
      "0.599528302422\n"
     ]
    }
   ],
   "source": [
    "pred_cv=rf.predict(x_cv)\n",
    "mse = np.mean((pred_cv - y_cv)**2)\n",
    "r_square=rf.score(x_cv,y_cv)\n",
    "print(np.sqrt(mse))\n",
    "print(r_square)"
   ]
  },
  {
   "cell_type": "markdown",
   "metadata": {},
   "source": [
    "###### min_samples_leaf is at least 5% total variables"
   ]
  },
  {
   "cell_type": "code",
   "execution_count": 273,
   "metadata": {},
   "outputs": [
    {
     "data": {
      "text/html": [
       "<div>\n",
       "<table border=\"1\" class=\"dataframe\">\n",
       "  <thead>\n",
       "    <tr style=\"text-align: right;\">\n",
       "      <th></th>\n",
       "      <th>min_samples_leaf</th>\n",
       "      <th>max_depth</th>\n",
       "      <th>R2_train</th>\n",
       "      <th>r2_test</th>\n",
       "    </tr>\n",
       "  </thead>\n",
       "  <tbody>\n",
       "    <tr>\n",
       "      <th>0</th>\n",
       "      <td>2</td>\n",
       "      <td>5</td>\n",
       "      <td>0.614208</td>\n",
       "      <td>0.598539</td>\n",
       "    </tr>\n",
       "    <tr>\n",
       "      <th>1</th>\n",
       "      <td>2</td>\n",
       "      <td>6</td>\n",
       "      <td>0.631322</td>\n",
       "      <td>0.598345</td>\n",
       "    </tr>\n",
       "    <tr>\n",
       "      <th>2</th>\n",
       "      <td>2</td>\n",
       "      <td>7</td>\n",
       "      <td>0.652284</td>\n",
       "      <td>0.596095</td>\n",
       "    </tr>\n",
       "    <tr>\n",
       "      <th>3</th>\n",
       "      <td>2</td>\n",
       "      <td>8</td>\n",
       "      <td>0.677706</td>\n",
       "      <td>0.592593</td>\n",
       "    </tr>\n",
       "    <tr>\n",
       "      <th>4</th>\n",
       "      <td>2</td>\n",
       "      <td>9</td>\n",
       "      <td>0.706016</td>\n",
       "      <td>0.588573</td>\n",
       "    </tr>\n",
       "    <tr>\n",
       "      <th>5</th>\n",
       "      <td>2</td>\n",
       "      <td>10</td>\n",
       "      <td>0.735591</td>\n",
       "      <td>0.582569</td>\n",
       "    </tr>\n",
       "    <tr>\n",
       "      <th>6</th>\n",
       "      <td>2</td>\n",
       "      <td>11</td>\n",
       "      <td>0.764396</td>\n",
       "      <td>0.578398</td>\n",
       "    </tr>\n",
       "    <tr>\n",
       "      <th>7</th>\n",
       "      <td>2</td>\n",
       "      <td>12</td>\n",
       "      <td>0.790414</td>\n",
       "      <td>0.574465</td>\n",
       "    </tr>\n",
       "    <tr>\n",
       "      <th>8</th>\n",
       "      <td>2</td>\n",
       "      <td>13</td>\n",
       "      <td>0.813551</td>\n",
       "      <td>0.570885</td>\n",
       "    </tr>\n",
       "    <tr>\n",
       "      <th>9</th>\n",
       "      <td>2</td>\n",
       "      <td>14</td>\n",
       "      <td>0.832270</td>\n",
       "      <td>0.567410</td>\n",
       "    </tr>\n",
       "    <tr>\n",
       "      <th>10</th>\n",
       "      <td>3</td>\n",
       "      <td>5</td>\n",
       "      <td>0.613965</td>\n",
       "      <td>0.598648</td>\n",
       "    </tr>\n",
       "    <tr>\n",
       "      <th>11</th>\n",
       "      <td>3</td>\n",
       "      <td>6</td>\n",
       "      <td>0.630633</td>\n",
       "      <td>0.597544</td>\n",
       "    </tr>\n",
       "    <tr>\n",
       "      <th>12</th>\n",
       "      <td>3</td>\n",
       "      <td>7</td>\n",
       "      <td>0.650823</td>\n",
       "      <td>0.595369</td>\n",
       "    </tr>\n",
       "    <tr>\n",
       "      <th>13</th>\n",
       "      <td>3</td>\n",
       "      <td>8</td>\n",
       "      <td>0.674787</td>\n",
       "      <td>0.590910</td>\n",
       "    </tr>\n",
       "    <tr>\n",
       "      <th>14</th>\n",
       "      <td>3</td>\n",
       "      <td>9</td>\n",
       "      <td>0.700508</td>\n",
       "      <td>0.586313</td>\n",
       "    </tr>\n",
       "    <tr>\n",
       "      <th>15</th>\n",
       "      <td>3</td>\n",
       "      <td>10</td>\n",
       "      <td>0.726679</td>\n",
       "      <td>0.580714</td>\n",
       "    </tr>\n",
       "    <tr>\n",
       "      <th>16</th>\n",
       "      <td>3</td>\n",
       "      <td>11</td>\n",
       "      <td>0.751200</td>\n",
       "      <td>0.575824</td>\n",
       "    </tr>\n",
       "    <tr>\n",
       "      <th>17</th>\n",
       "      <td>3</td>\n",
       "      <td>12</td>\n",
       "      <td>0.772713</td>\n",
       "      <td>0.572141</td>\n",
       "    </tr>\n",
       "    <tr>\n",
       "      <th>18</th>\n",
       "      <td>3</td>\n",
       "      <td>13</td>\n",
       "      <td>0.791023</td>\n",
       "      <td>0.568621</td>\n",
       "    </tr>\n",
       "    <tr>\n",
       "      <th>19</th>\n",
       "      <td>3</td>\n",
       "      <td>14</td>\n",
       "      <td>0.805473</td>\n",
       "      <td>0.565515</td>\n",
       "    </tr>\n",
       "    <tr>\n",
       "      <th>20</th>\n",
       "      <td>4</td>\n",
       "      <td>5</td>\n",
       "      <td>0.613801</td>\n",
       "      <td>0.598851</td>\n",
       "    </tr>\n",
       "    <tr>\n",
       "      <th>21</th>\n",
       "      <td>4</td>\n",
       "      <td>6</td>\n",
       "      <td>0.629998</td>\n",
       "      <td>0.597231</td>\n",
       "    </tr>\n",
       "    <tr>\n",
       "      <th>22</th>\n",
       "      <td>4</td>\n",
       "      <td>7</td>\n",
       "      <td>0.649518</td>\n",
       "      <td>0.595136</td>\n",
       "    </tr>\n",
       "    <tr>\n",
       "      <th>23</th>\n",
       "      <td>4</td>\n",
       "      <td>8</td>\n",
       "      <td>0.672035</td>\n",
       "      <td>0.590497</td>\n",
       "    </tr>\n",
       "    <tr>\n",
       "      <th>24</th>\n",
       "      <td>4</td>\n",
       "      <td>9</td>\n",
       "      <td>0.695390</td>\n",
       "      <td>0.586901</td>\n",
       "    </tr>\n",
       "    <tr>\n",
       "      <th>25</th>\n",
       "      <td>4</td>\n",
       "      <td>10</td>\n",
       "      <td>0.717923</td>\n",
       "      <td>0.582248</td>\n",
       "    </tr>\n",
       "    <tr>\n",
       "      <th>26</th>\n",
       "      <td>4</td>\n",
       "      <td>11</td>\n",
       "      <td>0.738440</td>\n",
       "      <td>0.578499</td>\n",
       "    </tr>\n",
       "    <tr>\n",
       "      <th>27</th>\n",
       "      <td>4</td>\n",
       "      <td>12</td>\n",
       "      <td>0.756381</td>\n",
       "      <td>0.575769</td>\n",
       "    </tr>\n",
       "    <tr>\n",
       "      <th>28</th>\n",
       "      <td>4</td>\n",
       "      <td>13</td>\n",
       "      <td>0.770676</td>\n",
       "      <td>0.573218</td>\n",
       "    </tr>\n",
       "    <tr>\n",
       "      <th>29</th>\n",
       "      <td>4</td>\n",
       "      <td>14</td>\n",
       "      <td>0.781618</td>\n",
       "      <td>0.570859</td>\n",
       "    </tr>\n",
       "    <tr>\n",
       "      <th>...</th>\n",
       "      <td>...</td>\n",
       "      <td>...</td>\n",
       "      <td>...</td>\n",
       "      <td>...</td>\n",
       "    </tr>\n",
       "    <tr>\n",
       "      <th>100</th>\n",
       "      <td>12</td>\n",
       "      <td>5</td>\n",
       "      <td>0.612479</td>\n",
       "      <td>0.599158</td>\n",
       "    </tr>\n",
       "    <tr>\n",
       "      <th>101</th>\n",
       "      <td>12</td>\n",
       "      <td>6</td>\n",
       "      <td>0.625631</td>\n",
       "      <td>0.598145</td>\n",
       "    </tr>\n",
       "    <tr>\n",
       "      <th>102</th>\n",
       "      <td>12</td>\n",
       "      <td>7</td>\n",
       "      <td>0.639234</td>\n",
       "      <td>0.595976</td>\n",
       "    </tr>\n",
       "    <tr>\n",
       "      <th>103</th>\n",
       "      <td>12</td>\n",
       "      <td>8</td>\n",
       "      <td>0.652260</td>\n",
       "      <td>0.593520</td>\n",
       "    </tr>\n",
       "    <tr>\n",
       "      <th>104</th>\n",
       "      <td>12</td>\n",
       "      <td>9</td>\n",
       "      <td>0.664129</td>\n",
       "      <td>0.591017</td>\n",
       "    </tr>\n",
       "    <tr>\n",
       "      <th>105</th>\n",
       "      <td>12</td>\n",
       "      <td>10</td>\n",
       "      <td>0.674211</td>\n",
       "      <td>0.588339</td>\n",
       "    </tr>\n",
       "    <tr>\n",
       "      <th>106</th>\n",
       "      <td>12</td>\n",
       "      <td>11</td>\n",
       "      <td>0.681982</td>\n",
       "      <td>0.586145</td>\n",
       "    </tr>\n",
       "    <tr>\n",
       "      <th>107</th>\n",
       "      <td>12</td>\n",
       "      <td>12</td>\n",
       "      <td>0.687413</td>\n",
       "      <td>0.585293</td>\n",
       "    </tr>\n",
       "    <tr>\n",
       "      <th>108</th>\n",
       "      <td>12</td>\n",
       "      <td>13</td>\n",
       "      <td>0.690859</td>\n",
       "      <td>0.584082</td>\n",
       "    </tr>\n",
       "    <tr>\n",
       "      <th>109</th>\n",
       "      <td>12</td>\n",
       "      <td>14</td>\n",
       "      <td>0.692996</td>\n",
       "      <td>0.583526</td>\n",
       "    </tr>\n",
       "    <tr>\n",
       "      <th>110</th>\n",
       "      <td>13</td>\n",
       "      <td>5</td>\n",
       "      <td>0.612382</td>\n",
       "      <td>0.599097</td>\n",
       "    </tr>\n",
       "    <tr>\n",
       "      <th>111</th>\n",
       "      <td>13</td>\n",
       "      <td>6</td>\n",
       "      <td>0.625072</td>\n",
       "      <td>0.598197</td>\n",
       "    </tr>\n",
       "    <tr>\n",
       "      <th>112</th>\n",
       "      <td>13</td>\n",
       "      <td>7</td>\n",
       "      <td>0.638239</td>\n",
       "      <td>0.595963</td>\n",
       "    </tr>\n",
       "    <tr>\n",
       "      <th>113</th>\n",
       "      <td>13</td>\n",
       "      <td>8</td>\n",
       "      <td>0.650774</td>\n",
       "      <td>0.593690</td>\n",
       "    </tr>\n",
       "    <tr>\n",
       "      <th>114</th>\n",
       "      <td>13</td>\n",
       "      <td>9</td>\n",
       "      <td>0.661654</td>\n",
       "      <td>0.591149</td>\n",
       "    </tr>\n",
       "    <tr>\n",
       "      <th>115</th>\n",
       "      <td>13</td>\n",
       "      <td>10</td>\n",
       "      <td>0.671075</td>\n",
       "      <td>0.588345</td>\n",
       "    </tr>\n",
       "    <tr>\n",
       "      <th>116</th>\n",
       "      <td>13</td>\n",
       "      <td>11</td>\n",
       "      <td>0.677909</td>\n",
       "      <td>0.586336</td>\n",
       "    </tr>\n",
       "    <tr>\n",
       "      <th>117</th>\n",
       "      <td>13</td>\n",
       "      <td>12</td>\n",
       "      <td>0.682730</td>\n",
       "      <td>0.585659</td>\n",
       "    </tr>\n",
       "    <tr>\n",
       "      <th>118</th>\n",
       "      <td>13</td>\n",
       "      <td>13</td>\n",
       "      <td>0.685744</td>\n",
       "      <td>0.584630</td>\n",
       "    </tr>\n",
       "    <tr>\n",
       "      <th>119</th>\n",
       "      <td>13</td>\n",
       "      <td>14</td>\n",
       "      <td>0.687481</td>\n",
       "      <td>0.584208</td>\n",
       "    </tr>\n",
       "    <tr>\n",
       "      <th>120</th>\n",
       "      <td>14</td>\n",
       "      <td>5</td>\n",
       "      <td>0.612210</td>\n",
       "      <td>0.599267</td>\n",
       "    </tr>\n",
       "    <tr>\n",
       "      <th>121</th>\n",
       "      <td>14</td>\n",
       "      <td>6</td>\n",
       "      <td>0.624667</td>\n",
       "      <td>0.598300</td>\n",
       "    </tr>\n",
       "    <tr>\n",
       "      <th>122</th>\n",
       "      <td>14</td>\n",
       "      <td>7</td>\n",
       "      <td>0.637423</td>\n",
       "      <td>0.595903</td>\n",
       "    </tr>\n",
       "    <tr>\n",
       "      <th>123</th>\n",
       "      <td>14</td>\n",
       "      <td>8</td>\n",
       "      <td>0.649103</td>\n",
       "      <td>0.593619</td>\n",
       "    </tr>\n",
       "    <tr>\n",
       "      <th>124</th>\n",
       "      <td>14</td>\n",
       "      <td>9</td>\n",
       "      <td>0.659171</td>\n",
       "      <td>0.590994</td>\n",
       "    </tr>\n",
       "    <tr>\n",
       "      <th>125</th>\n",
       "      <td>14</td>\n",
       "      <td>10</td>\n",
       "      <td>0.667744</td>\n",
       "      <td>0.588527</td>\n",
       "    </tr>\n",
       "    <tr>\n",
       "      <th>126</th>\n",
       "      <td>14</td>\n",
       "      <td>11</td>\n",
       "      <td>0.674053</td>\n",
       "      <td>0.586347</td>\n",
       "    </tr>\n",
       "    <tr>\n",
       "      <th>127</th>\n",
       "      <td>14</td>\n",
       "      <td>12</td>\n",
       "      <td>0.678344</td>\n",
       "      <td>0.585542</td>\n",
       "    </tr>\n",
       "    <tr>\n",
       "      <th>128</th>\n",
       "      <td>14</td>\n",
       "      <td>13</td>\n",
       "      <td>0.680819</td>\n",
       "      <td>0.584843</td>\n",
       "    </tr>\n",
       "    <tr>\n",
       "      <th>129</th>\n",
       "      <td>14</td>\n",
       "      <td>14</td>\n",
       "      <td>0.682294</td>\n",
       "      <td>0.584516</td>\n",
       "    </tr>\n",
       "  </tbody>\n",
       "</table>\n",
       "<p>130 rows × 4 columns</p>\n",
       "</div>"
      ],
      "text/plain": [
       "     min_samples_leaf  max_depth  R2_train   r2_test\n",
       "0                   2          5  0.614208  0.598539\n",
       "1                   2          6  0.631322  0.598345\n",
       "2                   2          7  0.652284  0.596095\n",
       "3                   2          8  0.677706  0.592593\n",
       "4                   2          9  0.706016  0.588573\n",
       "5                   2         10  0.735591  0.582569\n",
       "6                   2         11  0.764396  0.578398\n",
       "7                   2         12  0.790414  0.574465\n",
       "8                   2         13  0.813551  0.570885\n",
       "9                   2         14  0.832270  0.567410\n",
       "10                  3          5  0.613965  0.598648\n",
       "11                  3          6  0.630633  0.597544\n",
       "12                  3          7  0.650823  0.595369\n",
       "13                  3          8  0.674787  0.590910\n",
       "14                  3          9  0.700508  0.586313\n",
       "15                  3         10  0.726679  0.580714\n",
       "16                  3         11  0.751200  0.575824\n",
       "17                  3         12  0.772713  0.572141\n",
       "18                  3         13  0.791023  0.568621\n",
       "19                  3         14  0.805473  0.565515\n",
       "20                  4          5  0.613801  0.598851\n",
       "21                  4          6  0.629998  0.597231\n",
       "22                  4          7  0.649518  0.595136\n",
       "23                  4          8  0.672035  0.590497\n",
       "24                  4          9  0.695390  0.586901\n",
       "25                  4         10  0.717923  0.582248\n",
       "26                  4         11  0.738440  0.578499\n",
       "27                  4         12  0.756381  0.575769\n",
       "28                  4         13  0.770676  0.573218\n",
       "29                  4         14  0.781618  0.570859\n",
       "..                ...        ...       ...       ...\n",
       "100                12          5  0.612479  0.599158\n",
       "101                12          6  0.625631  0.598145\n",
       "102                12          7  0.639234  0.595976\n",
       "103                12          8  0.652260  0.593520\n",
       "104                12          9  0.664129  0.591017\n",
       "105                12         10  0.674211  0.588339\n",
       "106                12         11  0.681982  0.586145\n",
       "107                12         12  0.687413  0.585293\n",
       "108                12         13  0.690859  0.584082\n",
       "109                12         14  0.692996  0.583526\n",
       "110                13          5  0.612382  0.599097\n",
       "111                13          6  0.625072  0.598197\n",
       "112                13          7  0.638239  0.595963\n",
       "113                13          8  0.650774  0.593690\n",
       "114                13          9  0.661654  0.591149\n",
       "115                13         10  0.671075  0.588345\n",
       "116                13         11  0.677909  0.586336\n",
       "117                13         12  0.682730  0.585659\n",
       "118                13         13  0.685744  0.584630\n",
       "119                13         14  0.687481  0.584208\n",
       "120                14          5  0.612210  0.599267\n",
       "121                14          6  0.624667  0.598300\n",
       "122                14          7  0.637423  0.595903\n",
       "123                14          8  0.649103  0.593619\n",
       "124                14          9  0.659171  0.590994\n",
       "125                14         10  0.667744  0.588527\n",
       "126                14         11  0.674053  0.586347\n",
       "127                14         12  0.678344  0.585542\n",
       "128                14         13  0.680819  0.584843\n",
       "129                14         14  0.682294  0.584516\n",
       "\n",
       "[130 rows x 4 columns]"
      ]
     },
     "execution_count": 273,
     "metadata": {},
     "output_type": "execute_result"
    }
   ],
   "source": [
    "df=[]\n",
    "a=np.arange(2,15,1)\n",
    "b=np.arange(5,15,1)\n",
    "for i in a:\n",
    "    for j in b:\n",
    "        rf = RandomForestRegressor(n_estimators = 100,min_samples_leaf=i,max_depth=j,random_state=123)\n",
    "        rf.fit(x_train, y_train)\n",
    "        r_square=rf.score(x_train,y_train)\n",
    "        r_square1=rf.score(x_cv,y_cv)\n",
    "        a1=i\n",
    "        b1=j\n",
    "        df.append([a1,b1,r_square,r_square1])\n",
    "\n",
    "cols = ['min_samples_leaf','max_depth','R2_train', 'r2_test']\n",
    "df1 = pd.DataFrame(df, columns=cols)    \n",
    "df1"
   ]
  },
  {
   "cell_type": "code",
   "execution_count": 256,
   "metadata": {},
   "outputs": [
    {
     "data": {
      "text/plain": [
       "[[2, 5, 1057.0131039189864, 0.61353389863862517]]"
      ]
     },
     "execution_count": 256,
     "metadata": {},
     "output_type": "execute_result"
    }
   ],
   "source": [
    "i=2\n",
    "j=5\n",
    "df=[]\n",
    "rf = RandomForestRegressor(n_estimators = 100,min_samples_leaf=i,max_depth=j)\n",
    "rf.fit(x_train, y_train)\n",
    "pred_cv=rf.predict(x_train)\n",
    "mse = np.mean((pred_cv - y_train)**2)\n",
    "rmse=np.sqrt(mse)\n",
    "r_square=rf.score(x_train,y_train)\n",
    "a1=i\n",
    "b1=j\n",
    "df.append([a1,b1,rmse,r_square])\n",
    "df"
   ]
  },
  {
   "cell_type": "code",
   "execution_count": 252,
   "metadata": {},
   "outputs": [
    {
     "data": {
      "text/html": [
       "<div>\n",
       "<table border=\"1\" class=\"dataframe\">\n",
       "  <thead>\n",
       "    <tr style=\"text-align: right;\">\n",
       "      <th></th>\n",
       "      <th>min_samples_leaf</th>\n",
       "      <th>max_depth</th>\n",
       "      <th>RMSE</th>\n",
       "      <th>r2</th>\n",
       "    </tr>\n",
       "  </thead>\n",
       "  <tbody>\n",
       "    <tr>\n",
       "      <th>0</th>\n",
       "      <td>0.99</td>\n",
       "      <td>5</td>\n",
       "      <td>1057.012435</td>\n",
       "      <td>0.613534</td>\n",
       "    </tr>\n",
       "    <tr>\n",
       "      <th>1</th>\n",
       "      <td>0.99</td>\n",
       "      <td>6</td>\n",
       "      <td>1032.746969</td>\n",
       "      <td>0.631075</td>\n",
       "    </tr>\n",
       "    <tr>\n",
       "      <th>2</th>\n",
       "      <td>0.99</td>\n",
       "      <td>7</td>\n",
       "      <td>1002.684269</td>\n",
       "      <td>0.652240</td>\n",
       "    </tr>\n",
       "    <tr>\n",
       "      <th>3</th>\n",
       "      <td>0.99</td>\n",
       "      <td>8</td>\n",
       "      <td>965.634372</td>\n",
       "      <td>0.677466</td>\n",
       "    </tr>\n",
       "    <tr>\n",
       "      <th>4</th>\n",
       "      <td>0.99</td>\n",
       "      <td>9</td>\n",
       "      <td>921.944153</td>\n",
       "      <td>0.705991</td>\n",
       "    </tr>\n",
       "    <tr>\n",
       "      <th>5</th>\n",
       "      <td>0.99</td>\n",
       "      <td>10</td>\n",
       "      <td>874.437118</td>\n",
       "      <td>0.735511</td>\n",
       "    </tr>\n",
       "    <tr>\n",
       "      <th>6</th>\n",
       "      <td>0.99</td>\n",
       "      <td>11</td>\n",
       "      <td>831.416516</td>\n",
       "      <td>0.760895</td>\n",
       "    </tr>\n",
       "    <tr>\n",
       "      <th>7</th>\n",
       "      <td>0.99</td>\n",
       "      <td>12</td>\n",
       "      <td>779.346500</td>\n",
       "      <td>0.789907</td>\n",
       "    </tr>\n",
       "    <tr>\n",
       "      <th>8</th>\n",
       "      <td>0.99</td>\n",
       "      <td>13</td>\n",
       "      <td>738.840918</td>\n",
       "      <td>0.811178</td>\n",
       "    </tr>\n",
       "    <tr>\n",
       "      <th>9</th>\n",
       "      <td>0.99</td>\n",
       "      <td>14</td>\n",
       "      <td>694.618534</td>\n",
       "      <td>0.833105</td>\n",
       "    </tr>\n",
       "    <tr>\n",
       "      <th>10</th>\n",
       "      <td>0.99</td>\n",
       "      <td>5</td>\n",
       "      <td>1057.457909</td>\n",
       "      <td>0.613209</td>\n",
       "    </tr>\n",
       "    <tr>\n",
       "      <th>11</th>\n",
       "      <td>0.99</td>\n",
       "      <td>6</td>\n",
       "      <td>1035.182674</td>\n",
       "      <td>0.629332</td>\n",
       "    </tr>\n",
       "    <tr>\n",
       "      <th>12</th>\n",
       "      <td>0.99</td>\n",
       "      <td>7</td>\n",
       "      <td>1005.097176</td>\n",
       "      <td>0.650565</td>\n",
       "    </tr>\n",
       "    <tr>\n",
       "      <th>13</th>\n",
       "      <td>0.99</td>\n",
       "      <td>8</td>\n",
       "      <td>970.617812</td>\n",
       "      <td>0.674128</td>\n",
       "    </tr>\n",
       "    <tr>\n",
       "      <th>14</th>\n",
       "      <td>0.99</td>\n",
       "      <td>9</td>\n",
       "      <td>932.851777</td>\n",
       "      <td>0.698993</td>\n",
       "    </tr>\n",
       "    <tr>\n",
       "      <th>15</th>\n",
       "      <td>0.99</td>\n",
       "      <td>10</td>\n",
       "      <td>891.629876</td>\n",
       "      <td>0.725008</td>\n",
       "    </tr>\n",
       "    <tr>\n",
       "      <th>16</th>\n",
       "      <td>0.99</td>\n",
       "      <td>11</td>\n",
       "      <td>848.918635</td>\n",
       "      <td>0.750723</td>\n",
       "    </tr>\n",
       "    <tr>\n",
       "      <th>17</th>\n",
       "      <td>0.99</td>\n",
       "      <td>12</td>\n",
       "      <td>808.205056</td>\n",
       "      <td>0.774060</td>\n",
       "    </tr>\n",
       "    <tr>\n",
       "      <th>18</th>\n",
       "      <td>0.99</td>\n",
       "      <td>13</td>\n",
       "      <td>776.835271</td>\n",
       "      <td>0.791259</td>\n",
       "    </tr>\n",
       "    <tr>\n",
       "      <th>19</th>\n",
       "      <td>0.99</td>\n",
       "      <td>14</td>\n",
       "      <td>745.074386</td>\n",
       "      <td>0.807978</td>\n",
       "    </tr>\n",
       "    <tr>\n",
       "      <th>20</th>\n",
       "      <td>0.99</td>\n",
       "      <td>5</td>\n",
       "      <td>1057.222401</td>\n",
       "      <td>0.613381</td>\n",
       "    </tr>\n",
       "    <tr>\n",
       "      <th>21</th>\n",
       "      <td>0.99</td>\n",
       "      <td>6</td>\n",
       "      <td>1034.371725</td>\n",
       "      <td>0.629913</td>\n",
       "    </tr>\n",
       "    <tr>\n",
       "      <th>22</th>\n",
       "      <td>0.99</td>\n",
       "      <td>7</td>\n",
       "      <td>1006.675026</td>\n",
       "      <td>0.649467</td>\n",
       "    </tr>\n",
       "    <tr>\n",
       "      <th>23</th>\n",
       "      <td>0.99</td>\n",
       "      <td>8</td>\n",
       "      <td>976.401069</td>\n",
       "      <td>0.670233</td>\n",
       "    </tr>\n",
       "    <tr>\n",
       "      <th>24</th>\n",
       "      <td>0.99</td>\n",
       "      <td>9</td>\n",
       "      <td>936.351719</td>\n",
       "      <td>0.696731</td>\n",
       "    </tr>\n",
       "    <tr>\n",
       "      <th>25</th>\n",
       "      <td>0.99</td>\n",
       "      <td>10</td>\n",
       "      <td>900.883193</td>\n",
       "      <td>0.719271</td>\n",
       "    </tr>\n",
       "    <tr>\n",
       "      <th>26</th>\n",
       "      <td>0.99</td>\n",
       "      <td>11</td>\n",
       "      <td>867.515094</td>\n",
       "      <td>0.739682</td>\n",
       "    </tr>\n",
       "    <tr>\n",
       "      <th>27</th>\n",
       "      <td>0.99</td>\n",
       "      <td>12</td>\n",
       "      <td>839.485347</td>\n",
       "      <td>0.756232</td>\n",
       "    </tr>\n",
       "    <tr>\n",
       "      <th>28</th>\n",
       "      <td>0.99</td>\n",
       "      <td>13</td>\n",
       "      <td>813.883478</td>\n",
       "      <td>0.770874</td>\n",
       "    </tr>\n",
       "    <tr>\n",
       "      <th>29</th>\n",
       "      <td>0.99</td>\n",
       "      <td>14</td>\n",
       "      <td>790.012119</td>\n",
       "      <td>0.784117</td>\n",
       "    </tr>\n",
       "    <tr>\n",
       "      <th>...</th>\n",
       "      <td>...</td>\n",
       "      <td>...</td>\n",
       "      <td>...</td>\n",
       "      <td>...</td>\n",
       "    </tr>\n",
       "    <tr>\n",
       "      <th>60</th>\n",
       "      <td>0.99</td>\n",
       "      <td>5</td>\n",
       "      <td>1057.754857</td>\n",
       "      <td>0.612991</td>\n",
       "    </tr>\n",
       "    <tr>\n",
       "      <th>61</th>\n",
       "      <td>0.99</td>\n",
       "      <td>6</td>\n",
       "      <td>1037.652609</td>\n",
       "      <td>0.627561</td>\n",
       "    </tr>\n",
       "    <tr>\n",
       "      <th>62</th>\n",
       "      <td>0.99</td>\n",
       "      <td>7</td>\n",
       "      <td>1015.156990</td>\n",
       "      <td>0.643535</td>\n",
       "    </tr>\n",
       "    <tr>\n",
       "      <th>63</th>\n",
       "      <td>0.99</td>\n",
       "      <td>8</td>\n",
       "      <td>989.858377</td>\n",
       "      <td>0.661080</td>\n",
       "    </tr>\n",
       "    <tr>\n",
       "      <th>64</th>\n",
       "      <td>0.99</td>\n",
       "      <td>9</td>\n",
       "      <td>966.856420</td>\n",
       "      <td>0.676649</td>\n",
       "    </tr>\n",
       "    <tr>\n",
       "      <th>65</th>\n",
       "      <td>0.99</td>\n",
       "      <td>10</td>\n",
       "      <td>943.598939</td>\n",
       "      <td>0.692018</td>\n",
       "    </tr>\n",
       "    <tr>\n",
       "      <th>66</th>\n",
       "      <td>0.99</td>\n",
       "      <td>11</td>\n",
       "      <td>923.951611</td>\n",
       "      <td>0.704710</td>\n",
       "    </tr>\n",
       "    <tr>\n",
       "      <th>67</th>\n",
       "      <td>0.99</td>\n",
       "      <td>12</td>\n",
       "      <td>910.355797</td>\n",
       "      <td>0.713336</td>\n",
       "    </tr>\n",
       "    <tr>\n",
       "      <th>68</th>\n",
       "      <td>0.99</td>\n",
       "      <td>13</td>\n",
       "      <td>900.941746</td>\n",
       "      <td>0.719234</td>\n",
       "    </tr>\n",
       "    <tr>\n",
       "      <th>69</th>\n",
       "      <td>0.99</td>\n",
       "      <td>14</td>\n",
       "      <td>890.704405</td>\n",
       "      <td>0.725579</td>\n",
       "    </tr>\n",
       "    <tr>\n",
       "      <th>70</th>\n",
       "      <td>0.99</td>\n",
       "      <td>5</td>\n",
       "      <td>1058.167867</td>\n",
       "      <td>0.612689</td>\n",
       "    </tr>\n",
       "    <tr>\n",
       "      <th>71</th>\n",
       "      <td>0.99</td>\n",
       "      <td>6</td>\n",
       "      <td>1039.279956</td>\n",
       "      <td>0.626392</td>\n",
       "    </tr>\n",
       "    <tr>\n",
       "      <th>72</th>\n",
       "      <td>0.99</td>\n",
       "      <td>7</td>\n",
       "      <td>1015.755536</td>\n",
       "      <td>0.643114</td>\n",
       "    </tr>\n",
       "    <tr>\n",
       "      <th>73</th>\n",
       "      <td>0.99</td>\n",
       "      <td>8</td>\n",
       "      <td>994.469027</td>\n",
       "      <td>0.657916</td>\n",
       "    </tr>\n",
       "    <tr>\n",
       "      <th>74</th>\n",
       "      <td>0.99</td>\n",
       "      <td>9</td>\n",
       "      <td>968.977049</td>\n",
       "      <td>0.675229</td>\n",
       "    </tr>\n",
       "    <tr>\n",
       "      <th>75</th>\n",
       "      <td>0.99</td>\n",
       "      <td>10</td>\n",
       "      <td>952.366370</td>\n",
       "      <td>0.686268</td>\n",
       "    </tr>\n",
       "    <tr>\n",
       "      <th>76</th>\n",
       "      <td>0.99</td>\n",
       "      <td>11</td>\n",
       "      <td>934.477000</td>\n",
       "      <td>0.697944</td>\n",
       "    </tr>\n",
       "    <tr>\n",
       "      <th>77</th>\n",
       "      <td>0.99</td>\n",
       "      <td>12</td>\n",
       "      <td>921.200708</td>\n",
       "      <td>0.706465</td>\n",
       "    </tr>\n",
       "    <tr>\n",
       "      <th>78</th>\n",
       "      <td>0.99</td>\n",
       "      <td>13</td>\n",
       "      <td>912.308173</td>\n",
       "      <td>0.712105</td>\n",
       "    </tr>\n",
       "    <tr>\n",
       "      <th>79</th>\n",
       "      <td>0.99</td>\n",
       "      <td>14</td>\n",
       "      <td>905.549809</td>\n",
       "      <td>0.716355</td>\n",
       "    </tr>\n",
       "    <tr>\n",
       "      <th>80</th>\n",
       "      <td>0.99</td>\n",
       "      <td>5</td>\n",
       "      <td>1057.974150</td>\n",
       "      <td>0.612831</td>\n",
       "    </tr>\n",
       "    <tr>\n",
       "      <th>81</th>\n",
       "      <td>0.99</td>\n",
       "      <td>6</td>\n",
       "      <td>1039.202857</td>\n",
       "      <td>0.626448</td>\n",
       "    </tr>\n",
       "    <tr>\n",
       "      <th>82</th>\n",
       "      <td>0.99</td>\n",
       "      <td>7</td>\n",
       "      <td>1018.167375</td>\n",
       "      <td>0.641418</td>\n",
       "    </tr>\n",
       "    <tr>\n",
       "      <th>83</th>\n",
       "      <td>0.99</td>\n",
       "      <td>8</td>\n",
       "      <td>996.422086</td>\n",
       "      <td>0.656571</td>\n",
       "    </tr>\n",
       "    <tr>\n",
       "      <th>84</th>\n",
       "      <td>0.99</td>\n",
       "      <td>9</td>\n",
       "      <td>975.867855</td>\n",
       "      <td>0.670593</td>\n",
       "    </tr>\n",
       "    <tr>\n",
       "      <th>85</th>\n",
       "      <td>0.99</td>\n",
       "      <td>10</td>\n",
       "      <td>957.828722</td>\n",
       "      <td>0.682659</td>\n",
       "    </tr>\n",
       "    <tr>\n",
       "      <th>86</th>\n",
       "      <td>0.99</td>\n",
       "      <td>11</td>\n",
       "      <td>943.796418</td>\n",
       "      <td>0.691889</td>\n",
       "    </tr>\n",
       "    <tr>\n",
       "      <th>87</th>\n",
       "      <td>0.99</td>\n",
       "      <td>12</td>\n",
       "      <td>930.992182</td>\n",
       "      <td>0.700192</td>\n",
       "    </tr>\n",
       "    <tr>\n",
       "      <th>88</th>\n",
       "      <td>0.99</td>\n",
       "      <td>13</td>\n",
       "      <td>922.115538</td>\n",
       "      <td>0.705882</td>\n",
       "    </tr>\n",
       "    <tr>\n",
       "      <th>89</th>\n",
       "      <td>0.99</td>\n",
       "      <td>14</td>\n",
       "      <td>920.690007</td>\n",
       "      <td>0.706791</td>\n",
       "    </tr>\n",
       "  </tbody>\n",
       "</table>\n",
       "<p>90 rows × 4 columns</p>\n",
       "</div>"
      ],
      "text/plain": [
       "    min_samples_leaf  max_depth         RMSE        r2\n",
       "0               0.99          5  1057.012435  0.613534\n",
       "1               0.99          6  1032.746969  0.631075\n",
       "2               0.99          7  1002.684269  0.652240\n",
       "3               0.99          8   965.634372  0.677466\n",
       "4               0.99          9   921.944153  0.705991\n",
       "5               0.99         10   874.437118  0.735511\n",
       "6               0.99         11   831.416516  0.760895\n",
       "7               0.99         12   779.346500  0.789907\n",
       "8               0.99         13   738.840918  0.811178\n",
       "9               0.99         14   694.618534  0.833105\n",
       "10              0.99          5  1057.457909  0.613209\n",
       "11              0.99          6  1035.182674  0.629332\n",
       "12              0.99          7  1005.097176  0.650565\n",
       "13              0.99          8   970.617812  0.674128\n",
       "14              0.99          9   932.851777  0.698993\n",
       "15              0.99         10   891.629876  0.725008\n",
       "16              0.99         11   848.918635  0.750723\n",
       "17              0.99         12   808.205056  0.774060\n",
       "18              0.99         13   776.835271  0.791259\n",
       "19              0.99         14   745.074386  0.807978\n",
       "20              0.99          5  1057.222401  0.613381\n",
       "21              0.99          6  1034.371725  0.629913\n",
       "22              0.99          7  1006.675026  0.649467\n",
       "23              0.99          8   976.401069  0.670233\n",
       "24              0.99          9   936.351719  0.696731\n",
       "25              0.99         10   900.883193  0.719271\n",
       "26              0.99         11   867.515094  0.739682\n",
       "27              0.99         12   839.485347  0.756232\n",
       "28              0.99         13   813.883478  0.770874\n",
       "29              0.99         14   790.012119  0.784117\n",
       "..               ...        ...          ...       ...\n",
       "60              0.99          5  1057.754857  0.612991\n",
       "61              0.99          6  1037.652609  0.627561\n",
       "62              0.99          7  1015.156990  0.643535\n",
       "63              0.99          8   989.858377  0.661080\n",
       "64              0.99          9   966.856420  0.676649\n",
       "65              0.99         10   943.598939  0.692018\n",
       "66              0.99         11   923.951611  0.704710\n",
       "67              0.99         12   910.355797  0.713336\n",
       "68              0.99         13   900.941746  0.719234\n",
       "69              0.99         14   890.704405  0.725579\n",
       "70              0.99          5  1058.167867  0.612689\n",
       "71              0.99          6  1039.279956  0.626392\n",
       "72              0.99          7  1015.755536  0.643114\n",
       "73              0.99          8   994.469027  0.657916\n",
       "74              0.99          9   968.977049  0.675229\n",
       "75              0.99         10   952.366370  0.686268\n",
       "76              0.99         11   934.477000  0.697944\n",
       "77              0.99         12   921.200708  0.706465\n",
       "78              0.99         13   912.308173  0.712105\n",
       "79              0.99         14   905.549809  0.716355\n",
       "80              0.99          5  1057.974150  0.612831\n",
       "81              0.99          6  1039.202857  0.626448\n",
       "82              0.99          7  1018.167375  0.641418\n",
       "83              0.99          8   996.422086  0.656571\n",
       "84              0.99          9   975.867855  0.670593\n",
       "85              0.99         10   957.828722  0.682659\n",
       "86              0.99         11   943.796418  0.691889\n",
       "87              0.99         12   930.992182  0.700192\n",
       "88              0.99         13   922.115538  0.705882\n",
       "89              0.99         14   920.690007  0.706791\n",
       "\n",
       "[90 rows x 4 columns]"
      ]
     },
     "execution_count": 252,
     "metadata": {},
     "output_type": "execute_result"
    }
   ],
   "source": [
    "df1"
   ]
  },
  {
   "cell_type": "code",
   "execution_count": 271,
   "metadata": {},
   "outputs": [],
   "source": [
    "from sklearn.metrics import roc_curve"
   ]
  },
  {
   "cell_type": "code",
   "execution_count": null,
   "metadata": {
    "collapsed": true
   },
   "outputs": [],
   "source": []
  },
  {
   "cell_type": "code",
   "execution_count": null,
   "metadata": {
    "collapsed": true
   },
   "outputs": [],
   "source": []
  },
  {
   "cell_type": "code",
   "execution_count": null,
   "metadata": {
    "collapsed": true
   },
   "outputs": [],
   "source": [
    "pred_cv=rf.predict(x_cv2)\n",
    "mse = np.mean((pred_cv - y_cv)**2)\n",
    "r_square=rf.score(x_cv2,y_cv)\n",
    "print(np.sqrt(mse))\n",
    "print(r_square)"
   ]
  },
  {
   "cell_type": "code",
   "execution_count": 35,
   "metadata": {},
   "outputs": [
    {
     "data": {
      "text/plain": [
       "Item_MRP                           0.443035\n",
       "Outlet_Type_Grocery Store          0.195712\n",
       "Item_Visibility                    0.095992\n",
       "Item_Weight                        0.050825\n",
       "year                               0.035692\n",
       "Outlet_Identifier_OUT027           0.027037\n",
       "Outlet_Type_Supermarket Type3      0.025379\n",
       "Item_Type_Fruits and Vegetables    0.009367\n",
       "Item_Type_Snack Foods              0.009337\n",
       "Item_Type_Household                0.006751\n",
       "Item_Type_Dairy                    0.006678\n",
       "Item_Fat_Content_Low Fat           0.006228\n",
       "Item_Type_Drinks                   0.005577\n",
       "Outlet_Identifier_OUT035           0.005543\n",
       "Item_Type_Frozen Foods             0.005501\n",
       "Item_Type_Baking Goods             0.005453\n",
       "Item_Fat_Content_reg               0.005258\n",
       "Outlet_Identifier_OUT045           0.004608\n",
       "Item_Type_Health and Hygiene       0.004429\n",
       "Item_Type_Canned                   0.004148\n",
       "Item_Type_Breakfast                0.003717\n",
       "Outlet_Identifier_OUT046           0.003618\n",
       "Item_Type_Meat                     0.003556\n",
       "Outlet_Identifier_OUT017           0.003457\n",
       "Item_Type_Starchy Foods            0.003044\n",
       "Outlet_Location_Type_Tier 1        0.003014\n",
       "Outlet_Location_Type_Tier 2        0.002740\n",
       "Item_Fat_Content_LF                0.002636\n",
       "Outlet_Identifier_OUT049           0.002575\n",
       "Outlet_Size_Small                  0.002536\n",
       "Outlet_Size_Medium                 0.002436\n",
       "Outlet_Location_Type_Tier 3        0.002277\n",
       "Item_Type_Others                   0.002240\n",
       "Item_Type_Hard Drinks              0.002131\n",
       "Outlet_Size_High                   0.001776\n",
       "Outlet_Type_Supermarket Type1      0.001679\n",
       "Outlet_Identifier_OUT013           0.001592\n",
       "Outlet_Type_Supermarket Type2      0.001448\n",
       "Outlet_Identifier_OUT018           0.000957\n",
       "Outlet_Identifier_OUT019           0.000014\n",
       "Outlet_Identifier_OUT010           0.000007\n",
       "dtype: float64"
      ]
     },
     "execution_count": 35,
     "metadata": {},
     "output_type": "execute_result"
    }
   ],
   "source": [
    "f_imp=pd.Series(rf.feature_importances_,index=x_train.columns)\n",
    "f_imp.sort_values(ascending=False)"
   ]
  },
  {
   "cell_type": "code",
   "execution_count": 37,
   "metadata": {},
   "outputs": [
    {
     "name": "stderr",
     "output_type": "stream",
     "text": [
      "C:\\Program Files\\Anaconda2\\lib\\site-packages\\sklearn\\ensemble\\forest.py:687: UserWarning: Some inputs do not have OOB scores. This probably means too few trees were used to compute any reliable oob estimates.\n",
      "  warn(\"Some inputs do not have OOB scores. \"\n"
     ]
    },
    {
     "data": {
      "text/plain": [
       "RandomForestRegressor(bootstrap=True, criterion='mse', max_depth=None,\n",
       "           max_features='auto', max_leaf_nodes=None, min_samples_leaf=1,\n",
       "           min_samples_split=2, min_weight_fraction_leaf=0.0,\n",
       "           n_estimators=14, n_jobs=1, oob_score=True, random_state=None,\n",
       "           verbose=0, warm_start=False)"
      ]
     },
     "execution_count": 37,
     "metadata": {},
     "output_type": "execute_result"
    }
   ],
   "source": [
    "rf1 = RandomForestRegressor(n_estimators = 14,oob_score=True) ##42/3\n",
    "# Train the model on training data\n",
    "rf1.fit(x_train, y_train)"
   ]
  },
  {
   "cell_type": "code",
   "execution_count": 38,
   "metadata": {},
   "outputs": [
    {
     "name": "stdout",
     "output_type": "stream",
     "text": [
      "1294879.23478\n",
      "0.540771153901\n"
     ]
    }
   ],
   "source": [
    "pred_cv1=rf1.predict(x_cv)\n",
    "\n",
    "mse1 = np.mean((pred_cv1 - y_cv)**2)\n",
    "r_square1=rf1.score(x_cv,y_cv)\n",
    "print(mse1)\n",
    "print(r_square1)"
   ]
  },
  {
   "cell_type": "code",
   "execution_count": 41,
   "metadata": {},
   "outputs": [
    {
     "data": {
      "text/plain": [
       "0.45050142499824264"
      ]
     },
     "execution_count": 41,
     "metadata": {},
     "output_type": "execute_result"
    }
   ],
   "source": [
    "rf1.oob_score_"
   ]
  },
  {
   "cell_type": "code",
   "execution_count": 42,
   "metadata": {
    "collapsed": true
   },
   "outputs": [],
   "source": [
    "x_imp_var=x_train[['Item_MRP',                          \n",
    "'Outlet_Type_Grocery Store',          \n",
    "'Item_Visibility',                    \n",
    "'Item_Weight',                        \n",
    "'year']]"
   ]
  },
  {
   "cell_type": "code",
   "execution_count": 43,
   "metadata": {
    "collapsed": true
   },
   "outputs": [],
   "source": [
    "x_cv_imp_var=x_cv[['Item_MRP',                          \n",
    "'Outlet_Type_Grocery Store',          \n",
    "'Item_Visibility',                    \n",
    "'Item_Weight',                        \n",
    "'year']]"
   ]
  },
  {
   "cell_type": "code",
   "execution_count": 63,
   "metadata": {},
   "outputs": [
    {
     "name": "stdout",
     "output_type": "stream",
     "text": [
      "0.934100060658\n",
      "0.550756190411\n"
     ]
    }
   ],
   "source": [
    "rf2 = RandomForestRegressor(n_estimators = 100,oob_score=True) ##42/3\n",
    "# Train the model on training data\n",
    "rf2.fit(x_imp_var, y_train)\n",
    "pred_cv2=rf2.predict(x_imp_var)\n",
    "pred_cv3=rf2.predict(x_cv_imp_var)\n",
    "#mse2 = np.mean((pred_cv2 - y_train)**2)\n",
    "Tr_square2=rf2.score(x_imp_var,y_train)\n",
    "CVr_square2=rf2.score(x_cv_imp_var,y_cv)\n",
    "print(Tr_square2)\n",
    "print(CVr_square2)\n",
    "#print(rf2.oob_score_(x_imp_var,y_train))\n",
    "#print(rf2.oob_score_(x_cv_imp_var,y_cv))"
   ]
  },
  {
   "cell_type": "code",
   "execution_count": 240,
   "metadata": {},
   "outputs": [
    {
     "name": "stdout",
     "output_type": "stream",
     "text": [
      "-0.754371478364\n",
      "0.527933665839\n"
     ]
    }
   ],
   "source": [
    "pred_cv2=rf2.predict(x_cv_imp_var)\n",
    "\n",
    "mse2 = np.mean((pred_cv2 - y_cv)**2)\n",
    "r_square2=rf2.score(x_cv_imp_var,y_cv)\n",
    "print(r_square2)\n",
    "print(rf2.oob_score_)"
   ]
  },
  {
   "cell_type": "code",
   "execution_count": 44,
   "metadata": {},
   "outputs": [
    {
     "name": "stdout",
     "output_type": "stream",
     "text": [
      "1315195.25528\n",
      "0.540771153901\n"
     ]
    }
   ],
   "source": [
    "rf2 = RandomForestRegressor(n_estimators = 14,oob_score=True) ##42/3\n",
    "# Train the model on training data\n",
    "rf2.fit(x_imp_var, y_train)\n",
    "pred_cv2=rf2.predict(x_cv_imp_var)\n",
    "\n",
    "mse2 = np.mean((pred_cv2 - y_cv)**2)\n",
    "r_square2=rf.score(x_cv,y_cv)\n",
    "print(mse2)\n",
    "print(r_square2)"
   ]
  },
  {
   "cell_type": "code",
   "execution_count": 45,
   "metadata": {},
   "outputs": [
    {
     "data": {
      "text/plain": [
       "0.4410601675736846"
      ]
     },
     "execution_count": 45,
     "metadata": {},
     "output_type": "execute_result"
    }
   ],
   "source": [
    "rf2.oob_score_"
   ]
  },
  {
   "cell_type": "code",
   "execution_count": 46,
   "metadata": {},
   "outputs": [
    {
     "name": "stdout",
     "output_type": "stream",
     "text": [
      "1280011.23895\n",
      "0.540771153901\n",
      "0.528096010086\n"
     ]
    }
   ],
   "source": [
    "rf2 = RandomForestRegressor(n_estimators = 100,oob_score=True) ##42/3\n",
    "# Train the model on training data\n",
    "rf2.fit(x_imp_var, y_train)\n",
    "pred_cv2=rf2.predict(x_cv_imp_var)\n",
    "\n",
    "mse2 = np.mean((pred_cv2 - y_cv)**2)\n",
    "r_square2=rf.score(x_cv,y_cv)\n",
    "print(mse2)\n",
    "print(r_square2)\n",
    "print(rf2.oob_score_)"
   ]
  },
  {
   "cell_type": "code",
   "execution_count": 47,
   "metadata": {},
   "outputs": [
    {
     "data": {
      "text/html": [
       "<div>\n",
       "<table border=\"1\" class=\"dataframe\">\n",
       "  <thead>\n",
       "    <tr style=\"text-align: right;\">\n",
       "      <th></th>\n",
       "      <th>year</th>\n",
       "    </tr>\n",
       "  </thead>\n",
       "  <tbody>\n",
       "    <tr>\n",
       "      <th>0</th>\n",
       "      <td>4</td>\n",
       "    </tr>\n",
       "    <tr>\n",
       "      <th>1</th>\n",
       "      <td>4</td>\n",
       "    </tr>\n",
       "    <tr>\n",
       "      <th>2</th>\n",
       "      <td>14</td>\n",
       "    </tr>\n",
       "    <tr>\n",
       "      <th>3</th>\n",
       "      <td>4</td>\n",
       "    </tr>\n",
       "    <tr>\n",
       "      <th>4</th>\n",
       "      <td>16</td>\n",
       "    </tr>\n",
       "  </tbody>\n",
       "</table>\n",
       "</div>"
      ],
      "text/plain": [
       "   year\n",
       "0     4\n",
       "1     4\n",
       "2    14\n",
       "3     4\n",
       "4    16"
      ]
     },
     "execution_count": 47,
     "metadata": {},
     "output_type": "execute_result"
    }
   ],
   "source": [
    "rf2 = RandomForestRegressor(n_estimators = 100,oob_score=True) ##42/3\n",
    "# Train the model on training data\n",
    "rf2.fit(x_imp_var, y_train)\n",
    "pred_cv2=rf2.predict(x_cv_imp_var)\n",
    "\n",
    "mse2 = np.mean((pred_cv2 - y_cv)**2)\n",
    "rmse=np.sqrt(mse2)\n",
    "r_square2=rf.score(x_cv_imp_var,y_cv)\n",
    "print(mse2)\n",
    "print(r_square2)\n",
    "print(rf2.oob_score_)"
   ]
  },
  {
   "cell_type": "code",
   "execution_count": 48,
   "metadata": {},
   "outputs": [
    {
     "data": {
      "text/html": [
       "<div>\n",
       "<table border=\"1\" class=\"dataframe\">\n",
       "  <thead>\n",
       "    <tr style=\"text-align: right;\">\n",
       "      <th></th>\n",
       "      <th>No.Trees</th>\n",
       "      <th>Error</th>\n",
       "    </tr>\n",
       "  </thead>\n",
       "  <tbody>\n",
       "    <tr>\n",
       "      <th>0</th>\n",
       "      <td>14.0</td>\n",
       "      <td>0.547605</td>\n",
       "    </tr>\n",
       "    <tr>\n",
       "      <th>1</th>\n",
       "      <td>15.0</td>\n",
       "      <td>0.545533</td>\n",
       "    </tr>\n",
       "    <tr>\n",
       "      <th>2</th>\n",
       "      <td>16.0</td>\n",
       "      <td>0.539663</td>\n",
       "    </tr>\n",
       "    <tr>\n",
       "      <th>3</th>\n",
       "      <td>17.0</td>\n",
       "      <td>0.534748</td>\n",
       "    </tr>\n",
       "    <tr>\n",
       "      <th>4</th>\n",
       "      <td>18.0</td>\n",
       "      <td>0.529094</td>\n",
       "    </tr>\n",
       "    <tr>\n",
       "      <th>5</th>\n",
       "      <td>19.0</td>\n",
       "      <td>0.530089</td>\n",
       "    </tr>\n",
       "    <tr>\n",
       "      <th>6</th>\n",
       "      <td>20.0</td>\n",
       "      <td>0.527968</td>\n",
       "    </tr>\n",
       "    <tr>\n",
       "      <th>7</th>\n",
       "      <td>21.0</td>\n",
       "      <td>0.513796</td>\n",
       "    </tr>\n",
       "    <tr>\n",
       "      <th>8</th>\n",
       "      <td>22.0</td>\n",
       "      <td>0.513568</td>\n",
       "    </tr>\n",
       "    <tr>\n",
       "      <th>9</th>\n",
       "      <td>23.0</td>\n",
       "      <td>0.508437</td>\n",
       "    </tr>\n",
       "    <tr>\n",
       "      <th>10</th>\n",
       "      <td>24.0</td>\n",
       "      <td>0.512177</td>\n",
       "    </tr>\n",
       "    <tr>\n",
       "      <th>11</th>\n",
       "      <td>25.0</td>\n",
       "      <td>0.507572</td>\n",
       "    </tr>\n",
       "    <tr>\n",
       "      <th>12</th>\n",
       "      <td>26.0</td>\n",
       "      <td>0.509860</td>\n",
       "    </tr>\n",
       "    <tr>\n",
       "      <th>13</th>\n",
       "      <td>27.0</td>\n",
       "      <td>0.507877</td>\n",
       "    </tr>\n",
       "    <tr>\n",
       "      <th>14</th>\n",
       "      <td>28.0</td>\n",
       "      <td>0.501230</td>\n",
       "    </tr>\n",
       "    <tr>\n",
       "      <th>15</th>\n",
       "      <td>29.0</td>\n",
       "      <td>0.510796</td>\n",
       "    </tr>\n",
       "    <tr>\n",
       "      <th>16</th>\n",
       "      <td>30.0</td>\n",
       "      <td>0.507809</td>\n",
       "    </tr>\n",
       "    <tr>\n",
       "      <th>17</th>\n",
       "      <td>31.0</td>\n",
       "      <td>0.501129</td>\n",
       "    </tr>\n",
       "    <tr>\n",
       "      <th>18</th>\n",
       "      <td>32.0</td>\n",
       "      <td>0.505708</td>\n",
       "    </tr>\n",
       "    <tr>\n",
       "      <th>19</th>\n",
       "      <td>33.0</td>\n",
       "      <td>0.501257</td>\n",
       "    </tr>\n",
       "    <tr>\n",
       "      <th>20</th>\n",
       "      <td>34.0</td>\n",
       "      <td>0.491428</td>\n",
       "    </tr>\n",
       "    <tr>\n",
       "      <th>21</th>\n",
       "      <td>35.0</td>\n",
       "      <td>0.493555</td>\n",
       "    </tr>\n",
       "    <tr>\n",
       "      <th>22</th>\n",
       "      <td>36.0</td>\n",
       "      <td>0.486411</td>\n",
       "    </tr>\n",
       "    <tr>\n",
       "      <th>23</th>\n",
       "      <td>37.0</td>\n",
       "      <td>0.494206</td>\n",
       "    </tr>\n",
       "    <tr>\n",
       "      <th>24</th>\n",
       "      <td>38.0</td>\n",
       "      <td>0.491200</td>\n",
       "    </tr>\n",
       "    <tr>\n",
       "      <th>25</th>\n",
       "      <td>39.0</td>\n",
       "      <td>0.486511</td>\n",
       "    </tr>\n",
       "    <tr>\n",
       "      <th>26</th>\n",
       "      <td>40.0</td>\n",
       "      <td>0.497691</td>\n",
       "    </tr>\n",
       "    <tr>\n",
       "      <th>27</th>\n",
       "      <td>41.0</td>\n",
       "      <td>0.494229</td>\n",
       "    </tr>\n",
       "    <tr>\n",
       "      <th>28</th>\n",
       "      <td>42.0</td>\n",
       "      <td>0.487621</td>\n",
       "    </tr>\n",
       "    <tr>\n",
       "      <th>29</th>\n",
       "      <td>43.0</td>\n",
       "      <td>0.485883</td>\n",
       "    </tr>\n",
       "    <tr>\n",
       "      <th>...</th>\n",
       "      <td>...</td>\n",
       "      <td>...</td>\n",
       "    </tr>\n",
       "    <tr>\n",
       "      <th>156</th>\n",
       "      <td>170.0</td>\n",
       "      <td>0.472938</td>\n",
       "    </tr>\n",
       "    <tr>\n",
       "      <th>157</th>\n",
       "      <td>171.0</td>\n",
       "      <td>0.471086</td>\n",
       "    </tr>\n",
       "    <tr>\n",
       "      <th>158</th>\n",
       "      <td>172.0</td>\n",
       "      <td>0.469834</td>\n",
       "    </tr>\n",
       "    <tr>\n",
       "      <th>159</th>\n",
       "      <td>173.0</td>\n",
       "      <td>0.468902</td>\n",
       "    </tr>\n",
       "    <tr>\n",
       "      <th>160</th>\n",
       "      <td>174.0</td>\n",
       "      <td>0.470620</td>\n",
       "    </tr>\n",
       "    <tr>\n",
       "      <th>161</th>\n",
       "      <td>175.0</td>\n",
       "      <td>0.471342</td>\n",
       "    </tr>\n",
       "    <tr>\n",
       "      <th>162</th>\n",
       "      <td>176.0</td>\n",
       "      <td>0.471406</td>\n",
       "    </tr>\n",
       "    <tr>\n",
       "      <th>163</th>\n",
       "      <td>177.0</td>\n",
       "      <td>0.468098</td>\n",
       "    </tr>\n",
       "    <tr>\n",
       "      <th>164</th>\n",
       "      <td>178.0</td>\n",
       "      <td>0.465263</td>\n",
       "    </tr>\n",
       "    <tr>\n",
       "      <th>165</th>\n",
       "      <td>179.0</td>\n",
       "      <td>0.471899</td>\n",
       "    </tr>\n",
       "    <tr>\n",
       "      <th>166</th>\n",
       "      <td>180.0</td>\n",
       "      <td>0.467540</td>\n",
       "    </tr>\n",
       "    <tr>\n",
       "      <th>167</th>\n",
       "      <td>181.0</td>\n",
       "      <td>0.469696</td>\n",
       "    </tr>\n",
       "    <tr>\n",
       "      <th>168</th>\n",
       "      <td>182.0</td>\n",
       "      <td>0.470901</td>\n",
       "    </tr>\n",
       "    <tr>\n",
       "      <th>169</th>\n",
       "      <td>183.0</td>\n",
       "      <td>0.470814</td>\n",
       "    </tr>\n",
       "    <tr>\n",
       "      <th>170</th>\n",
       "      <td>184.0</td>\n",
       "      <td>0.467668</td>\n",
       "    </tr>\n",
       "    <tr>\n",
       "      <th>171</th>\n",
       "      <td>185.0</td>\n",
       "      <td>0.472591</td>\n",
       "    </tr>\n",
       "    <tr>\n",
       "      <th>172</th>\n",
       "      <td>186.0</td>\n",
       "      <td>0.469726</td>\n",
       "    </tr>\n",
       "    <tr>\n",
       "      <th>173</th>\n",
       "      <td>187.0</td>\n",
       "      <td>0.470749</td>\n",
       "    </tr>\n",
       "    <tr>\n",
       "      <th>174</th>\n",
       "      <td>188.0</td>\n",
       "      <td>0.467937</td>\n",
       "    </tr>\n",
       "    <tr>\n",
       "      <th>175</th>\n",
       "      <td>189.0</td>\n",
       "      <td>0.471505</td>\n",
       "    </tr>\n",
       "    <tr>\n",
       "      <th>176</th>\n",
       "      <td>190.0</td>\n",
       "      <td>0.471213</td>\n",
       "    </tr>\n",
       "    <tr>\n",
       "      <th>177</th>\n",
       "      <td>191.0</td>\n",
       "      <td>0.469406</td>\n",
       "    </tr>\n",
       "    <tr>\n",
       "      <th>178</th>\n",
       "      <td>192.0</td>\n",
       "      <td>0.470053</td>\n",
       "    </tr>\n",
       "    <tr>\n",
       "      <th>179</th>\n",
       "      <td>193.0</td>\n",
       "      <td>0.475131</td>\n",
       "    </tr>\n",
       "    <tr>\n",
       "      <th>180</th>\n",
       "      <td>194.0</td>\n",
       "      <td>0.471817</td>\n",
       "    </tr>\n",
       "    <tr>\n",
       "      <th>181</th>\n",
       "      <td>195.0</td>\n",
       "      <td>0.468712</td>\n",
       "    </tr>\n",
       "    <tr>\n",
       "      <th>182</th>\n",
       "      <td>196.0</td>\n",
       "      <td>0.471218</td>\n",
       "    </tr>\n",
       "    <tr>\n",
       "      <th>183</th>\n",
       "      <td>197.0</td>\n",
       "      <td>0.472955</td>\n",
       "    </tr>\n",
       "    <tr>\n",
       "      <th>184</th>\n",
       "      <td>198.0</td>\n",
       "      <td>0.469507</td>\n",
       "    </tr>\n",
       "    <tr>\n",
       "      <th>185</th>\n",
       "      <td>199.0</td>\n",
       "      <td>0.468353</td>\n",
       "    </tr>\n",
       "  </tbody>\n",
       "</table>\n",
       "<p>186 rows × 2 columns</p>\n",
       "</div>"
      ],
      "text/plain": [
       "     No.Trees     Error\n",
       "0        14.0  0.547605\n",
       "1        15.0  0.545533\n",
       "2        16.0  0.539663\n",
       "3        17.0  0.534748\n",
       "4        18.0  0.529094\n",
       "5        19.0  0.530089\n",
       "6        20.0  0.527968\n",
       "7        21.0  0.513796\n",
       "8        22.0  0.513568\n",
       "9        23.0  0.508437\n",
       "10       24.0  0.512177\n",
       "11       25.0  0.507572\n",
       "12       26.0  0.509860\n",
       "13       27.0  0.507877\n",
       "14       28.0  0.501230\n",
       "15       29.0  0.510796\n",
       "16       30.0  0.507809\n",
       "17       31.0  0.501129\n",
       "18       32.0  0.505708\n",
       "19       33.0  0.501257\n",
       "20       34.0  0.491428\n",
       "21       35.0  0.493555\n",
       "22       36.0  0.486411\n",
       "23       37.0  0.494206\n",
       "24       38.0  0.491200\n",
       "25       39.0  0.486511\n",
       "26       40.0  0.497691\n",
       "27       41.0  0.494229\n",
       "28       42.0  0.487621\n",
       "29       43.0  0.485883\n",
       "..        ...       ...\n",
       "156     170.0  0.472938\n",
       "157     171.0  0.471086\n",
       "158     172.0  0.469834\n",
       "159     173.0  0.468902\n",
       "160     174.0  0.470620\n",
       "161     175.0  0.471342\n",
       "162     176.0  0.471406\n",
       "163     177.0  0.468098\n",
       "164     178.0  0.465263\n",
       "165     179.0  0.471899\n",
       "166     180.0  0.467540\n",
       "167     181.0  0.469696\n",
       "168     182.0  0.470901\n",
       "169     183.0  0.470814\n",
       "170     184.0  0.467668\n",
       "171     185.0  0.472591\n",
       "172     186.0  0.469726\n",
       "173     187.0  0.470749\n",
       "174     188.0  0.467937\n",
       "175     189.0  0.471505\n",
       "176     190.0  0.471213\n",
       "177     191.0  0.469406\n",
       "178     192.0  0.470053\n",
       "179     193.0  0.475131\n",
       "180     194.0  0.471817\n",
       "181     195.0  0.468712\n",
       "182     196.0  0.471218\n",
       "183     197.0  0.472955\n",
       "184     198.0  0.469507\n",
       "185     199.0  0.468353\n",
       "\n",
       "[186 rows x 2 columns]"
      ]
     },
     "execution_count": 48,
     "metadata": {},
     "output_type": "execute_result"
    }
   ],
   "source": [
    "df=[]\n",
    "alp=np.arange(14,200,1)\n",
    "for i in alp:\n",
    "    rf2 = RandomForestRegressor(n_estimators = i,oob_score=True) ##42/3\n",
    "    rf2.fit(x_imp_var, y_train)\n",
    "    pred_cv2=rf2.predict(x_cv_imp_var)\n",
    "    #mse2 = np.mean((pred_cv2 - y_cv)**2)\n",
    "    #r_square2=rf.score(x_cv,y_cv)\n",
    "    error=1-rf2.oob_score_\n",
    "    al=round(i,3)\n",
    "    df.append([al,error])\n",
    "\n",
    "cols = ['No.Trees','Error']\n",
    "df1 = pd.DataFrame(df, columns=cols)    \n",
    "df1"
   ]
  },
  {
   "cell_type": "code",
   "execution_count": 49,
   "metadata": {
    "collapsed": true
   },
   "outputs": [],
   "source": [
    "import matplotlib.pyplot as plt\n",
    "%matplotlib inline"
   ]
  },
  {
   "cell_type": "code",
   "execution_count": 50,
   "metadata": {},
   "outputs": [
    {
     "data": {
      "image/png": "[encoded data removed]",
      "text/plain": [
       "<matplotlib.figure.Figure at 0x108a3080>"
      ]
     },
     "metadata": {},
     "output_type": "display_data"
    }
   ],
   "source": [
    "x_plot = plt.plot(df1['No.Trees'],df1['Error'], c='b')"
   ]
  },
  {
   "cell_type": "code",
   "execution_count": null,
   "metadata": {
    "collapsed": true
   },
   "outputs": [],
   "source": [
    "df=[]\n",
    "alp=np.arange(14,200,1)\n",
    "for i in alp:\n",
    "    rf2 = RandomForestRegressor(n_estimators = i,oob_score=True) ##42/3\n",
    "    rf2.fit(x_imp_var, y_train)\n",
    "    pred_cv2=rf2.predict(x_cv_imp_var)\n",
    "    #mse2 = np.mean((pred_cv2 - y_cv)**2)\n",
    "    #r_square2=rf.score(x_cv,y_cv)\n",
    "    error=1-rf2.oob_score_\n",
    "    al=round(i,3)\n",
    "    df.append([al,error])\n",
    "\n",
    "cols = ['No.Trees','Error']\n",
    "df1 = pd.DataFrame(df, columns=cols)    "
   ]
  },
  {
   "cell_type": "code",
   "execution_count": 54,
   "metadata": {},
   "outputs": [
    {
     "name": "stdout",
     "output_type": "stream",
     "text": [
      "0.934147025361\n",
      "0.524579290865\n"
     ]
    }
   ],
   "source": [
    "rf2 = RandomForestRegressor(n_estimators = 100,oob_score=True) ##42/3\n",
    "# Train the model on training data\n",
    "rf2.fit(x_imp_var, y_train)\n",
    "pred_cv2=rf2.predict(x_imp_var)\n",
    "\n",
    "#mse2 = np.mean((pred_cv2 - y_cv)**2)\n",
    "#rmse=np.sqrt(mse2)\n",
    "r_square2=rf2.score(x_imp_var,y_train)\n",
    "print(r_square2)\n",
    "print(rf2.oob_score_)"
   ]
  },
  {
   "cell_type": "code",
   "execution_count": 55,
   "metadata": {},
   "outputs": [
    {
     "name": "stdout",
     "output_type": "stream",
     "text": [
      "0.544676374321\n",
      "0.525748834\n"
     ]
    }
   ],
   "source": [
    "rf2 = RandomForestRegressor(n_estimators = 100,oob_score=True) ##42/3\n",
    "# Train the model on training data\n",
    "rf2.fit(x_imp_var, y_train)\n",
    "pred_cv2=rf2.predict(x_cv_imp_var)\n",
    "\n",
    "#mse2 = np.mean((pred_cv2 - y_cv)**2)\n",
    "#rmse=np.sqrt(mse2)\n",
    "r_square2=rf2.score(x_cv_imp_var,y_cv)\n",
    "print(r_square2)\n",
    "print(rf2.oob_score_)"
   ]
  },
  {
   "cell_type": "markdown",
   "metadata": {
    "scrolled": true
   },
   "source": [
    "###### from sklearn.model_selection import RandomizedSearchCV\n",
    "###### Number of trees in random forest\n",
    "n_estimators = [int(x) for x in np.linspace(start = 50, stop = 1500, num = 10)]\n",
    "###### Number of features to consider at every split\n",
    "max_features = ['auto', 'sqrt']\n",
    "###### Maximum number of levels in tree\n",
    "max_depth = [int(x) for x in np.linspace(10, 110, num = 11)]\n",
    "max_depth.append(None)\n",
    "###### Minimum number of samples required to split a node\n",
    "min_samples_split = [2, 5, 10]\n",
    "###### Minimum number of samples required at each leaf node\n",
    "min_samples_leaf = [1, 2, 4]\n",
    "###### Method of selecting samples for training each tree\n",
    "bootstrap = [True, False]\n",
    "###### Create the random grid\n",
    "random_grid = {'n_estimators': n_estimators,\n",
    "               'max_features': max_features,\n",
    "               'max_depth': max_depth,\n",
    "               'min_samples_split': min_samples_split,\n",
    "               'min_samples_leaf': min_samples_leaf,\n",
    "               'bootstrap': bootstrap}\n",
    "pprint(random_grid)\n",
    "{'bootstrap': [True, False],\n",
    " 'max_depth': [10, 20, 30, 40, 50, 60, 70, 80, 90, 100, None],\n",
    " 'max_features': ['auto', 'sqrt'],\n",
    " 'min_samples_leaf': [1, 2, 4],\n",
    " 'min_samples_split': [2, 5, 10],\n",
    " 'n_estimators': [200, 400, 600, 800, 1000, 1200, 1400, 1600, 1800, 2000]}"
   ]
  },
  {
   "cell_type": "code",
   "execution_count": 276,
   "metadata": {},
   "outputs": [
    {
     "name": "stdout",
     "output_type": "stream",
     "text": [
      "0.17.1\n"
     ]
    }
   ],
   "source": [
    "import sklearn\n",
    "sklearn.__version__b"
   ]
  },
  {
   "cell_type": "markdown",
   "metadata": {},
   "source": [
    "boosting: weaklearner to strong learner and sequential pattern\n",
    "stump:tree which having 2 nodes and it is weak learner(more misclassification/ more error)\n",
    "adaboost: combine all stumps\n",
    "equal importance in decision tree but in adaboost not gives equal importance based on error (more error more wietage)\n",
    "\n",
    "1. combine all weak learner\n",
    "2. dont give equal wietage\n",
    "3. sequential process"
   ]
  }
 ],
 "metadata": {
  "anaconda-cloud": {},
  "kernelspec": {
   "display_name": "Python 3",
   "language": "python",
   "name": "python3"
  },
  "language_info": {
   "codemirror_mode": {
    "name": "ipython",
    "version": 3
   },
   "file_extension": ".py",
   "mimetype": "text/x-python",
   "name": "python",
   "nbconvert_exporter": "python",
   "pygments_lexer": "ipython3",
   "version": "3.7.3"
  }
 },
 "nbformat": 4,
 "nbformat_minor": 1
}
